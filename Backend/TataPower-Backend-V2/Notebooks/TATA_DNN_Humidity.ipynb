{
  "cells": [
    {
      "cell_type": "code",
      "execution_count": 1,
      "metadata": {
        "colab": {
          "base_uri": "https://localhost:8080/"
        },
        "id": "8VT54AlqSCmM",
        "outputId": "9ca1d78d-1676-4f62-b478-c62572c6d95d"
      },
      "outputs": [
        {
          "output_type": "stream",
          "name": "stdout",
          "text": [
            "Collecting optuna\n",
            "  Downloading optuna-3.2.0-py3-none-any.whl (390 kB)\n",
            "\u001b[2K     \u001b[90m━━━━━━━━━━━━━━━━━━━━━━━━━━━━━━━━━━━━━━\u001b[0m \u001b[32m390.6/390.6 kB\u001b[0m \u001b[31m12.1 MB/s\u001b[0m eta \u001b[36m0:00:00\u001b[0m\n",
            "\u001b[?25hCollecting alembic>=1.5.0 (from optuna)\n",
            "  Downloading alembic-1.11.1-py3-none-any.whl (224 kB)\n",
            "\u001b[2K     \u001b[90m━━━━━━━━━━━━━━━━━━━━━━━━━━━━━━━━━━━━━━\u001b[0m \u001b[32m224.5/224.5 kB\u001b[0m \u001b[31m29.2 MB/s\u001b[0m eta \u001b[36m0:00:00\u001b[0m\n",
            "\u001b[?25hCollecting cmaes>=0.9.1 (from optuna)\n",
            "  Downloading cmaes-0.9.1-py3-none-any.whl (21 kB)\n",
            "Collecting colorlog (from optuna)\n",
            "  Downloading colorlog-6.7.0-py2.py3-none-any.whl (11 kB)\n",
            "Requirement already satisfied: numpy in /usr/local/lib/python3.10/dist-packages (from optuna) (1.22.4)\n",
            "Requirement already satisfied: packaging>=20.0 in /usr/local/lib/python3.10/dist-packages (from optuna) (23.1)\n",
            "Requirement already satisfied: sqlalchemy>=1.3.0 in /usr/local/lib/python3.10/dist-packages (from optuna) (2.0.18)\n",
            "Requirement already satisfied: tqdm in /usr/local/lib/python3.10/dist-packages (from optuna) (4.65.0)\n",
            "Requirement already satisfied: PyYAML in /usr/local/lib/python3.10/dist-packages (from optuna) (6.0)\n",
            "Collecting Mako (from alembic>=1.5.0->optuna)\n",
            "  Downloading Mako-1.2.4-py3-none-any.whl (78 kB)\n",
            "\u001b[2K     \u001b[90m━━━━━━━━━━━━━━━━━━━━━━━━━━━━━━━━━━━━━━━━\u001b[0m \u001b[32m78.7/78.7 kB\u001b[0m \u001b[31m11.8 MB/s\u001b[0m eta \u001b[36m0:00:00\u001b[0m\n",
            "\u001b[?25hRequirement already satisfied: typing-extensions>=4 in /usr/local/lib/python3.10/dist-packages (from alembic>=1.5.0->optuna) (4.7.1)\n",
            "Requirement already satisfied: greenlet!=0.4.17 in /usr/local/lib/python3.10/dist-packages (from sqlalchemy>=1.3.0->optuna) (2.0.2)\n",
            "Requirement already satisfied: MarkupSafe>=0.9.2 in /usr/local/lib/python3.10/dist-packages (from Mako->alembic>=1.5.0->optuna) (2.1.3)\n",
            "Installing collected packages: Mako, colorlog, cmaes, alembic, optuna\n",
            "Successfully installed Mako-1.2.4 alembic-1.11.1 cmaes-0.9.1 colorlog-6.7.0 optuna-3.2.0\n"
          ]
        }
      ],
      "source": [
        "!pip install optuna"
      ]
    },
    {
      "cell_type": "code",
      "execution_count": 2,
      "metadata": {
        "id": "NqbBeqwNEO_r"
      },
      "outputs": [],
      "source": [
        "import numpy as np\n",
        "import pandas as pd\n",
        "import matplotlib.pyplot as plt\n",
        "import tensorflow as tf\n",
        "from tensorflow.keras.models import Sequential\n",
        "from tensorflow.keras.layers import Flatten\n",
        "from sklearn.preprocessing import MinMaxScaler\n",
        "from sklearn.model_selection import train_test_split\n",
        "from sklearn.preprocessing import MinMaxScaler\n",
        "from keras.models import Sequential\n",
        "from keras.layers import LSTM, Dense, LeakyReLU, ReLU\n",
        "import optuna\n",
        "from tensorflow import keras"
      ]
    },
    {
      "cell_type": "code",
      "execution_count": 3,
      "metadata": {
        "colab": {
          "base_uri": "https://localhost:8080/"
        },
        "id": "K3Z3jWmdESoU",
        "outputId": "3666288d-b364-4226-e5b1-19c3a2d33bd2"
      },
      "outputs": [
        {
          "output_type": "stream",
          "name": "stdout",
          "text": [
            "Drive already mounted at /content/drive; to attempt to forcibly remount, call drive.mount(\"/content/drive\", force_remount=True).\n"
          ]
        }
      ],
      "source": [
        "from google.colab import drive\n",
        "drive.mount('/content/drive')"
      ]
    },
    {
      "cell_type": "code",
      "execution_count": 4,
      "metadata": {
        "id": "I06ht0knEWbp"
      },
      "outputs": [],
      "source": [
        "\n",
        "# Load the datasets\n",
        "dataset1 = pd.read_csv('/content/drive/MyDrive/tata/2018.csv')\n",
        "dataset2 = pd.read_csv('/content/drive/MyDrive/tata/2019.csv')\n",
        "dataset3 = pd.read_csv('/content/drive/MyDrive/tata/2020.csv')\n"
      ]
    },
    {
      "cell_type": "code",
      "execution_count": 5,
      "metadata": {
        "colab": {
          "base_uri": "https://localhost:8080/",
          "height": 424
        },
        "id": "M-SNiSM1FRsb",
        "outputId": "db845dba-074f-4d90-b59b-3e1c5b4efe59"
      },
      "outputs": [
        {
          "output_type": "execute_result",
          "data": {
            "text/plain": [
              "               DateTime         RH    Temp        Load\n",
              "0      01-01-2018 00:00  80.423000  18.160  174.542804\n",
              "1      01-01-2018 00:15  81.471000  18.064  175.981604\n",
              "2      01-01-2018 00:30  82.675000  17.927  178.636804\n",
              "3      01-01-2018 00:45  84.552000  17.745  180.045604\n",
              "4      01-01-2018 01:00  86.663000  17.751  182.254000\n",
              "...                 ...        ...     ...         ...\n",
              "35035  31-12-2018 22:45  63.469773  17.647  181.566544\n",
              "35036  31-12-2018 23:00  61.612709  17.761  181.542448\n",
              "35037  31-12-2018 23:15  61.666345  17.689  181.600600\n",
              "35038  31-12-2018 23:30  60.732709  17.818  183.150424\n",
              "35039  31-12-2018 23:45  60.940891  17.827  183.731516\n",
              "\n",
              "[35040 rows x 4 columns]"
            ],
            "text/html": [
              "\n",
              "\n",
              "  <div id=\"df-0031da05-b420-43cd-8d60-e5ceba3fe337\">\n",
              "    <div class=\"colab-df-container\">\n",
              "      <div>\n",
              "<style scoped>\n",
              "    .dataframe tbody tr th:only-of-type {\n",
              "        vertical-align: middle;\n",
              "    }\n",
              "\n",
              "    .dataframe tbody tr th {\n",
              "        vertical-align: top;\n",
              "    }\n",
              "\n",
              "    .dataframe thead th {\n",
              "        text-align: right;\n",
              "    }\n",
              "</style>\n",
              "<table border=\"1\" class=\"dataframe\">\n",
              "  <thead>\n",
              "    <tr style=\"text-align: right;\">\n",
              "      <th></th>\n",
              "      <th>DateTime</th>\n",
              "      <th>RH</th>\n",
              "      <th>Temp</th>\n",
              "      <th>Load</th>\n",
              "    </tr>\n",
              "  </thead>\n",
              "  <tbody>\n",
              "    <tr>\n",
              "      <th>0</th>\n",
              "      <td>01-01-2018 00:00</td>\n",
              "      <td>80.423000</td>\n",
              "      <td>18.160</td>\n",
              "      <td>174.542804</td>\n",
              "    </tr>\n",
              "    <tr>\n",
              "      <th>1</th>\n",
              "      <td>01-01-2018 00:15</td>\n",
              "      <td>81.471000</td>\n",
              "      <td>18.064</td>\n",
              "      <td>175.981604</td>\n",
              "    </tr>\n",
              "    <tr>\n",
              "      <th>2</th>\n",
              "      <td>01-01-2018 00:30</td>\n",
              "      <td>82.675000</td>\n",
              "      <td>17.927</td>\n",
              "      <td>178.636804</td>\n",
              "    </tr>\n",
              "    <tr>\n",
              "      <th>3</th>\n",
              "      <td>01-01-2018 00:45</td>\n",
              "      <td>84.552000</td>\n",
              "      <td>17.745</td>\n",
              "      <td>180.045604</td>\n",
              "    </tr>\n",
              "    <tr>\n",
              "      <th>4</th>\n",
              "      <td>01-01-2018 01:00</td>\n",
              "      <td>86.663000</td>\n",
              "      <td>17.751</td>\n",
              "      <td>182.254000</td>\n",
              "    </tr>\n",
              "    <tr>\n",
              "      <th>...</th>\n",
              "      <td>...</td>\n",
              "      <td>...</td>\n",
              "      <td>...</td>\n",
              "      <td>...</td>\n",
              "    </tr>\n",
              "    <tr>\n",
              "      <th>35035</th>\n",
              "      <td>31-12-2018 22:45</td>\n",
              "      <td>63.469773</td>\n",
              "      <td>17.647</td>\n",
              "      <td>181.566544</td>\n",
              "    </tr>\n",
              "    <tr>\n",
              "      <th>35036</th>\n",
              "      <td>31-12-2018 23:00</td>\n",
              "      <td>61.612709</td>\n",
              "      <td>17.761</td>\n",
              "      <td>181.542448</td>\n",
              "    </tr>\n",
              "    <tr>\n",
              "      <th>35037</th>\n",
              "      <td>31-12-2018 23:15</td>\n",
              "      <td>61.666345</td>\n",
              "      <td>17.689</td>\n",
              "      <td>181.600600</td>\n",
              "    </tr>\n",
              "    <tr>\n",
              "      <th>35038</th>\n",
              "      <td>31-12-2018 23:30</td>\n",
              "      <td>60.732709</td>\n",
              "      <td>17.818</td>\n",
              "      <td>183.150424</td>\n",
              "    </tr>\n",
              "    <tr>\n",
              "      <th>35039</th>\n",
              "      <td>31-12-2018 23:45</td>\n",
              "      <td>60.940891</td>\n",
              "      <td>17.827</td>\n",
              "      <td>183.731516</td>\n",
              "    </tr>\n",
              "  </tbody>\n",
              "</table>\n",
              "<p>35040 rows × 4 columns</p>\n",
              "</div>\n",
              "      <button class=\"colab-df-convert\" onclick=\"convertToInteractive('df-0031da05-b420-43cd-8d60-e5ceba3fe337')\"\n",
              "              title=\"Convert this dataframe to an interactive table.\"\n",
              "              style=\"display:none;\">\n",
              "\n",
              "  <svg xmlns=\"http://www.w3.org/2000/svg\" height=\"24px\"viewBox=\"0 0 24 24\"\n",
              "       width=\"24px\">\n",
              "    <path d=\"M0 0h24v24H0V0z\" fill=\"none\"/>\n",
              "    <path d=\"M18.56 5.44l.94 2.06.94-2.06 2.06-.94-2.06-.94-.94-2.06-.94 2.06-2.06.94zm-11 1L8.5 8.5l.94-2.06 2.06-.94-2.06-.94L8.5 2.5l-.94 2.06-2.06.94zm10 10l.94 2.06.94-2.06 2.06-.94-2.06-.94-.94-2.06-.94 2.06-2.06.94z\"/><path d=\"M17.41 7.96l-1.37-1.37c-.4-.4-.92-.59-1.43-.59-.52 0-1.04.2-1.43.59L10.3 9.45l-7.72 7.72c-.78.78-.78 2.05 0 2.83L4 21.41c.39.39.9.59 1.41.59.51 0 1.02-.2 1.41-.59l7.78-7.78 2.81-2.81c.8-.78.8-2.07 0-2.86zM5.41 20L4 18.59l7.72-7.72 1.47 1.35L5.41 20z\"/>\n",
              "  </svg>\n",
              "      </button>\n",
              "\n",
              "\n",
              "\n",
              "    <div id=\"df-32c3d2be-27a7-4582-8c71-dc2933840752\">\n",
              "      <button class=\"colab-df-quickchart\" onclick=\"quickchart('df-32c3d2be-27a7-4582-8c71-dc2933840752')\"\n",
              "              title=\"Suggest charts.\"\n",
              "              style=\"display:none;\">\n",
              "\n",
              "<svg xmlns=\"http://www.w3.org/2000/svg\" height=\"24px\"viewBox=\"0 0 24 24\"\n",
              "     width=\"24px\">\n",
              "    <g>\n",
              "        <path d=\"M19 3H5c-1.1 0-2 .9-2 2v14c0 1.1.9 2 2 2h14c1.1 0 2-.9 2-2V5c0-1.1-.9-2-2-2zM9 17H7v-7h2v7zm4 0h-2V7h2v10zm4 0h-2v-4h2v4z\"/>\n",
              "    </g>\n",
              "</svg>\n",
              "      </button>\n",
              "    </div>\n",
              "\n",
              "<style>\n",
              "  .colab-df-quickchart {\n",
              "    background-color: #E8F0FE;\n",
              "    border: none;\n",
              "    border-radius: 50%;\n",
              "    cursor: pointer;\n",
              "    display: none;\n",
              "    fill: #1967D2;\n",
              "    height: 32px;\n",
              "    padding: 0 0 0 0;\n",
              "    width: 32px;\n",
              "  }\n",
              "\n",
              "  .colab-df-quickchart:hover {\n",
              "    background-color: #E2EBFA;\n",
              "    box-shadow: 0px 1px 2px rgba(60, 64, 67, 0.3), 0px 1px 3px 1px rgba(60, 64, 67, 0.15);\n",
              "    fill: #174EA6;\n",
              "  }\n",
              "\n",
              "  [theme=dark] .colab-df-quickchart {\n",
              "    background-color: #3B4455;\n",
              "    fill: #D2E3FC;\n",
              "  }\n",
              "\n",
              "  [theme=dark] .colab-df-quickchart:hover {\n",
              "    background-color: #434B5C;\n",
              "    box-shadow: 0px 1px 3px 1px rgba(0, 0, 0, 0.15);\n",
              "    filter: drop-shadow(0px 1px 2px rgba(0, 0, 0, 0.3));\n",
              "    fill: #FFFFFF;\n",
              "  }\n",
              "</style>\n",
              "\n",
              "    <script>\n",
              "      async function quickchart(key) {\n",
              "        const containerElement = document.querySelector('#' + key);\n",
              "        const charts = await google.colab.kernel.invokeFunction(\n",
              "            'suggestCharts', [key], {});\n",
              "      }\n",
              "    </script>\n",
              "\n",
              "      <script>\n",
              "\n",
              "function displayQuickchartButton(domScope) {\n",
              "  let quickchartButtonEl =\n",
              "    domScope.querySelector('#df-32c3d2be-27a7-4582-8c71-dc2933840752 button.colab-df-quickchart');\n",
              "  quickchartButtonEl.style.display =\n",
              "    google.colab.kernel.accessAllowed ? 'block' : 'none';\n",
              "}\n",
              "\n",
              "        displayQuickchartButton(document);\n",
              "      </script>\n",
              "      <style>\n",
              "    .colab-df-container {\n",
              "      display:flex;\n",
              "      flex-wrap:wrap;\n",
              "      gap: 12px;\n",
              "    }\n",
              "\n",
              "    .colab-df-convert {\n",
              "      background-color: #E8F0FE;\n",
              "      border: none;\n",
              "      border-radius: 50%;\n",
              "      cursor: pointer;\n",
              "      display: none;\n",
              "      fill: #1967D2;\n",
              "      height: 32px;\n",
              "      padding: 0 0 0 0;\n",
              "      width: 32px;\n",
              "    }\n",
              "\n",
              "    .colab-df-convert:hover {\n",
              "      background-color: #E2EBFA;\n",
              "      box-shadow: 0px 1px 2px rgba(60, 64, 67, 0.3), 0px 1px 3px 1px rgba(60, 64, 67, 0.15);\n",
              "      fill: #174EA6;\n",
              "    }\n",
              "\n",
              "    [theme=dark] .colab-df-convert {\n",
              "      background-color: #3B4455;\n",
              "      fill: #D2E3FC;\n",
              "    }\n",
              "\n",
              "    [theme=dark] .colab-df-convert:hover {\n",
              "      background-color: #434B5C;\n",
              "      box-shadow: 0px 1px 3px 1px rgba(0, 0, 0, 0.15);\n",
              "      filter: drop-shadow(0px 1px 2px rgba(0, 0, 0, 0.3));\n",
              "      fill: #FFFFFF;\n",
              "    }\n",
              "  </style>\n",
              "\n",
              "      <script>\n",
              "        const buttonEl =\n",
              "          document.querySelector('#df-0031da05-b420-43cd-8d60-e5ceba3fe337 button.colab-df-convert');\n",
              "        buttonEl.style.display =\n",
              "          google.colab.kernel.accessAllowed ? 'block' : 'none';\n",
              "\n",
              "        async function convertToInteractive(key) {\n",
              "          const element = document.querySelector('#df-0031da05-b420-43cd-8d60-e5ceba3fe337');\n",
              "          const dataTable =\n",
              "            await google.colab.kernel.invokeFunction('convertToInteractive',\n",
              "                                                     [key], {});\n",
              "          if (!dataTable) return;\n",
              "\n",
              "          const docLinkHtml = 'Like what you see? Visit the ' +\n",
              "            '<a target=\"_blank\" href=https://colab.research.google.com/notebooks/data_table.ipynb>data table notebook</a>'\n",
              "            + ' to learn more about interactive tables.';\n",
              "          element.innerHTML = '';\n",
              "          dataTable['output_type'] = 'display_data';\n",
              "          await google.colab.output.renderOutput(dataTable, element);\n",
              "          const docLink = document.createElement('div');\n",
              "          docLink.innerHTML = docLinkHtml;\n",
              "          element.appendChild(docLink);\n",
              "        }\n",
              "      </script>\n",
              "    </div>\n",
              "  </div>\n"
            ]
          },
          "metadata": {},
          "execution_count": 5
        }
      ],
      "source": [
        "dataset1"
      ]
    },
    {
      "cell_type": "code",
      "execution_count": 6,
      "metadata": {
        "id": "XWDsOG6tFdJT"
      },
      "outputs": [],
      "source": [
        "df_all = pd.concat((dataset1, dataset2, dataset3), axis=0)\n"
      ]
    },
    {
      "cell_type": "code",
      "execution_count": 7,
      "metadata": {
        "id": "-epXIcjEIuGH"
      },
      "outputs": [],
      "source": [
        "df_all = df_all.set_index('DateTime')"
      ]
    },
    {
      "cell_type": "code",
      "execution_count": 8,
      "metadata": {
        "id": "qDAMVaRNFnrz"
      },
      "outputs": [],
      "source": [
        "\n",
        "df_rh = df_all.drop(['Load', 'Temp'], axis=1)"
      ]
    },
    {
      "cell_type": "code",
      "execution_count": 9,
      "metadata": {
        "colab": {
          "base_uri": "https://localhost:8080/",
          "height": 238
        },
        "id": "VP32zCCMIxGq",
        "outputId": "579551c1-8c0b-4aca-d588-77b5cb7228e6"
      },
      "outputs": [
        {
          "output_type": "execute_result",
          "data": {
            "text/plain": [
              "                      RH\n",
              "DateTime                \n",
              "01-01-2018 00:00  80.423\n",
              "01-01-2018 00:15  81.471\n",
              "01-01-2018 00:30  82.675\n",
              "01-01-2018 00:45  84.552\n",
              "01-01-2018 01:00  86.663"
            ],
            "text/html": [
              "\n",
              "\n",
              "  <div id=\"df-3e3b60b9-0a8f-49ac-9548-e6da1714cdb5\">\n",
              "    <div class=\"colab-df-container\">\n",
              "      <div>\n",
              "<style scoped>\n",
              "    .dataframe tbody tr th:only-of-type {\n",
              "        vertical-align: middle;\n",
              "    }\n",
              "\n",
              "    .dataframe tbody tr th {\n",
              "        vertical-align: top;\n",
              "    }\n",
              "\n",
              "    .dataframe thead th {\n",
              "        text-align: right;\n",
              "    }\n",
              "</style>\n",
              "<table border=\"1\" class=\"dataframe\">\n",
              "  <thead>\n",
              "    <tr style=\"text-align: right;\">\n",
              "      <th></th>\n",
              "      <th>RH</th>\n",
              "    </tr>\n",
              "    <tr>\n",
              "      <th>DateTime</th>\n",
              "      <th></th>\n",
              "    </tr>\n",
              "  </thead>\n",
              "  <tbody>\n",
              "    <tr>\n",
              "      <th>01-01-2018 00:00</th>\n",
              "      <td>80.423</td>\n",
              "    </tr>\n",
              "    <tr>\n",
              "      <th>01-01-2018 00:15</th>\n",
              "      <td>81.471</td>\n",
              "    </tr>\n",
              "    <tr>\n",
              "      <th>01-01-2018 00:30</th>\n",
              "      <td>82.675</td>\n",
              "    </tr>\n",
              "    <tr>\n",
              "      <th>01-01-2018 00:45</th>\n",
              "      <td>84.552</td>\n",
              "    </tr>\n",
              "    <tr>\n",
              "      <th>01-01-2018 01:00</th>\n",
              "      <td>86.663</td>\n",
              "    </tr>\n",
              "  </tbody>\n",
              "</table>\n",
              "</div>\n",
              "      <button class=\"colab-df-convert\" onclick=\"convertToInteractive('df-3e3b60b9-0a8f-49ac-9548-e6da1714cdb5')\"\n",
              "              title=\"Convert this dataframe to an interactive table.\"\n",
              "              style=\"display:none;\">\n",
              "\n",
              "  <svg xmlns=\"http://www.w3.org/2000/svg\" height=\"24px\"viewBox=\"0 0 24 24\"\n",
              "       width=\"24px\">\n",
              "    <path d=\"M0 0h24v24H0V0z\" fill=\"none\"/>\n",
              "    <path d=\"M18.56 5.44l.94 2.06.94-2.06 2.06-.94-2.06-.94-.94-2.06-.94 2.06-2.06.94zm-11 1L8.5 8.5l.94-2.06 2.06-.94-2.06-.94L8.5 2.5l-.94 2.06-2.06.94zm10 10l.94 2.06.94-2.06 2.06-.94-2.06-.94-.94-2.06-.94 2.06-2.06.94z\"/><path d=\"M17.41 7.96l-1.37-1.37c-.4-.4-.92-.59-1.43-.59-.52 0-1.04.2-1.43.59L10.3 9.45l-7.72 7.72c-.78.78-.78 2.05 0 2.83L4 21.41c.39.39.9.59 1.41.59.51 0 1.02-.2 1.41-.59l7.78-7.78 2.81-2.81c.8-.78.8-2.07 0-2.86zM5.41 20L4 18.59l7.72-7.72 1.47 1.35L5.41 20z\"/>\n",
              "  </svg>\n",
              "      </button>\n",
              "\n",
              "\n",
              "\n",
              "    <div id=\"df-c0c5d00d-c4a6-47aa-9f14-6bbfa2e44cb6\">\n",
              "      <button class=\"colab-df-quickchart\" onclick=\"quickchart('df-c0c5d00d-c4a6-47aa-9f14-6bbfa2e44cb6')\"\n",
              "              title=\"Suggest charts.\"\n",
              "              style=\"display:none;\">\n",
              "\n",
              "<svg xmlns=\"http://www.w3.org/2000/svg\" height=\"24px\"viewBox=\"0 0 24 24\"\n",
              "     width=\"24px\">\n",
              "    <g>\n",
              "        <path d=\"M19 3H5c-1.1 0-2 .9-2 2v14c0 1.1.9 2 2 2h14c1.1 0 2-.9 2-2V5c0-1.1-.9-2-2-2zM9 17H7v-7h2v7zm4 0h-2V7h2v10zm4 0h-2v-4h2v4z\"/>\n",
              "    </g>\n",
              "</svg>\n",
              "      </button>\n",
              "    </div>\n",
              "\n",
              "<style>\n",
              "  .colab-df-quickchart {\n",
              "    background-color: #E8F0FE;\n",
              "    border: none;\n",
              "    border-radius: 50%;\n",
              "    cursor: pointer;\n",
              "    display: none;\n",
              "    fill: #1967D2;\n",
              "    height: 32px;\n",
              "    padding: 0 0 0 0;\n",
              "    width: 32px;\n",
              "  }\n",
              "\n",
              "  .colab-df-quickchart:hover {\n",
              "    background-color: #E2EBFA;\n",
              "    box-shadow: 0px 1px 2px rgba(60, 64, 67, 0.3), 0px 1px 3px 1px rgba(60, 64, 67, 0.15);\n",
              "    fill: #174EA6;\n",
              "  }\n",
              "\n",
              "  [theme=dark] .colab-df-quickchart {\n",
              "    background-color: #3B4455;\n",
              "    fill: #D2E3FC;\n",
              "  }\n",
              "\n",
              "  [theme=dark] .colab-df-quickchart:hover {\n",
              "    background-color: #434B5C;\n",
              "    box-shadow: 0px 1px 3px 1px rgba(0, 0, 0, 0.15);\n",
              "    filter: drop-shadow(0px 1px 2px rgba(0, 0, 0, 0.3));\n",
              "    fill: #FFFFFF;\n",
              "  }\n",
              "</style>\n",
              "\n",
              "    <script>\n",
              "      async function quickchart(key) {\n",
              "        const containerElement = document.querySelector('#' + key);\n",
              "        const charts = await google.colab.kernel.invokeFunction(\n",
              "            'suggestCharts', [key], {});\n",
              "      }\n",
              "    </script>\n",
              "\n",
              "      <script>\n",
              "\n",
              "function displayQuickchartButton(domScope) {\n",
              "  let quickchartButtonEl =\n",
              "    domScope.querySelector('#df-c0c5d00d-c4a6-47aa-9f14-6bbfa2e44cb6 button.colab-df-quickchart');\n",
              "  quickchartButtonEl.style.display =\n",
              "    google.colab.kernel.accessAllowed ? 'block' : 'none';\n",
              "}\n",
              "\n",
              "        displayQuickchartButton(document);\n",
              "      </script>\n",
              "      <style>\n",
              "    .colab-df-container {\n",
              "      display:flex;\n",
              "      flex-wrap:wrap;\n",
              "      gap: 12px;\n",
              "    }\n",
              "\n",
              "    .colab-df-convert {\n",
              "      background-color: #E8F0FE;\n",
              "      border: none;\n",
              "      border-radius: 50%;\n",
              "      cursor: pointer;\n",
              "      display: none;\n",
              "      fill: #1967D2;\n",
              "      height: 32px;\n",
              "      padding: 0 0 0 0;\n",
              "      width: 32px;\n",
              "    }\n",
              "\n",
              "    .colab-df-convert:hover {\n",
              "      background-color: #E2EBFA;\n",
              "      box-shadow: 0px 1px 2px rgba(60, 64, 67, 0.3), 0px 1px 3px 1px rgba(60, 64, 67, 0.15);\n",
              "      fill: #174EA6;\n",
              "    }\n",
              "\n",
              "    [theme=dark] .colab-df-convert {\n",
              "      background-color: #3B4455;\n",
              "      fill: #D2E3FC;\n",
              "    }\n",
              "\n",
              "    [theme=dark] .colab-df-convert:hover {\n",
              "      background-color: #434B5C;\n",
              "      box-shadow: 0px 1px 3px 1px rgba(0, 0, 0, 0.15);\n",
              "      filter: drop-shadow(0px 1px 2px rgba(0, 0, 0, 0.3));\n",
              "      fill: #FFFFFF;\n",
              "    }\n",
              "  </style>\n",
              "\n",
              "      <script>\n",
              "        const buttonEl =\n",
              "          document.querySelector('#df-3e3b60b9-0a8f-49ac-9548-e6da1714cdb5 button.colab-df-convert');\n",
              "        buttonEl.style.display =\n",
              "          google.colab.kernel.accessAllowed ? 'block' : 'none';\n",
              "\n",
              "        async function convertToInteractive(key) {\n",
              "          const element = document.querySelector('#df-3e3b60b9-0a8f-49ac-9548-e6da1714cdb5');\n",
              "          const dataTable =\n",
              "            await google.colab.kernel.invokeFunction('convertToInteractive',\n",
              "                                                     [key], {});\n",
              "          if (!dataTable) return;\n",
              "\n",
              "          const docLinkHtml = 'Like what you see? Visit the ' +\n",
              "            '<a target=\"_blank\" href=https://colab.research.google.com/notebooks/data_table.ipynb>data table notebook</a>'\n",
              "            + ' to learn more about interactive tables.';\n",
              "          element.innerHTML = '';\n",
              "          dataTable['output_type'] = 'display_data';\n",
              "          await google.colab.output.renderOutput(dataTable, element);\n",
              "          const docLink = document.createElement('div');\n",
              "          docLink.innerHTML = docLinkHtml;\n",
              "          element.appendChild(docLink);\n",
              "        }\n",
              "      </script>\n",
              "    </div>\n",
              "  </div>\n"
            ]
          },
          "metadata": {},
          "execution_count": 9
        }
      ],
      "source": [
        "df_rh.head()"
      ]
    },
    {
      "cell_type": "code",
      "execution_count": 10,
      "metadata": {
        "colab": {
          "base_uri": "https://localhost:8080/"
        },
        "id": "b0iC6iUwIweJ",
        "outputId": "ed8d1c7f-3110-4f80-fa42-ff430bd02637"
      },
      "outputs": [
        {
          "output_type": "execute_result",
          "data": {
            "text/plain": [
              "array([[80.423],\n",
              "       [81.471],\n",
              "       [82.675],\n",
              "       ...,\n",
              "       [82.6  ],\n",
              "       [82.37 ],\n",
              "       [82.5  ]])"
            ]
          },
          "metadata": {},
          "execution_count": 10
        }
      ],
      "source": [
        "np_rh = df_rh.to_numpy()\n",
        "np_rh"
      ]
    },
    {
      "cell_type": "code",
      "execution_count": 11,
      "metadata": {
        "id": "zPxUxt_cJedx"
      },
      "outputs": [],
      "source": [
        "np_rh = np_rh.astype(np.float32)\n",
        "np.save('/content/drive/MyDrive/tata/combined_RH_data.npy', np_rh)"
      ]
    },
    {
      "cell_type": "code",
      "execution_count": 12,
      "metadata": {
        "colab": {
          "base_uri": "https://localhost:8080/"
        },
        "id": "8Y32edSrJgo2",
        "outputId": "742a0edf-3eae-46f1-8271-06b894bbd30b"
      },
      "outputs": [
        {
          "output_type": "execute_result",
          "data": {
            "text/plain": [
              "array([[80.423],\n",
              "       [81.471],\n",
              "       [82.675],\n",
              "       ...,\n",
              "       [82.6  ],\n",
              "       [82.37 ],\n",
              "       [82.5  ]], dtype=float32)"
            ]
          },
          "metadata": {},
          "execution_count": 12
        }
      ],
      "source": [
        "np_rh"
      ]
    },
    {
      "cell_type": "code",
      "execution_count": 13,
      "metadata": {
        "id": "_UkRfBfnqg2F"
      },
      "outputs": [],
      "source": [
        "Data = np.load('/content/drive/MyDrive/tata/combined_RH_data.npy',allow_pickle=True)"
      ]
    },
    {
      "cell_type": "code",
      "execution_count": 14,
      "metadata": {
        "colab": {
          "base_uri": "https://localhost:8080/"
        },
        "id": "uksgeU_CSoMf",
        "outputId": "b7dafa6f-984e-4452-925c-afd90dbc68f0"
      },
      "outputs": [
        {
          "output_type": "execute_result",
          "data": {
            "text/plain": [
              "array([[80.423],\n",
              "       [81.471],\n",
              "       [82.675],\n",
              "       ...,\n",
              "       [82.6  ],\n",
              "       [82.37 ],\n",
              "       [82.5  ]], dtype=float32)"
            ]
          },
          "metadata": {},
          "execution_count": 14
        }
      ],
      "source": [
        "Data"
      ]
    },
    {
      "cell_type": "code",
      "execution_count": 15,
      "metadata": {
        "id": "zaepXj4Dq0lp"
      },
      "outputs": [],
      "source": [
        "# scaler = MinMaxScaler()\n",
        "# model=scaler.fit(Data.reshape(Data.shape[0],Data.shape[1]))\n",
        "# scaled_data=model.transform(Data.reshape(Data.shape[0],Data.shape[1]))\n",
        "# X = []\n",
        "# y = []\n",
        "# for i in range(14 ,scaled_data.shape[0]-7):\n",
        "#    X.append(scaled_data[i-14:i])\n",
        "#    y.append(scaled_data[i:i+7])\n",
        "# X = np.array(X)\n",
        "# y = np.array(y)\n",
        "# y=y.reshape(X.shape[0],y.shape[1]*y.shape[2])\n",
        "# X_train, X_test,y_train, y_test = train_test_split(X,y,test_size=0.25,shuffle=False)"
      ]
    },
    {
      "cell_type": "code",
      "execution_count": 16,
      "metadata": {
        "id": "97f8oKSXpEje"
      },
      "outputs": [],
      "source": [
        "# Normalize the data\n",
        "scaler = MinMaxScaler(feature_range=(0, 1))\n",
        "humidity_scaled = scaler.fit_transform(Data)\n",
        "\n",
        "# Prepare the dataset for DNN\n",
        "n_steps = 192  # Number of time steps per sample\n",
        "X, y = [], []\n",
        "for i in range(672, len(humidity_scaled) - n_steps):\n",
        "    X.append(humidity_scaled[i-672:i])\n",
        "    y.append(humidity_scaled[i:i+192])\n",
        "X, y = np.array(X), np.array(y)\n",
        "\n",
        "y=y.reshape(X.shape[0],y.shape[1]*y.shape[2])\n",
        "X_train, X_test,y_train, y_test = train_test_split(X,y,test_size=0.25,shuffle=False)"
      ]
    },
    {
      "cell_type": "code",
      "execution_count": 19,
      "metadata": {
        "colab": {
          "base_uri": "https://localhost:8080/"
        },
        "id": "00FkhAgAJrRD",
        "outputId": "5f6ca74a-a467-42e3-c983-75b6d24ab7f9"
      },
      "outputs": [
        {
          "output_type": "stream",
          "name": "stderr",
          "text": [
            "[I 2023-07-18 12:21:41,221] A new study created in memory with name: no-name-40dc75b2-83e0-4945-904c-e7271d0c9383\n"
          ]
        },
        {
          "output_type": "stream",
          "name": "stdout",
          "text": [
            "Epoch 1/16\n",
            "4403/4403 [==============================] - 32s 6ms/step - loss: 0.0129 - mse: 0.0129 - val_loss: 0.0207 - val_mse: 0.0207\n",
            "Epoch 2/16\n",
            "4403/4403 [==============================] - 27s 6ms/step - loss: 0.0081 - mse: 0.0081 - val_loss: 0.0110 - val_mse: 0.0110\n",
            "Epoch 3/16\n",
            "4403/4403 [==============================] - 26s 6ms/step - loss: 0.0063 - mse: 0.0063 - val_loss: 0.0104 - val_mse: 0.0104\n",
            "Epoch 4/16\n",
            "4403/4403 [==============================] - 27s 6ms/step - loss: 0.0060 - mse: 0.0060 - val_loss: 0.0105 - val_mse: 0.0105\n",
            "Epoch 5/16\n",
            "4403/4403 [==============================] - 26s 6ms/step - loss: 0.0059 - mse: 0.0059 - val_loss: 0.0114 - val_mse: 0.0114\n",
            "Epoch 6/16\n",
            "4403/4403 [==============================] - 26s 6ms/step - loss: 0.0057 - mse: 0.0057 - val_loss: 0.0104 - val_mse: 0.0104\n",
            "Epoch 7/16\n",
            "4403/4403 [==============================] - 27s 6ms/step - loss: 0.0056 - mse: 0.0056 - val_loss: 0.0113 - val_mse: 0.0113\n",
            "Epoch 8/16\n",
            "4403/4403 [==============================] - 28s 6ms/step - loss: 0.0056 - mse: 0.0056 - val_loss: 0.0106 - val_mse: 0.0106\n",
            "Epoch 9/16\n",
            "4403/4403 [==============================] - 25s 6ms/step - loss: 0.0055 - mse: 0.0055 - val_loss: 0.0107 - val_mse: 0.0107\n",
            "Epoch 10/16\n",
            "4403/4403 [==============================] - 26s 6ms/step - loss: 0.0055 - mse: 0.0055 - val_loss: 0.0106 - val_mse: 0.0106\n",
            "Epoch 11/16\n",
            "4403/4403 [==============================] - 26s 6ms/step - loss: 0.0054 - mse: 0.0054 - val_loss: 0.0101 - val_mse: 0.0101\n",
            "Epoch 12/16\n",
            "4403/4403 [==============================] - 26s 6ms/step - loss: 0.0054 - mse: 0.0054 - val_loss: 0.0108 - val_mse: 0.0108\n",
            "Epoch 13/16\n",
            "4403/4403 [==============================] - 26s 6ms/step - loss: 0.0053 - mse: 0.0053 - val_loss: 0.0104 - val_mse: 0.0104\n",
            "Epoch 14/16\n",
            "4403/4403 [==============================] - 26s 6ms/step - loss: 0.0053 - mse: 0.0053 - val_loss: 0.0101 - val_mse: 0.0101\n",
            "Epoch 15/16\n",
            "4403/4403 [==============================] - 26s 6ms/step - loss: 0.0053 - mse: 0.0053 - val_loss: 0.0101 - val_mse: 0.0101\n",
            "Epoch 16/16\n",
            "4403/4403 [==============================] - 27s 6ms/step - loss: 0.0052 - mse: 0.0052 - val_loss: 0.0106 - val_mse: 0.0106\n"
          ]
        },
        {
          "output_type": "stream",
          "name": "stderr",
          "text": [
            "[I 2023-07-18 12:29:08,055] Trial 0 finished with value: 0.00967805739492178 and parameters: {'lstm_1_units': 466, 'lstm_2_units': 407, 'lstm_3_units': 284, 'lstm_4_units': 665, 'lstm_5_units': 488, 'lstm_6_units': 618, 'lstm_7_units': 627, 'lstm_8_units': 523, 'lstm_9_units': 385, 'lstm_10_units': 398, 'lstm_11_units': 581, 'lstm_12_units': 582, 'optimizer': 'adam', 'epochs': 16, 'batchsize': 16}. Best is trial 0 with value: 0.00967805739492178.\n"
          ]
        },
        {
          "output_type": "stream",
          "name": "stdout",
          "text": [
            "Epoch 1/28\n",
            "2516/2516 [==============================] - 22s 6ms/step - loss: 0.0147 - mse: 0.0147 - val_loss: 0.0165 - val_mse: 0.0165\n",
            "Epoch 2/28\n",
            "2516/2516 [==============================] - 15s 6ms/step - loss: 0.0080 - mse: 0.0080 - val_loss: 0.0108 - val_mse: 0.0108\n",
            "Epoch 3/28\n",
            "2516/2516 [==============================] - 15s 6ms/step - loss: 0.0063 - mse: 0.0063 - val_loss: 0.0108 - val_mse: 0.0108\n",
            "Epoch 4/28\n",
            "2516/2516 [==============================] - 16s 6ms/step - loss: 0.0061 - mse: 0.0061 - val_loss: 0.0109 - val_mse: 0.0109\n",
            "Epoch 5/28\n",
            "2516/2516 [==============================] - 15s 6ms/step - loss: 0.0058 - mse: 0.0058 - val_loss: 0.0105 - val_mse: 0.0105\n",
            "Epoch 6/28\n",
            "2516/2516 [==============================] - 15s 6ms/step - loss: 0.0058 - mse: 0.0058 - val_loss: 0.0103 - val_mse: 0.0103\n",
            "Epoch 7/28\n",
            "2516/2516 [==============================] - 16s 6ms/step - loss: 0.0057 - mse: 0.0057 - val_loss: 0.0109 - val_mse: 0.0109\n",
            "Epoch 8/28\n",
            "2516/2516 [==============================] - 16s 6ms/step - loss: 0.0055 - mse: 0.0055 - val_loss: 0.0114 - val_mse: 0.0114\n",
            "Epoch 9/28\n",
            "2516/2516 [==============================] - 16s 6ms/step - loss: 0.0055 - mse: 0.0055 - val_loss: 0.0103 - val_mse: 0.0103\n",
            "Epoch 10/28\n",
            "2516/2516 [==============================] - 15s 6ms/step - loss: 0.0054 - mse: 0.0054 - val_loss: 0.0106 - val_mse: 0.0106\n",
            "Epoch 11/28\n",
            "2516/2516 [==============================] - 15s 6ms/step - loss: 0.0054 - mse: 0.0054 - val_loss: 0.0105 - val_mse: 0.0105\n",
            "Epoch 12/28\n",
            "2516/2516 [==============================] - 15s 6ms/step - loss: 0.0053 - mse: 0.0053 - val_loss: 0.0106 - val_mse: 0.0106\n",
            "Epoch 13/28\n",
            "2516/2516 [==============================] - 16s 6ms/step - loss: 0.0053 - mse: 0.0053 - val_loss: 0.0109 - val_mse: 0.0109\n",
            "Epoch 14/28\n",
            "2516/2516 [==============================] - 15s 6ms/step - loss: 0.0053 - mse: 0.0053 - val_loss: 0.0105 - val_mse: 0.0105\n",
            "Epoch 15/28\n",
            "2516/2516 [==============================] - 15s 6ms/step - loss: 0.0052 - mse: 0.0052 - val_loss: 0.0104 - val_mse: 0.0104\n",
            "Epoch 16/28\n",
            "2516/2516 [==============================] - 16s 6ms/step - loss: 0.0052 - mse: 0.0052 - val_loss: 0.0108 - val_mse: 0.0108\n",
            "Epoch 17/28\n",
            "2516/2516 [==============================] - 16s 7ms/step - loss: 0.0051 - mse: 0.0051 - val_loss: 0.0105 - val_mse: 0.0105\n",
            "Epoch 18/28\n",
            "2516/2516 [==============================] - 15s 6ms/step - loss: 0.0051 - mse: 0.0051 - val_loss: 0.0105 - val_mse: 0.0105\n",
            "Epoch 19/28\n",
            "2516/2516 [==============================] - 15s 6ms/step - loss: 0.0050 - mse: 0.0050 - val_loss: 0.0103 - val_mse: 0.0103\n",
            "Epoch 20/28\n",
            "2516/2516 [==============================] - 15s 6ms/step - loss: 0.0050 - mse: 0.0050 - val_loss: 0.0109 - val_mse: 0.0109\n",
            "Epoch 21/28\n",
            "2516/2516 [==============================] - 15s 6ms/step - loss: 0.0050 - mse: 0.0050 - val_loss: 0.0105 - val_mse: 0.0105\n",
            "Epoch 22/28\n",
            "2516/2516 [==============================] - 15s 6ms/step - loss: 0.0049 - mse: 0.0049 - val_loss: 0.0116 - val_mse: 0.0116\n",
            "Epoch 23/28\n",
            "2516/2516 [==============================] - 15s 6ms/step - loss: 0.0049 - mse: 0.0049 - val_loss: 0.0108 - val_mse: 0.0108\n",
            "Epoch 24/28\n",
            "2516/2516 [==============================] - 15s 6ms/step - loss: 0.0048 - mse: 0.0048 - val_loss: 0.0103 - val_mse: 0.0103\n",
            "Epoch 25/28\n",
            "2516/2516 [==============================] - 16s 6ms/step - loss: 0.0048 - mse: 0.0048 - val_loss: 0.0112 - val_mse: 0.0112\n",
            "Epoch 26/28\n",
            "2516/2516 [==============================] - 16s 6ms/step - loss: 0.0048 - mse: 0.0048 - val_loss: 0.0113 - val_mse: 0.0113\n",
            "Epoch 27/28\n",
            "2516/2516 [==============================] - 15s 6ms/step - loss: 0.0047 - mse: 0.0047 - val_loss: 0.0112 - val_mse: 0.0112\n",
            "Epoch 28/28\n",
            "2516/2516 [==============================] - 15s 6ms/step - loss: 0.0047 - mse: 0.0047 - val_loss: 0.0116 - val_mse: 0.0116\n"
          ]
        },
        {
          "output_type": "stream",
          "name": "stderr",
          "text": [
            "[I 2023-07-18 12:36:31,089] Trial 1 finished with value: 0.0091515788808465 and parameters: {'lstm_1_units': 419, 'lstm_2_units': 405, 'lstm_3_units': 366, 'lstm_4_units': 256, 'lstm_5_units': 541, 'lstm_6_units': 313, 'lstm_7_units': 241, 'lstm_8_units': 305, 'lstm_9_units': 484, 'lstm_10_units': 607, 'lstm_11_units': 415, 'lstm_12_units': 595, 'optimizer': 'adam', 'epochs': 28, 'batchsize': 28}. Best is trial 1 with value: 0.0091515788808465.\n"
          ]
        },
        {
          "output_type": "stream",
          "name": "stdout",
          "text": [
            "Epoch 1/4\n",
            "3522/3522 [==============================] - 28s 6ms/step - loss: 0.0144 - mse: 0.0144 - val_loss: 0.0218 - val_mse: 0.0218\n",
            "Epoch 2/4\n",
            "3522/3522 [==============================] - 22s 6ms/step - loss: 0.0121 - mse: 0.0121 - val_loss: 0.0215 - val_mse: 0.0215\n",
            "Epoch 3/4\n",
            "3522/3522 [==============================] - 21s 6ms/step - loss: 0.0119 - mse: 0.0119 - val_loss: 0.0210 - val_mse: 0.0210\n",
            "Epoch 4/4\n",
            "3522/3522 [==============================] - 22s 6ms/step - loss: 0.0118 - mse: 0.0118 - val_loss: 0.0217 - val_mse: 0.0217\n"
          ]
        },
        {
          "output_type": "stream",
          "name": "stderr",
          "text": [
            "[I 2023-07-18 12:38:07,637] Trial 2 finished with value: 0.01353403925895691 and parameters: {'lstm_1_units': 440, 'lstm_2_units': 455, 'lstm_3_units': 431, 'lstm_4_units': 661, 'lstm_5_units': 487, 'lstm_6_units': 657, 'lstm_7_units': 587, 'lstm_8_units': 557, 'lstm_9_units': 661, 'lstm_10_units': 462, 'lstm_11_units': 544, 'lstm_12_units': 643, 'optimizer': 'adam', 'epochs': 4, 'batchsize': 20}. Best is trial 1 with value: 0.0091515788808465.\n"
          ]
        },
        {
          "output_type": "stream",
          "name": "stdout",
          "text": [
            "Epoch 1/12\n",
            "8805/8805 [==============================] - 59s 6ms/step - loss: 0.0137 - mse: 0.0137 - val_loss: 0.0218 - val_mse: 0.0218\n",
            "Epoch 2/12\n",
            "8805/8805 [==============================] - 52s 6ms/step - loss: 0.0121 - mse: 0.0121 - val_loss: 0.0213 - val_mse: 0.0213\n",
            "Epoch 3/12\n",
            "8805/8805 [==============================] - 52s 6ms/step - loss: 0.0118 - mse: 0.0118 - val_loss: 0.0210 - val_mse: 0.0210\n",
            "Epoch 4/12\n",
            "8805/8805 [==============================] - 53s 6ms/step - loss: 0.0118 - mse: 0.0118 - val_loss: 0.0238 - val_mse: 0.0238\n",
            "Epoch 5/12\n",
            "8805/8805 [==============================] - 54s 6ms/step - loss: 0.0120 - mse: 0.0120 - val_loss: 0.0219 - val_mse: 0.0219\n",
            "Epoch 6/12\n",
            "8805/8805 [==============================] - 56s 6ms/step - loss: 0.0118 - mse: 0.0118 - val_loss: 0.0218 - val_mse: 0.0218\n",
            "Epoch 7/12\n",
            "8805/8805 [==============================] - 52s 6ms/step - loss: 0.0117 - mse: 0.0117 - val_loss: 0.0215 - val_mse: 0.0215\n",
            "Epoch 8/12\n",
            "8805/8805 [==============================] - 52s 6ms/step - loss: 0.0117 - mse: 0.0117 - val_loss: 0.0223 - val_mse: 0.0223\n",
            "Epoch 9/12\n",
            "8805/8805 [==============================] - 53s 6ms/step - loss: 0.0116 - mse: 0.0116 - val_loss: 0.0217 - val_mse: 0.0217\n",
            "Epoch 10/12\n",
            "8805/8805 [==============================] - 53s 6ms/step - loss: 0.0116 - mse: 0.0116 - val_loss: 0.0220 - val_mse: 0.0220\n",
            "Epoch 11/12\n",
            "8805/8805 [==============================] - 52s 6ms/step - loss: 0.0115 - mse: 0.0115 - val_loss: 0.0217 - val_mse: 0.0217\n",
            "Epoch 12/12\n",
            "8805/8805 [==============================] - 52s 6ms/step - loss: 0.0115 - mse: 0.0115 - val_loss: 0.0214 - val_mse: 0.0214\n"
          ]
        },
        {
          "output_type": "stream",
          "name": "stderr",
          "text": [
            "[I 2023-07-18 12:49:33,976] Trial 3 finished with value: 0.014155068434774876 and parameters: {'lstm_1_units': 521, 'lstm_2_units': 581, 'lstm_3_units': 639, 'lstm_4_units': 366, 'lstm_5_units': 206, 'lstm_6_units': 513, 'lstm_7_units': 633, 'lstm_8_units': 238, 'lstm_9_units': 223, 'lstm_10_units': 217, 'lstm_11_units': 495, 'lstm_12_units': 667, 'optimizer': 'adam', 'epochs': 12, 'batchsize': 8}. Best is trial 1 with value: 0.0091515788808465.\n"
          ]
        },
        {
          "output_type": "stream",
          "name": "stdout",
          "text": [
            "{'lstm_1_units': 419, 'lstm_2_units': 405, 'lstm_3_units': 366, 'lstm_4_units': 256, 'lstm_5_units': 541, 'lstm_6_units': 313, 'lstm_7_units': 241, 'lstm_8_units': 305, 'lstm_9_units': 484, 'lstm_10_units': 607, 'lstm_11_units': 415, 'lstm_12_units': 595, 'optimizer': 'adam', 'epochs': 28, 'batchsize': 28}\n"
          ]
        }
      ],
      "source": [
        "def create_model(trial):\n",
        "\n",
        "  # Create the LSTM model\n",
        "  model = keras.Sequential([\n",
        "      keras.layers.Input(shape=(X_train.shape[1],)),\n",
        "      keras.layers.Dense(trial.suggest_int('lstm_1_units',y_train.shape[1], X_train.shape[1]), activation='ReLU'),\n",
        "      keras.layers.Dense(trial.suggest_int('lstm_2_units',y_train.shape[1], X_train.shape[1]), activation='ReLU'),\n",
        "      keras.layers.Dense(trial.suggest_int('lstm_3_units',y_train.shape[1], X_train.shape[1]), activation='ReLU'),\n",
        "      keras.layers.Dense(trial.suggest_int('lstm_4_units',y_train.shape[1], X_train.shape[1]), activation='ReLU'),\n",
        "      keras.layers.Dense(trial.suggest_int('lstm_5_units',y_train.shape[1], X_train.shape[1]), activation='ReLU'),\n",
        "      keras.layers.Dense(trial.suggest_int('lstm_6_units',y_train.shape[1], X_train.shape[1]), activation='ReLU'),\n",
        "      keras.layers.Dense(trial.suggest_int('lstm_7_units',y_train.shape[1], X_train.shape[1]), activation='ReLU'),\n",
        "      keras.layers.Dense(trial.suggest_int('lstm_8_units',y_train.shape[1], X_train.shape[1]), activation='ReLU'),\n",
        "      keras.layers.Dense(trial.suggest_int('lstm_9_units',y_train.shape[1], X_train.shape[1]), activation='ReLU'),\n",
        "      keras.layers.Dense(trial.suggest_int('lstm_10_units',y_train.shape[1], X_train.shape[1]), activation='ReLU'),\n",
        "      keras.layers.Dense(trial.suggest_int('lstm_11_units',y_train.shape[1], X_train.shape[1]), activation='ReLU'),\n",
        "      keras.layers.Dense(trial.suggest_int('lstm_12_units',y_train.shape[1], X_train.shape[1]), activation='ReLU'),\n",
        "      keras.layers.Dense(y_train.shape[1])\n",
        "  ])\n",
        "\n",
        "  # Compile the model\n",
        "  optimizer_name = trial.suggest_categorical(\"optimizer\", [\"adam\", \"SGD\", \"RMSprop\", \"Adadelta\"])\n",
        "  # optimizer = tf.keras.optimizers.Adam(learning_rate=trial.suggest_float('learning_rate', 1e-5, 1e-2, log=True))\n",
        "  model.compile(optimizer=optimizer_name, loss='mse', metrics=['mse'])\n",
        "\n",
        "  return model\n",
        "\n",
        "def objective(trial):\n",
        "    model = create_model(trial)\n",
        "    epochs = trial.suggest_int(\"epochs\", 4, 30,step=4, log=False)\n",
        "    batchsize = trial.suggest_int(\"batchsize\", 4, 30,step=4, log=False)\n",
        "\n",
        "    # Train the model\n",
        "    model.fit(X_train, y_train, batch_size=batchsize, epochs=epochs, validation_split = 0.1,verbose=1)\n",
        "\n",
        "    # Evaluate the model\n",
        "    scores = model.evaluate(X_test, y_test, verbose=0)\n",
        "    return scores[1]\n",
        "\n",
        "study = optuna.create_study()\n",
        "study.optimize(objective, n_trials=4)\n",
        "\n",
        "print(study.best_params)"
      ]
    },
    {
      "cell_type": "code",
      "execution_count": 20,
      "metadata": {
        "id": "TVPYlW-T0hIv",
        "colab": {
          "base_uri": "https://localhost:8080/"
        },
        "outputId": "33e447db-5362-4bd7-ae57-961940c3c4b3"
      },
      "outputs": [
        {
          "output_type": "stream",
          "name": "stdout",
          "text": [
            "Epoch 1/30\n",
            "2348/2348 [==============================] - 16s 5ms/step - loss: 0.0107 - val_loss: 0.0106\n",
            "Epoch 2/30\n",
            "2348/2348 [==============================] - 12s 5ms/step - loss: 0.0063 - val_loss: 0.0104\n",
            "Epoch 3/30\n",
            "2348/2348 [==============================] - 12s 5ms/step - loss: 0.0060 - val_loss: 0.0102\n",
            "Epoch 4/30\n",
            "2348/2348 [==============================] - 12s 5ms/step - loss: 0.0059 - val_loss: 0.0099\n",
            "Epoch 5/30\n",
            "2348/2348 [==============================] - 12s 5ms/step - loss: 0.0057 - val_loss: 0.0110\n",
            "Epoch 6/30\n",
            "2348/2348 [==============================] - 12s 5ms/step - loss: 0.0056 - val_loss: 0.0102\n",
            "Epoch 7/30\n",
            "2348/2348 [==============================] - 12s 5ms/step - loss: 0.0055 - val_loss: 0.0105\n",
            "Epoch 8/30\n",
            "2348/2348 [==============================] - 11s 5ms/step - loss: 0.0054 - val_loss: 0.0108\n",
            "Epoch 9/30\n",
            "2348/2348 [==============================] - 12s 5ms/step - loss: 0.0053 - val_loss: 0.0101\n",
            "Epoch 10/30\n",
            "2348/2348 [==============================] - 12s 5ms/step - loss: 0.0052 - val_loss: 0.0102\n",
            "Epoch 11/30\n",
            "2348/2348 [==============================] - 12s 5ms/step - loss: 0.0052 - val_loss: 0.0101\n",
            "Epoch 12/30\n",
            "2348/2348 [==============================] - 12s 5ms/step - loss: 0.0051 - val_loss: 0.0101\n",
            "Epoch 13/30\n",
            "2348/2348 [==============================] - 12s 5ms/step - loss: 0.0050 - val_loss: 0.0103\n",
            "Epoch 14/30\n",
            "2348/2348 [==============================] - 13s 5ms/step - loss: 0.0050 - val_loss: 0.0102\n",
            "Epoch 15/30\n",
            "2348/2348 [==============================] - 11s 5ms/step - loss: 0.0049 - val_loss: 0.0100\n",
            "Epoch 16/30\n",
            "2348/2348 [==============================] - 11s 5ms/step - loss: 0.0048 - val_loss: 0.0100\n",
            "Epoch 17/30\n",
            "2348/2348 [==============================] - 12s 5ms/step - loss: 0.0047 - val_loss: 0.0105\n",
            "Epoch 18/30\n",
            "2348/2348 [==============================] - 12s 5ms/step - loss: 0.0047 - val_loss: 0.0101\n",
            "Epoch 19/30\n",
            "2348/2348 [==============================] - 12s 5ms/step - loss: 0.0046 - val_loss: 0.0110\n",
            "Epoch 20/30\n",
            "2348/2348 [==============================] - 12s 5ms/step - loss: 0.0046 - val_loss: 0.0110\n",
            "Epoch 21/30\n",
            "2348/2348 [==============================] - 12s 5ms/step - loss: 0.0045 - val_loss: 0.0116\n",
            "Epoch 22/30\n",
            "2348/2348 [==============================] - 12s 5ms/step - loss: 0.0044 - val_loss: 0.0106\n",
            "Epoch 23/30\n",
            "2348/2348 [==============================] - 11s 5ms/step - loss: 0.0043 - val_loss: 0.0116\n",
            "Epoch 24/30\n",
            "2348/2348 [==============================] - 12s 5ms/step - loss: 0.0043 - val_loss: 0.0120\n",
            "Epoch 25/30\n",
            "2348/2348 [==============================] - 12s 5ms/step - loss: 0.0042 - val_loss: 0.0113\n",
            "Epoch 26/30\n",
            "2348/2348 [==============================] - 12s 5ms/step - loss: 0.0041 - val_loss: 0.0113\n",
            "Epoch 27/30\n",
            "2348/2348 [==============================] - 12s 5ms/step - loss: 0.0041 - val_loss: 0.0122\n",
            "Epoch 28/30\n",
            "2348/2348 [==============================] - 12s 5ms/step - loss: 0.0040 - val_loss: 0.0116\n",
            "Epoch 29/30\n",
            "2348/2348 [==============================] - 12s 5ms/step - loss: 0.0040 - val_loss: 0.0118\n",
            "Epoch 30/30\n",
            "2348/2348 [==============================] - 12s 5ms/step - loss: 0.0039 - val_loss: 0.0123\n",
            "Model: \"sequential_6\"\n",
            "_________________________________________________________________\n",
            " Layer (type)                Output Shape              Param #   \n",
            "=================================================================\n",
            " dense_78 (Dense)            (None, 222)               149406    \n",
            "                                                                 \n",
            " dense_79 (Dense)            (None, 232)               51736     \n",
            "                                                                 \n",
            " dense_80 (Dense)            (None, 283)               65939     \n",
            "                                                                 \n",
            " dense_81 (Dense)            (None, 180)               51120     \n",
            "                                                                 \n",
            " dense_82 (Dense)            (None, 248)               44888     \n",
            "                                                                 \n",
            " dense_83 (Dense)            (None, 157)               39093     \n",
            "                                                                 \n",
            " dense_84 (Dense)            (None, 483)               76314     \n",
            "                                                                 \n",
            " dense_85 (Dense)            (None, 257)               124388    \n",
            "                                                                 \n",
            " dense_86 (Dense)            (None, 83)                21414     \n",
            "                                                                 \n",
            " dense_87 (Dense)            (None, 192)               16128     \n",
            "                                                                 \n",
            "=================================================================\n",
            "Total params: 640,426\n",
            "Trainable params: 640,426\n",
            "Non-trainable params: 0\n",
            "_________________________________________________________________\n"
          ]
        }
      ],
      "source": [
        "# Define the architecture of the DNN model\n",
        "model = keras.Sequential([\n",
        "    keras.layers.Input(shape=(X_train.shape[1],)),\n",
        "    keras.layers.Dense(222, activation='ReLU'),\n",
        "    keras.layers.Dense(232, activation='ReLU'),\n",
        "    keras.layers.Dense(283, activation='ReLU'),\n",
        "    keras.layers.Dense(180, activation='ReLU'),\n",
        "    keras.layers.Dense(248, activation='ReLU'),\n",
        "    keras.layers.Dense(157, activation='ReLU'),\n",
        "    keras.layers.Dense(483, activation='ReLU'),\n",
        "    keras.layers.Dense(257, activation='ReLU'),\n",
        "    keras.layers.Dense(83, activation='ReLU'),\n",
        "    keras.layers.Dense(y_train.shape[1])\n",
        "])\n",
        "\n",
        "# Compile the DNN model\n",
        "model.compile(optimizer='adam', loss='mse')\n",
        "\n",
        "# Train the DNN model\n",
        "history = model.fit(X_train, y_train, epochs=30, batch_size=30, validation_split=0.1,verbose=1)\n",
        "\n",
        "\n",
        "model.summary()"
      ]
    },
    {
      "cell_type": "code",
      "execution_count": 22,
      "metadata": {
        "id": "nxraZv0J0hLx",
        "colab": {
          "base_uri": "https://localhost:8080/"
        },
        "outputId": "2537b3fa-49ad-40c5-c224-737d953c6ff4"
      },
      "outputs": [
        {
          "output_type": "stream",
          "name": "stdout",
          "text": [
            "816/816 [==============================] - 2s 3ms/step - loss: 0.0090\n",
            "Mean Squared Error: 0.009021883830428123\n"
          ]
        }
      ],
      "source": [
        "# Evaluate the performance of the DNN model\n",
        "mse = model.evaluate(X_test, y_test)\n",
        "print(\"Mean Squared Error:\", mse)"
      ]
    }
  ],
  "metadata": {
    "colab": {
      "provenance": [],
      "gpuType": "T4"
    },
    "kernelspec": {
      "display_name": "Python 3",
      "name": "python3"
    },
    "language_info": {
      "name": "python"
    },
    "accelerator": "GPU"
  },
  "nbformat": 4,
  "nbformat_minor": 0
}