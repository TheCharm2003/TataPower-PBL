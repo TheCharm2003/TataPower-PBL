{
  "nbformat": 4,
  "nbformat_minor": 0,
  "metadata": {
    "colab": {
      "provenance": [],
      "gpuType": "T4"
    },
    "kernelspec": {
      "name": "python3",
      "display_name": "Python 3"
    },
    "language_info": {
      "name": "python"
    },
    "accelerator": "GPU"
  },
  "cells": [
    {
      "cell_type": "markdown",
      "source": [
        "# Importing Libraries"
      ],
      "metadata": {
        "id": "dx6KUPHidoZl"
      }
    },
    {
      "cell_type": "code",
      "execution_count": 1,
      "metadata": {
        "id": "15Dl64OyVBkX"
      },
      "outputs": [],
      "source": [
        "import numpy as np\n",
        "import pandas as pd\n",
        "import matplotlib.pyplot as plt\n",
        "import tensorflow as tf\n",
        "from tensorflow.keras.models import Sequential\n",
        "from tensorflow.keras.layers import LSTM\n",
        "from tensorflow.keras.layers import Dense\n",
        "from tensorflow.keras.layers import Flatten"
      ]
    },
    {
      "cell_type": "code",
      "source": [
        "from google.colab import drive\n",
        "drive.mount('/content/drive')"
      ],
      "metadata": {
        "colab": {
          "base_uri": "https://localhost:8080/"
        },
        "id": "ukyjJlmzVXne",
        "outputId": "40c27018-235a-4bf9-a547-f20bf5b35430"
      },
      "execution_count": 2,
      "outputs": [
        {
          "output_type": "stream",
          "name": "stdout",
          "text": [
            "Mounted at /content/drive\n"
          ]
        }
      ]
    },
    {
      "cell_type": "markdown",
      "source": [
        "# Data Integration"
      ],
      "metadata": {
        "id": "jqGy-OfSdzWc"
      }
    },
    {
      "cell_type": "code",
      "source": [
        "df = pd.read_excel('/content/drive/MyDrive/Main_Data.xlsx', sheet_name=None)\n",
        "df"
      ],
      "metadata": {
        "colab": {
          "base_uri": "https://localhost:8080/"
        },
        "id": "oCFKto-HVZwS",
        "outputId": "6d4cbd29-c0e3-475a-8cee-365e3b4168fb"
      },
      "execution_count": 3,
      "outputs": [
        {
          "output_type": "execute_result",
          "data": {
            "text/plain": [
              "{'2018':                DateTime         RH    Temp        Load\n",
              " 0      01-01-2018 00:00  80.423000  18.160  174.542804\n",
              " 1      01-01-2018 00:15  81.471000  18.064  175.981604\n",
              " 2      01-01-2018 00:30  82.675000  17.927  178.636804\n",
              " 3      01-01-2018 00:45  84.552000  17.745  180.045604\n",
              " 4      01-01-2018 01:00  86.663000  17.751  182.254000\n",
              " ...                 ...        ...     ...         ...\n",
              " 35035  31-12-2018 22:45  63.469773  17.647  181.566544\n",
              " 35036  31-12-2018 23:00  61.612709  17.761  181.542448\n",
              " 35037  31-12-2018 23:15  61.666345  17.689  181.600600\n",
              " 35038  31-12-2018 23:30  60.732709  17.818  183.150424\n",
              " 35039  31-12-2018 23:45  60.940891  17.827  183.731516\n",
              " \n",
              " [35040 rows x 4 columns],\n",
              " '2019':                DateTime          RH    Temp        Load\n",
              " 0      01-01-2019 00:00   62.573618  17.529  183.656656\n",
              " 1      01-01-2019 00:15   62.385228  17.504  183.735260\n",
              " 2      01-01-2019 00:30   62.105566  17.469  186.280288\n",
              " 3      01-01-2019 00:45   61.317384  17.527  184.081000\n",
              " 4      01-01-2019 01:00   62.511020  17.285  188.696504\n",
              " ...                 ...         ...     ...         ...\n",
              " 35035  31-12-2019 22:45  100.000000  15.800  182.674064\n",
              " 35036  31-12-2019 23:00  100.000000  15.800  182.231292\n",
              " 35037  31-12-2019 23:15  100.000000  15.500  181.228678\n",
              " 35038  31-12-2019 23:30  100.000000  15.500  182.129110\n",
              " 35039  31-12-2019 23:45  100.000000  15.600  182.089496\n",
              " \n",
              " [35040 rows x 4 columns],\n",
              " '2020':                DateTime      RH   Temp        Load\n",
              " 0      01-01-2020 00:00  100.00  15.60  182.127500\n",
              " 1      01-01-2020 00:15  100.00  15.30  183.066028\n",
              " 2      01-01-2020 00:30  100.00  15.30  185.878726\n",
              " 3      01-01-2020 00:45  100.00  15.20  186.408446\n",
              " 4      01-01-2020 01:00  100.00  15.20  187.951140\n",
              " ...                 ...     ...    ...         ...\n",
              " 35131  31-12-2020 22:45   82.00  24.10  168.469564\n",
              " 35132  31-12-2020 23:00   82.50  24.03  168.350680\n",
              " 35133  31-12-2020 23:15   82.60  24.00  169.591304\n",
              " 35134  31-12-2020 23:30   82.37  24.03  170.745392\n",
              " 35135  31-12-2020 23:45   82.50  24.03  170.800040\n",
              " \n",
              " [35136 rows x 4 columns]}"
            ]
          },
          "metadata": {},
          "execution_count": 3
        }
      ]
    },
    {
      "cell_type": "code",
      "source": [
        "df_all = pd.concat(df.values(), ignore_index=True)\n",
        "df_all.shape"
      ],
      "metadata": {
        "colab": {
          "base_uri": "https://localhost:8080/"
        },
        "id": "5Qo1XwFCVoaJ",
        "outputId": "ca59701e-ffa9-479d-d729-59646e2bf1b1"
      },
      "execution_count": 4,
      "outputs": [
        {
          "output_type": "execute_result",
          "data": {
            "text/plain": [
              "(105216, 4)"
            ]
          },
          "metadata": {},
          "execution_count": 4
        }
      ]
    },
    {
      "cell_type": "markdown",
      "source": [
        "# Data Cleaning"
      ],
      "metadata": {
        "id": "_EapUtg-d7T8"
      }
    },
    {
      "cell_type": "code",
      "source": [
        "df_all = df_all.set_index('DateTime')"
      ],
      "metadata": {
        "id": "GPk_tuQsXccQ"
      },
      "execution_count": 5,
      "outputs": []
    },
    {
      "cell_type": "code",
      "source": [
        "df_temp = df_all.drop(['Load', 'RH'], axis=1)"
      ],
      "metadata": {
        "id": "GezTXujcV455"
      },
      "execution_count": 6,
      "outputs": []
    },
    {
      "cell_type": "code",
      "source": [
        "df_temp.head()"
      ],
      "metadata": {
        "colab": {
          "base_uri": "https://localhost:8080/",
          "height": 237
        },
        "id": "JBBhaQqVZ_KM",
        "outputId": "17d47451-00f7-4fd9-e2e3-eca23e8f678f"
      },
      "execution_count": 7,
      "outputs": [
        {
          "output_type": "execute_result",
          "data": {
            "text/plain": [
              "                    Temp\n",
              "DateTime                \n",
              "01-01-2018 00:00  18.160\n",
              "01-01-2018 00:15  18.064\n",
              "01-01-2018 00:30  17.927\n",
              "01-01-2018 00:45  17.745\n",
              "01-01-2018 01:00  17.751"
            ],
            "text/html": [
              "\n",
              "\n",
              "  <div id=\"df-ddb16e3d-d960-4f1e-8e7f-d1a3052c9af0\">\n",
              "    <div class=\"colab-df-container\">\n",
              "      <div>\n",
              "<style scoped>\n",
              "    .dataframe tbody tr th:only-of-type {\n",
              "        vertical-align: middle;\n",
              "    }\n",
              "\n",
              "    .dataframe tbody tr th {\n",
              "        vertical-align: top;\n",
              "    }\n",
              "\n",
              "    .dataframe thead th {\n",
              "        text-align: right;\n",
              "    }\n",
              "</style>\n",
              "<table border=\"1\" class=\"dataframe\">\n",
              "  <thead>\n",
              "    <tr style=\"text-align: right;\">\n",
              "      <th></th>\n",
              "      <th>Temp</th>\n",
              "    </tr>\n",
              "    <tr>\n",
              "      <th>DateTime</th>\n",
              "      <th></th>\n",
              "    </tr>\n",
              "  </thead>\n",
              "  <tbody>\n",
              "    <tr>\n",
              "      <th>01-01-2018 00:00</th>\n",
              "      <td>18.160</td>\n",
              "    </tr>\n",
              "    <tr>\n",
              "      <th>01-01-2018 00:15</th>\n",
              "      <td>18.064</td>\n",
              "    </tr>\n",
              "    <tr>\n",
              "      <th>01-01-2018 00:30</th>\n",
              "      <td>17.927</td>\n",
              "    </tr>\n",
              "    <tr>\n",
              "      <th>01-01-2018 00:45</th>\n",
              "      <td>17.745</td>\n",
              "    </tr>\n",
              "    <tr>\n",
              "      <th>01-01-2018 01:00</th>\n",
              "      <td>17.751</td>\n",
              "    </tr>\n",
              "  </tbody>\n",
              "</table>\n",
              "</div>\n",
              "      <button class=\"colab-df-convert\" onclick=\"convertToInteractive('df-ddb16e3d-d960-4f1e-8e7f-d1a3052c9af0')\"\n",
              "              title=\"Convert this dataframe to an interactive table.\"\n",
              "              style=\"display:none;\">\n",
              "\n",
              "  <svg xmlns=\"http://www.w3.org/2000/svg\" height=\"24px\"viewBox=\"0 0 24 24\"\n",
              "       width=\"24px\">\n",
              "    <path d=\"M0 0h24v24H0V0z\" fill=\"none\"/>\n",
              "    <path d=\"M18.56 5.44l.94 2.06.94-2.06 2.06-.94-2.06-.94-.94-2.06-.94 2.06-2.06.94zm-11 1L8.5 8.5l.94-2.06 2.06-.94-2.06-.94L8.5 2.5l-.94 2.06-2.06.94zm10 10l.94 2.06.94-2.06 2.06-.94-2.06-.94-.94-2.06-.94 2.06-2.06.94z\"/><path d=\"M17.41 7.96l-1.37-1.37c-.4-.4-.92-.59-1.43-.59-.52 0-1.04.2-1.43.59L10.3 9.45l-7.72 7.72c-.78.78-.78 2.05 0 2.83L4 21.41c.39.39.9.59 1.41.59.51 0 1.02-.2 1.41-.59l7.78-7.78 2.81-2.81c.8-.78.8-2.07 0-2.86zM5.41 20L4 18.59l7.72-7.72 1.47 1.35L5.41 20z\"/>\n",
              "  </svg>\n",
              "      </button>\n",
              "\n",
              "\n",
              "\n",
              "    <div id=\"df-665d4101-af71-4535-8258-7a8042936aa6\">\n",
              "      <button class=\"colab-df-quickchart\" onclick=\"quickchart('df-665d4101-af71-4535-8258-7a8042936aa6')\"\n",
              "              title=\"Suggest charts.\"\n",
              "              style=\"display:none;\">\n",
              "\n",
              "<svg xmlns=\"http://www.w3.org/2000/svg\" height=\"24px\"viewBox=\"0 0 24 24\"\n",
              "     width=\"24px\">\n",
              "    <g>\n",
              "        <path d=\"M19 3H5c-1.1 0-2 .9-2 2v14c0 1.1.9 2 2 2h14c1.1 0 2-.9 2-2V5c0-1.1-.9-2-2-2zM9 17H7v-7h2v7zm4 0h-2V7h2v10zm4 0h-2v-4h2v4z\"/>\n",
              "    </g>\n",
              "</svg>\n",
              "      </button>\n",
              "    </div>\n",
              "\n",
              "<style>\n",
              "  .colab-df-quickchart {\n",
              "    background-color: #E8F0FE;\n",
              "    border: none;\n",
              "    border-radius: 50%;\n",
              "    cursor: pointer;\n",
              "    display: none;\n",
              "    fill: #1967D2;\n",
              "    height: 32px;\n",
              "    padding: 0 0 0 0;\n",
              "    width: 32px;\n",
              "  }\n",
              "\n",
              "  .colab-df-quickchart:hover {\n",
              "    background-color: #E2EBFA;\n",
              "    box-shadow: 0px 1px 2px rgba(60, 64, 67, 0.3), 0px 1px 3px 1px rgba(60, 64, 67, 0.15);\n",
              "    fill: #174EA6;\n",
              "  }\n",
              "\n",
              "  [theme=dark] .colab-df-quickchart {\n",
              "    background-color: #3B4455;\n",
              "    fill: #D2E3FC;\n",
              "  }\n",
              "\n",
              "  [theme=dark] .colab-df-quickchart:hover {\n",
              "    background-color: #434B5C;\n",
              "    box-shadow: 0px 1px 3px 1px rgba(0, 0, 0, 0.15);\n",
              "    filter: drop-shadow(0px 1px 2px rgba(0, 0, 0, 0.3));\n",
              "    fill: #FFFFFF;\n",
              "  }\n",
              "</style>\n",
              "\n",
              "    <script>\n",
              "      async function quickchart(key) {\n",
              "        const containerElement = document.querySelector('#' + key);\n",
              "        const charts = await google.colab.kernel.invokeFunction(\n",
              "            'suggestCharts', [key], {});\n",
              "      }\n",
              "    </script>\n",
              "\n",
              "      <script>\n",
              "\n",
              "function displayQuickchartButton(domScope) {\n",
              "  let quickchartButtonEl =\n",
              "    domScope.querySelector('#df-665d4101-af71-4535-8258-7a8042936aa6 button.colab-df-quickchart');\n",
              "  quickchartButtonEl.style.display =\n",
              "    google.colab.kernel.accessAllowed ? 'block' : 'none';\n",
              "}\n",
              "\n",
              "        displayQuickchartButton(document);\n",
              "      </script>\n",
              "      <style>\n",
              "    .colab-df-container {\n",
              "      display:flex;\n",
              "      flex-wrap:wrap;\n",
              "      gap: 12px;\n",
              "    }\n",
              "\n",
              "    .colab-df-convert {\n",
              "      background-color: #E8F0FE;\n",
              "      border: none;\n",
              "      border-radius: 50%;\n",
              "      cursor: pointer;\n",
              "      display: none;\n",
              "      fill: #1967D2;\n",
              "      height: 32px;\n",
              "      padding: 0 0 0 0;\n",
              "      width: 32px;\n",
              "    }\n",
              "\n",
              "    .colab-df-convert:hover {\n",
              "      background-color: #E2EBFA;\n",
              "      box-shadow: 0px 1px 2px rgba(60, 64, 67, 0.3), 0px 1px 3px 1px rgba(60, 64, 67, 0.15);\n",
              "      fill: #174EA6;\n",
              "    }\n",
              "\n",
              "    [theme=dark] .colab-df-convert {\n",
              "      background-color: #3B4455;\n",
              "      fill: #D2E3FC;\n",
              "    }\n",
              "\n",
              "    [theme=dark] .colab-df-convert:hover {\n",
              "      background-color: #434B5C;\n",
              "      box-shadow: 0px 1px 3px 1px rgba(0, 0, 0, 0.15);\n",
              "      filter: drop-shadow(0px 1px 2px rgba(0, 0, 0, 0.3));\n",
              "      fill: #FFFFFF;\n",
              "    }\n",
              "  </style>\n",
              "\n",
              "      <script>\n",
              "        const buttonEl =\n",
              "          document.querySelector('#df-ddb16e3d-d960-4f1e-8e7f-d1a3052c9af0 button.colab-df-convert');\n",
              "        buttonEl.style.display =\n",
              "          google.colab.kernel.accessAllowed ? 'block' : 'none';\n",
              "\n",
              "        async function convertToInteractive(key) {\n",
              "          const element = document.querySelector('#df-ddb16e3d-d960-4f1e-8e7f-d1a3052c9af0');\n",
              "          const dataTable =\n",
              "            await google.colab.kernel.invokeFunction('convertToInteractive',\n",
              "                                                     [key], {});\n",
              "          if (!dataTable) return;\n",
              "\n",
              "          const docLinkHtml = 'Like what you see? Visit the ' +\n",
              "            '<a target=\"_blank\" href=https://colab.research.google.com/notebooks/data_table.ipynb>data table notebook</a>'\n",
              "            + ' to learn more about interactive tables.';\n",
              "          element.innerHTML = '';\n",
              "          dataTable['output_type'] = 'display_data';\n",
              "          await google.colab.output.renderOutput(dataTable, element);\n",
              "          const docLink = document.createElement('div');\n",
              "          docLink.innerHTML = docLinkHtml;\n",
              "          element.appendChild(docLink);\n",
              "        }\n",
              "      </script>\n",
              "    </div>\n",
              "  </div>\n"
            ]
          },
          "metadata": {},
          "execution_count": 7
        }
      ]
    },
    {
      "cell_type": "markdown",
      "source": [
        "# EDA"
      ],
      "metadata": {
        "id": "fpnCOtrNYjwN"
      }
    },
    {
      "cell_type": "code",
      "source": [
        "df_temp.plot(figsize=(12, 4))"
      ],
      "metadata": {
        "colab": {
          "base_uri": "https://localhost:8080/",
          "height": 408
        },
        "id": "m8mD4hLcXazR",
        "outputId": "5608ccad-b755-4f78-ab8d-421ea629f500"
      },
      "execution_count": 8,
      "outputs": [
        {
          "output_type": "execute_result",
          "data": {
            "text/plain": [
              "<Axes: xlabel='DateTime'>"
            ]
          },
          "metadata": {},
          "execution_count": 8
        },
        {
          "output_type": "display_data",
          "data": {
            "text/plain": [
              "<Figure size 1200x400 with 1 Axes>"
            ],
            "image/png": "[encoded data removed]"
          },
          "metadata": {}
        }
      ]
    },
    {
      "cell_type": "code",
      "source": [
        "len(df_temp)"
      ],
      "metadata": {
        "colab": {
          "base_uri": "https://localhost:8080/"
        },
        "id": "KY4aVjNNawe8",
        "outputId": "6b1727d7-6f94-43b9-e5c4-d2952d3545e8"
      },
      "execution_count": 9,
      "outputs": [
        {
          "output_type": "execute_result",
          "data": {
            "text/plain": [
              "105216"
            ]
          },
          "metadata": {},
          "execution_count": 9
        }
      ]
    },
    {
      "cell_type": "code",
      "source": [
        "np_temp = df_temp.to_numpy()\n",
        "np_temp"
      ],
      "metadata": {
        "colab": {
          "base_uri": "https://localhost:8080/"
        },
        "id": "ryrG4mfqWM1C",
        "outputId": "402ccac9-6de8-46be-bfce-961a6f98d482"
      },
      "execution_count": 10,
      "outputs": [
        {
          "output_type": "execute_result",
          "data": {
            "text/plain": [
              "array([[18.16 ],\n",
              "       [18.064],\n",
              "       [17.927],\n",
              "       ...,\n",
              "       [24.   ],\n",
              "       [24.03 ],\n",
              "       [24.03 ]])"
            ]
          },
          "metadata": {},
          "execution_count": 10
        }
      ]
    },
    {
      "cell_type": "code",
      "source": [
        "np_temp.shape"
      ],
      "metadata": {
        "colab": {
          "base_uri": "https://localhost:8080/"
        },
        "id": "n4tU8Tcpu-Ao",
        "outputId": "f1fe0629-4a04-4a43-d294-58895cfefd08"
      },
      "execution_count": 11,
      "outputs": [
        {
          "output_type": "execute_result",
          "data": {
            "text/plain": [
              "(105216, 1)"
            ]
          },
          "metadata": {},
          "execution_count": 11
        }
      ]
    },
    {
      "cell_type": "code",
      "source": [
        "np_temp.dtype"
      ],
      "metadata": {
        "colab": {
          "base_uri": "https://localhost:8080/"
        },
        "id": "FGo5HYjE6fg7",
        "outputId": "0ed50f95-a715-41a5-e3bb-6bb46b67b86b"
      },
      "execution_count": 12,
      "outputs": [
        {
          "output_type": "execute_result",
          "data": {
            "text/plain": [
              "dtype('float64')"
            ]
          },
          "metadata": {},
          "execution_count": 12
        }
      ]
    },
    {
      "cell_type": "markdown",
      "source": [
        "# Scaling"
      ],
      "metadata": {
        "id": "P66-2m2hdkcQ"
      }
    },
    {
      "cell_type": "code",
      "source": [
        "from sklearn.preprocessing import MinMaxScaler\n",
        "scaler = MinMaxScaler(feature_range=(0, 1))\n",
        "np_temp_scaled = scaler.fit_transform(np_temp)"
      ],
      "metadata": {
        "id": "Rlc4j8BpNvOt"
      },
      "execution_count": 13,
      "outputs": []
    },
    {
      "cell_type": "code",
      "source": [
        "np_temp_scaled.shape"
      ],
      "metadata": {
        "colab": {
          "base_uri": "https://localhost:8080/"
        },
        "id": "PblFinO1Yfx8",
        "outputId": "2b0de54b-af36-4dcc-b745-466592676d04"
      },
      "execution_count": 14,
      "outputs": [
        {
          "output_type": "execute_result",
          "data": {
            "text/plain": [
              "(105216, 1)"
            ]
          },
          "metadata": {},
          "execution_count": 14
        }
      ]
    },
    {
      "cell_type": "code",
      "source": [
        "np_temp_scaled = np_temp_scaled.astype('float32')\n",
        "np_temp_scaled.dtype"
      ],
      "metadata": {
        "colab": {
          "base_uri": "https://localhost:8080/"
        },
        "id": "wyPtLhTg66Dj",
        "outputId": "c2805ab9-4e30-4fb0-a69b-20ac1bfd192e"
      },
      "execution_count": 16,
      "outputs": [
        {
          "output_type": "execute_result",
          "data": {
            "text/plain": [
              "dtype('float32')"
            ]
          },
          "metadata": {},
          "execution_count": 16
        }
      ]
    },
    {
      "cell_type": "markdown",
      "source": [
        "# Data Preparation"
      ],
      "metadata": {
        "id": "m98ifZGeeIaj"
      }
    },
    {
      "cell_type": "code",
      "source": [
        "def prepare_data(np_temp_scaled, n_input):\n",
        "  X, y = [], []\n",
        "  for i in range(len(np_temp_scaled)-n_input):\n",
        "    window = i + n_input\n",
        "    step = 192 + window\n",
        "    if window>len(np_temp_scaled)-192:\n",
        "      break\n",
        "    else:\n",
        "      seq_x, seq_y = np_temp_scaled[i:window], np_temp_scaled[window:step]\n",
        "      X.append(seq_x)\n",
        "      y.append(seq_y)\n",
        "  return np.array(X), np.array(y)"
      ],
      "metadata": {
        "id": "10GDpdG9WRrh"
      },
      "execution_count": 17,
      "outputs": []
    },
    {
      "cell_type": "code",
      "source": [
        "n_input = 672\n",
        "n_features = 1\n",
        "X, y = prepare_data(np_temp_scaled, n_input)"
      ],
      "metadata": {
        "id": "to4cPDBIojYl"
      },
      "execution_count": 18,
      "outputs": []
    },
    {
      "cell_type": "code",
      "source": [
        "X.dtype, y.dtype"
      ],
      "metadata": {
        "colab": {
          "base_uri": "https://localhost:8080/"
        },
        "id": "jQSdinXW6ohO",
        "outputId": "0eeec3b2-1af3-4aea-b6f9-d993f6a0621f"
      },
      "execution_count": 19,
      "outputs": [
        {
          "output_type": "execute_result",
          "data": {
            "text/plain": [
              "(dtype('float32'), dtype('float32'))"
            ]
          },
          "metadata": {},
          "execution_count": 19
        }
      ]
    },
    {
      "cell_type": "code",
      "source": [
        "X.shape, y.shape"
      ],
      "metadata": {
        "colab": {
          "base_uri": "https://localhost:8080/"
        },
        "id": "g5qZ7y1RgPyX",
        "outputId": "9cb59aaf-edaf-4136-f75d-160a2fd1582d"
      },
      "execution_count": 20,
      "outputs": [
        {
          "output_type": "execute_result",
          "data": {
            "text/plain": [
              "((104353, 672, 1), (104353, 192, 1))"
            ]
          },
          "metadata": {},
          "execution_count": 20
        }
      ]
    },
    {
      "cell_type": "markdown",
      "source": [
        "# Data Splitting"
      ],
      "metadata": {
        "id": "S5Kv00XxffZX"
      }
    },
    {
      "cell_type": "code",
      "source": [
        "split_index = int(0.80 * len(X))  # 80% for training, 20% for testing\n",
        "X_train, X_val = X[:split_index], X[split_index:]\n",
        "y_train, y_val = y[:split_index], y[split_index:]"
      ],
      "metadata": {
        "id": "64x4yQ3K6atY"
      },
      "execution_count": 21,
      "outputs": []
    },
    {
      "cell_type": "code",
      "source": [
        "X_train.shape, y_train.shape"
      ],
      "metadata": {
        "colab": {
          "base_uri": "https://localhost:8080/"
        },
        "id": "-AQoITEtwahK",
        "outputId": "a2115961-c926-4501-a409-465b400b6826"
      },
      "execution_count": 22,
      "outputs": [
        {
          "output_type": "execute_result",
          "data": {
            "text/plain": [
              "((83482, 672, 1), (83482, 192, 1))"
            ]
          },
          "metadata": {},
          "execution_count": 22
        }
      ]
    },
    {
      "cell_type": "code",
      "source": [
        "y_train = y_train.reshape(y_train.shape[0], y_train.shape[1])\n",
        "y_val = y_val.reshape(y_val.shape[0], y_val.shape[1])\n",
        "y_train.shape"
      ],
      "metadata": {
        "colab": {
          "base_uri": "https://localhost:8080/"
        },
        "id": "YZT_m5MZwibf",
        "outputId": "eb97f084-122c-4ad9-9995-1f275a9ad754"
      },
      "execution_count": 23,
      "outputs": [
        {
          "output_type": "execute_result",
          "data": {
            "text/plain": [
              "(83482, 192)"
            ]
          },
          "metadata": {},
          "execution_count": 23
        }
      ]
    },
    {
      "cell_type": "markdown",
      "source": [
        "# Optuna"
      ],
      "metadata": {
        "id": "Xi0j-GBn4Z0J"
      }
    },
    {
      "cell_type": "code",
      "source": [
        "# import optuna\n",
        "\n",
        "# def create_model(trial):\n",
        "\n",
        "#   # Create the LSTM model\n",
        "#   model = Sequential()\n",
        "#   model.add(LSTM(units=(trial.suggest_int('lstm_1_units', y_train.shape[1], X_train.shape[1])), activation='tanh', return_sequences=True, input_shape=(X_train.shape[1], X_train.shape[2])))\n",
        "#   # model.add(LSTM(units=(trial.suggest_int('lstm_2_units', y_train.shape[1], X_train.shape[1])), activation='tanh', return_sequences=True))\n",
        "#   model.add(LSTM(units=(trial.suggest_int('lstm_3_units', y_train.shape[1], X_train.shape[1])), activation='tanh'))\n",
        "#   model.add(Dense(y_train.shape[1]))\n",
        "\n",
        "#   # Compile the model\n",
        "#   optimizer_name = trial.suggest_categorical(\"optimizer\", [\"adam\", \"SGD\", \"RMSprop\", \"Adadelta\"])\n",
        "#   model.compile(optimizer=optimizer_name, loss=\"mse\")\n",
        "#   return model\n",
        "\n",
        "# def objective(trial):\n",
        "#   model = create_model(trial)\n",
        "#   epochs = trial.suggest_int(\"epochs\", 5, 50, step=5, log=False)\n",
        "#   batchsize = trial.suggest_int(\"batchsize\", 50, 100, step=5, log=False)\n",
        "\n",
        "#   # Train the model\n",
        "#   model.fit(X_train, y_train, batch_size=batchsize, epochs=epochs)\n",
        "\n",
        "#   # Evaluate the model\n",
        "#   scores = model.evaluate(X_val, y_val, verbose=0)\n",
        "#   return scores[1]\n",
        "\n",
        "# study = optuna.create_study()\n",
        "# study.optimize(objective, n_trials=5)\n",
        "\n",
        "# print(study.best_params)"
      ],
      "metadata": {
        "id": "UoXzH1pyUlys"
      },
      "execution_count": 24,
      "outputs": []
    },
    {
      "cell_type": "markdown",
      "source": [
        "# Model Building"
      ],
      "metadata": {
        "id": "BHeJNt68fkyH"
      }
    },
    {
      "cell_type": "code",
      "source": [
        "model = Sequential()\n",
        "model.add(LSTM(256, activation='tanh', return_sequences=True, input_shape=(X_train.shape[1], X_train.shape[2])))\n",
        "model.add(LSTM(128, activation='tanh', return_sequences=True))\n",
        "model.add(LSTM(64, activation='tanh'))\n",
        "model.add(Dense(192))\n",
        "model.compile(optimizer='adam', loss='mse')\n",
        "model.summary()\n",
        "history = model.fit(X_train, y_train, epochs=15, batch_size=32, validation_split=0.2, verbose=1)"
      ],
      "metadata": {
        "colab": {
          "base_uri": "https://localhost:8080/"
        },
        "id": "_9t4er4KpSX0",
        "outputId": "82f18ebd-6cc4-435a-9029-7fc5e691fc2f"
      },
      "execution_count": 25,
      "outputs": [
        {
          "output_type": "stream",
          "name": "stdout",
          "text": [
            "Model: \"sequential\"\n",
            "_________________________________________________________________\n",
            " Layer (type)                Output Shape              Param #   \n",
            "=================================================================\n",
            " lstm (LSTM)                 (None, 672, 256)          264192    \n",
            "                                                                 \n",
            " lstm_1 (LSTM)               (None, 672, 128)          197120    \n",
            "                                                                 \n",
            " lstm_2 (LSTM)               (None, 64)                49408     \n",
            "                                                                 \n",
            " dense (Dense)               (None, 192)               12480     \n",
            "                                                                 \n",
            "=================================================================\n",
            "Total params: 523,200\n",
            "Trainable params: 523,200\n",
            "Non-trainable params: 0\n",
            "_________________________________________________________________\n",
            "Epoch 1/15\n",
            "2088/2088 [==============================] - 177s 80ms/step - loss: 0.0089 - val_loss: 0.0114\n",
            "Epoch 2/15\n",
            "2088/2088 [==============================] - 166s 79ms/step - loss: 0.0078 - val_loss: 0.0113\n",
            "Epoch 3/15\n",
            "2088/2088 [==============================] - 165s 79ms/step - loss: 0.0068 - val_loss: 0.0114\n",
            "Epoch 4/15\n",
            "2088/2088 [==============================] - 171s 82ms/step - loss: 0.0067 - val_loss: 0.0113\n",
            "Epoch 5/15\n",
            "2088/2088 [==============================] - 165s 79ms/step - loss: 0.0063 - val_loss: 0.0084\n",
            "Epoch 6/15\n",
            "2088/2088 [==============================] - 166s 80ms/step - loss: 0.0030 - val_loss: 0.0028\n",
            "Epoch 7/15\n",
            "2088/2088 [==============================] - 166s 79ms/step - loss: 0.0057 - val_loss: 0.0074\n",
            "Epoch 8/15\n",
            "2088/2088 [==============================] - 166s 80ms/step - loss: 0.0017 - val_loss: 0.0021\n",
            "Epoch 9/15\n",
            "2088/2088 [==============================] - 166s 80ms/step - loss: 0.0011 - val_loss: 0.0097\n",
            "Epoch 10/15\n",
            "2088/2088 [==============================] - 166s 80ms/step - loss: 0.0011 - val_loss: 0.0050\n",
            "Epoch 11/15\n",
            "2088/2088 [==============================] - 166s 80ms/step - loss: 0.0010 - val_loss: 0.0018\n",
            "Epoch 12/15\n",
            "2088/2088 [==============================] - 166s 79ms/step - loss: 0.0041 - val_loss: 0.0026\n",
            "Epoch 13/15\n",
            "2088/2088 [==============================] - 171s 82ms/step - loss: 0.0013 - val_loss: 0.0019\n",
            "Epoch 14/15\n",
            "2088/2088 [==============================] - 166s 80ms/step - loss: 0.0011 - val_loss: 0.0025\n",
            "Epoch 15/15\n",
            "2088/2088 [==============================] - 166s 79ms/step - loss: 0.0010 - val_loss: 0.0022\n"
          ]
        }
      ]
    },
    {
      "cell_type": "markdown",
      "source": [
        "# Training Loss v/s Validation Loss"
      ],
      "metadata": {
        "id": "doQFjttCfrnG"
      }
    },
    {
      "cell_type": "code",
      "source": [
        "loss = model.evaluate(X_val, y_val)\n",
        "print(\"Test loss:\", loss)"
      ],
      "metadata": {
        "id": "ucA-NRTv7Ygn",
        "colab": {
          "base_uri": "https://localhost:8080/"
        },
        "outputId": "eaee7d19-be58-49a6-a140-228f0a83ff3c"
      },
      "execution_count": 26,
      "outputs": [
        {
          "output_type": "stream",
          "name": "stdout",
          "text": [
            "653/653 [==============================] - 21s 32ms/step - loss: 0.0077\n",
            "Test loss: 0.007678849622607231\n"
          ]
        }
      ]
    },
    {
      "cell_type": "code",
      "source": [
        "plt.plot(history.history['loss'], label='Training loss')\n",
        "plt.plot(history.history['val_loss'], label='Validation loss')\n",
        "plt.legend()"
      ],
      "metadata": {
        "id": "hxszyGaC7bGU",
        "colab": {
          "base_uri": "https://localhost:8080/",
          "height": 447
        },
        "outputId": "8c52d654-a584-4d09-df83-958e4a0511a6"
      },
      "execution_count": 27,
      "outputs": [
        {
          "output_type": "execute_result",
          "data": {
            "text/plain": [
              "<matplotlib.legend.Legend at 0x7f1d9acd8760>"
            ]
          },
          "metadata": {},
          "execution_count": 27
        },
        {
          "output_type": "display_data",
          "data": {
            "text/plain": [
              "<Figure size 640x480 with 1 Axes>"
            ],
            "image/png": "[encoded data removed]"
          },
          "metadata": {}
        }
      ]
    },
    {
      "cell_type": "markdown",
      "source": [
        "# Model Save"
      ],
      "metadata": {
        "id": "wsuo1TR842qx"
      }
    },
    {
      "cell_type": "code",
      "source": [
        "model.save('/content/drive/MyDrive/IMD-TP Load Forecast/LSTM/Temp_181920_v1.h5')"
      ],
      "metadata": {
        "id": "R_8Tp-68AcvL"
      },
      "execution_count": 28,
      "outputs": []
    },
    {
      "cell_type": "markdown",
      "source": [
        "# Predictions"
      ],
      "metadata": {
        "id": "ZZa1yp8AJ3Ea"
      }
    },
    {
      "cell_type": "code",
      "source": [
        "from keras.models import load_model\n",
        "model = load_model('/content/drive/MyDrive/IMD-TP Load Forecast/LSTM/Temp_181920_v1.h5')\n",
        "pred = model.predict(X_val)\n",
        "pred"
      ],
      "metadata": {
        "id": "GCq4mEUgEFTs",
        "colab": {
          "base_uri": "https://localhost:8080/"
        },
        "outputId": "00a886d4-e0c8-43de-f3ab-bf2d106ac0e8"
      },
      "execution_count": 29,
      "outputs": [
        {
          "output_type": "stream",
          "name": "stdout",
          "text": [
            "653/653 [==============================] - 21s 30ms/step\n"
          ]
        },
        {
          "output_type": "execute_result",
          "data": {
            "text/plain": [
              "array([[0.73484963, 0.73175365, 0.730166  , ..., 0.73342633, 0.7311566 ,\n",
              "        0.7273067 ],\n",
              "       [0.7325857 , 0.7296701 , 0.7283043 , ..., 0.73048824, 0.72841996,\n",
              "        0.7246514 ],\n",
              "       [0.7308877 , 0.7281248 , 0.7269444 , ..., 0.7280209 , 0.7261524 ,\n",
              "        0.7225125 ],\n",
              "       ...,\n",
              "       [0.5228077 , 0.5243591 , 0.52628577, ..., 0.53821975, 0.5363811 ,\n",
              "        0.5332863 ],\n",
              "       [0.52328014, 0.52598286, 0.5292268 , ..., 0.53530735, 0.53427356,\n",
              "        0.5324462 ],\n",
              "       [0.5241618 , 0.52809215, 0.53273606, ..., 0.5324597 , 0.532331  ,\n",
              "        0.5319744 ]], dtype=float32)"
            ]
          },
          "metadata": {},
          "execution_count": 29
        }
      ]
    },
    {
      "cell_type": "markdown",
      "source": [
        "# Performance Evaluation"
      ],
      "metadata": {
        "id": "PdtRotYgzXLH"
      }
    },
    {
      "cell_type": "code",
      "source": [
        "from sklearn.metrics import mean_squared_error\n",
        "from sklearn.metrics import mean_absolute_percentage_error\n",
        "from scipy.stats import pearsonr\n",
        "\n",
        "def perf_eval(y_val, pred):\n",
        "  rmse = np.sqrt(mean_squared_error(y_val, pred))\n",
        "  kpcc = pearsonr(pred.flatten(), y_val.flatten())\n",
        "  print(f'RMSE: {rmse}\\nKPCC: {kpcc}')"
      ],
      "metadata": {
        "id": "5WUYnFKj8Kx-"
      },
      "execution_count": 30,
      "outputs": []
    },
    {
      "cell_type": "code",
      "source": [
        "perf_eval(y_val, pred)"
      ],
      "metadata": {
        "colab": {
          "base_uri": "https://localhost:8080/"
        },
        "id": "PD4PSPMhqLMJ",
        "outputId": "fd5c3ea1-07d0-45f0-feb4-9976fb3a19f4"
      },
      "execution_count": 31,
      "outputs": [
        {
          "output_type": "stream",
          "name": "stdout",
          "text": [
            "RMSE: 0.08762901276350021\n",
            "KPCC: PearsonRResult(statistic=0.5751383396930368, pvalue=0.0)\n"
          ]
        }
      ]
    },
    {
      "cell_type": "markdown",
      "source": [
        "# Final Output"
      ],
      "metadata": {
        "id": "TclJpVA9KFOW"
      }
    },
    {
      "cell_type": "code",
      "source": [
        "final_pred = scaler.inverse_transform(pred) #Inverse Scaling\n",
        "final_pred"
      ],
      "metadata": {
        "id": "hmvWZeBcJRd0",
        "colab": {
          "base_uri": "https://localhost:8080/"
        },
        "outputId": "44528970-436a-4113-e9f9-1f21b0189066"
      },
      "execution_count": 32,
      "outputs": [
        {
          "output_type": "execute_result",
          "data": {
            "text/plain": [
              "array([[28.24762 , 28.12861 , 28.067581, ..., 28.192907, 28.10566 ,\n",
              "        27.95767 ],\n",
              "       [28.160595, 28.04852 , 27.996017, ..., 28.079967, 28.000463,\n",
              "        27.8556  ],\n",
              "       [28.095324, 27.989117, 27.943743, ..., 27.985125, 27.9133  ,\n",
              "        27.77338 ],\n",
              "       ...,\n",
              "       [20.09673 , 20.156364, 20.230425, ..., 20.689167, 20.61849 ,\n",
              "        20.499525],\n",
              "       [20.11489 , 20.21878 , 20.343477, ..., 20.577215, 20.537476,\n",
              "        20.467232],\n",
              "       [20.14878 , 20.299862, 20.478374, ..., 20.46775 , 20.462803,\n",
              "        20.449095]], dtype=float32)"
            ]
          },
          "metadata": {},
          "execution_count": 32
        }
      ]
    },
    {
      "cell_type": "code",
      "source": [
        "day1 = final_pred[:96]\n",
        "day2 = final_pred[96:192]"
      ],
      "metadata": {
        "id": "RWSWP4ilyWPM"
      },
      "execution_count": 33,
      "outputs": []
    }
  ]
}