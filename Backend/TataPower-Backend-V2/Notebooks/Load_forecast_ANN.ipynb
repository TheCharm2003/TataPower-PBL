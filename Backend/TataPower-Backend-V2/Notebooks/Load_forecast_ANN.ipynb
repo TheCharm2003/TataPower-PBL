{
  "nbformat": 4,
  "nbformat_minor": 0,
  "metadata": {
    "colab": {
      "provenance": [],
      "gpuType": "T4",
      "collapsed_sections": [
        "XH1Pjf3qAw-V",
        "Ap9ZFLAoX8OY",
        "s2sNa7xYIW93",
        "mqfTVp_sIei5",
        "om7eCnBsuXlC",
        "hQgDxbBSMVAp",
        "HU-eVd7OMaqF",
        "1cJs81gS1kBO",
        "-vnvHjgBMhem",
        "bImByGyFCVjV",
        "qjjK_sb8-AZT",
        "VjKpUuS69hzv"
      ]
    },
    "kernelspec": {
      "name": "python3",
      "display_name": "Python 3"
    },
    "language_info": {
      "name": "python"
    },
    "accelerator": "GPU"
  },
  "cells": [
    {
      "cell_type": "markdown",
      "source": [
        "# Importing libraries"
      ],
      "metadata": {
        "id": "XH1Pjf3qAw-V"
      }
    },
    {
      "cell_type": "code",
      "source": [
        "import numpy as np\n",
        "import pandas as pd\n",
        "import tensorflow as tf\n",
        "from sklearn.model_selection import train_test_split\n",
        "from sklearn.preprocessing import MinMaxScaler\n",
        "from keras.models import Sequential\n",
        "from keras.layers import LSTM, Dense, LeakyReLU, ReLU\n",
        "import matplotlib.pyplot as plt\n",
        "import seaborn as sns\n",
        "from keras.models import load_model\n",
        "from tensorflow import keras\n",
        "from keras.models import Model\n",
        "from keras.layers import Input, Dense\n",
        "from sklearn.preprocessing import MinMaxScaler\n",
        "# from tensorflow.keras.models import Sequential\n",
        "# from tensorflow.keras.layers import LSTM, Dense"
      ],
      "metadata": {
        "id": "ej3I8KvtsGhN"
      },
      "execution_count": null,
      "outputs": []
    },
    {
      "cell_type": "code",
      "source": [
        "from google.colab import drive\n",
        "drive.mount('/content/drive')"
      ],
      "metadata": {
        "colab": {
          "base_uri": "https://localhost:8080/"
        },
        "id": "5jlDuNDvPjPj",
        "outputId": "ceee9e22-8724-413d-e2a7-0b8be3f5fe4c"
      },
      "execution_count": null,
      "outputs": [
        {
          "output_type": "stream",
          "name": "stdout",
          "text": [
            "Mounted at /content/drive\n"
          ]
        }
      ]
    },
    {
      "cell_type": "markdown",
      "source": [
        "# Combining files"
      ],
      "metadata": {
        "id": "Ap9ZFLAoX8OY"
      }
    },
    {
      "cell_type": "code",
      "source": [
        "# Load the datasets\n",
        "dataset1 = pd.read_csv('/content/drive/MyDrive/IMD-TP Load Forecast/Yearly Data/2018.csv').values\n",
        "dataset2 = pd.read_csv('/content/drive/MyDrive/IMD-TP Load Forecast/Yearly Data/2019.csv').values\n",
        "dataset3 = pd.read_csv('/content/drive/MyDrive/IMD-TP Load Forecast/Yearly Data/2020.csv').values\n",
        "dataset4 = pd.read_csv('/content/drive/MyDrive/IMD-TP Load Forecast/Yearly Data/2021.csv').values\n"
      ],
      "metadata": {
        "id": "m7W7Ug5gOIHb"
      },
      "execution_count": null,
      "outputs": []
    },
    {
      "cell_type": "code",
      "source": [
        "dataset1"
      ],
      "metadata": {
        "colab": {
          "base_uri": "https://localhost:8080/"
        },
        "id": "C6hjjjR_pFbd",
        "outputId": "8078d723-8657-4204-a2da-050f713d28a5"
      },
      "execution_count": null,
      "outputs": [
        {
          "output_type": "execute_result",
          "data": {
            "text/plain": [
              "array([['01-01-2018 00:00', 80.423, 18.16, 174.542804],\n",
              "       ['01-01-2018 00:15', 81.471, 18.064, 175.981604],\n",
              "       ['01-01-2018 00:30', 82.675, 17.927, 178.636804],\n",
              "       ...,\n",
              "       ['31-12-2018 23:15', 61.66634545, 17.689, 181.6006],\n",
              "       ['31-12-2018 23:30', 60.73270909, 17.818, 183.150424],\n",
              "       ['31-12-2018 23:45', 60.94089091, 17.827, 183.731516]],\n",
              "      dtype=object)"
            ]
          },
          "metadata": {},
          "execution_count": 4
        }
      ]
    },
    {
      "cell_type": "code",
      "source": [
        "# Combine the datasets into a single array\n",
        "combined_data = np.concatenate((dataset1, dataset2, dataset3), axis=0)\n",
        "\n",
        "# Save the combined data as an npy file\n",
        "np.save('/content/drive/MyDrive/IMD-TP Load Forecast/Yearly Data/combined_data_181920.npy', combined_data)"
      ],
      "metadata": {
        "id": "ibSBc8JDWzMp"
      },
      "execution_count": null,
      "outputs": []
    },
    {
      "cell_type": "markdown",
      "source": [
        "# Checking missing rows"
      ],
      "metadata": {
        "id": "s2sNa7xYIW93"
      }
    },
    {
      "cell_type": "code",
      "source": [
        "import pandas as pd\n",
        "\n",
        "# Read the data from the CSV file\n",
        "data_r = pd.read_csv('/content/drive/MyDrive/IMD-TP Load Forecast/Yearly Data/2018.csv')\n",
        "\n",
        "# Convert 'DateTime' column to datetime format\n",
        "data_r['DateTime'] = pd.to_datetime(data_r['DateTime'], format='%d-%m-%Y %H:%M')\n",
        "\n",
        "# Set 'DateTime' as the index\n",
        "data_r.set_index('DateTime', inplace=True)\n",
        "\n",
        "# Define the expected frequency (15 minutes)\n",
        "expected_freq = pd.Timedelta(minutes=15)\n",
        "\n",
        "# Generate the expected datetime range\n",
        "expected_range = pd.date_range(start=data_r.index.min(), end=data_r.index.max(), freq=expected_freq)\n",
        "\n",
        "# Find the missing rows\n",
        "missing_rows = expected_range[~expected_range.isin(data_r.index)]\n",
        "\n",
        "# Print the missing rows\n",
        "print(\"Missing rows:\")\n",
        "for row in missing_rows:\n",
        "    print(row)"
      ],
      "metadata": {
        "colab": {
          "base_uri": "https://localhost:8080/"
        },
        "id": "u7DwZ3eiFfkU",
        "outputId": "a01b1b21-127a-430a-f386-131cdd416b23"
      },
      "execution_count": null,
      "outputs": [
        {
          "output_type": "stream",
          "name": "stdout",
          "text": [
            "Missing rows:\n"
          ]
        }
      ]
    },
    {
      "cell_type": "markdown",
      "source": [
        "# Data preparation"
      ],
      "metadata": {
        "id": "mqfTVp_sIei5"
      }
    },
    {
      "cell_type": "code",
      "source": [
        "data = np.load('/content/drive/MyDrive/IMD-TP Load Forecast/Yearly Data/combined_data_181920.npy', allow_pickle=True)"
      ],
      "metadata": {
        "id": "KAmG5cco7mQ3"
      },
      "execution_count": null,
      "outputs": []
    },
    {
      "cell_type": "code",
      "source": [
        "data.shape"
      ],
      "metadata": {
        "colab": {
          "base_uri": "https://localhost:8080/"
        },
        "id": "wnoXf3jqQS9n",
        "outputId": "82b281bb-13af-4b07-e720-3449f16ff410"
      },
      "execution_count": null,
      "outputs": [
        {
          "output_type": "execute_result",
          "data": {
            "text/plain": [
              "(105216, 4)"
            ]
          },
          "metadata": {},
          "execution_count": 35
        }
      ]
    },
    {
      "cell_type": "code",
      "source": [
        "data"
      ],
      "metadata": {
        "id": "wXVVR7fJQZRn",
        "colab": {
          "base_uri": "https://localhost:8080/"
        },
        "outputId": "bdc43133-0540-4d06-d6ec-e074c27fccee"
      },
      "execution_count": null,
      "outputs": [
        {
          "output_type": "execute_result",
          "data": {
            "text/plain": [
              "array([['01-01-2018 00:00', 80.423, 18.16, 174.542804],\n",
              "       ['01-01-2018 00:15', 81.471, 18.064, 175.981604],\n",
              "       ['01-01-2018 00:30', 82.675, 17.927, 178.636804],\n",
              "       ...,\n",
              "       ['31-12-2020 23:15', 82.6, 24.0, 169.591304],\n",
              "       ['31-12-2020 23:30', 82.37, 24.03, 170.745392],\n",
              "       ['31-12-2020 23:45', 82.5, 24.03, 170.80004]], dtype=object)"
            ]
          },
          "metadata": {},
          "execution_count": 36
        }
      ]
    },
    {
      "cell_type": "code",
      "source": [
        "# data = np.delete(data, 0, axis=1)\n",
        "# # data = np.delete(data, 1, axis=1)\n",
        "# # data = np.delete(data, 3, axis=1)"
      ],
      "metadata": {
        "id": "yjqA9Ryp-jJW"
      },
      "execution_count": null,
      "outputs": []
    },
    {
      "cell_type": "code",
      "source": [
        "columns_to_delete = [0,1,3]\n",
        "data = np.delete(data, columns_to_delete, axis=1)"
      ],
      "metadata": {
        "id": "H0jjYySrLAFC"
      },
      "execution_count": null,
      "outputs": []
    },
    {
      "cell_type": "code",
      "source": [
        "data = data.astype(np.float32)\n",
        "data\n",
        "np.save('/content/drive/MyDrive/IMD-TP Load Forecast/Yearly Data/combined_temp_data_181920.npy', data)"
      ],
      "metadata": {
        "id": "vBLAhF6w-mqw"
      },
      "execution_count": null,
      "outputs": []
    },
    {
      "cell_type": "code",
      "source": [
        "temp_data = np.load('/content/drive/MyDrive/IMD-TP Load Forecast/Yearly Data/combined_temp_data_181920.npy', allow_pickle=True)\n",
        "# RH_data = np.load('/content/combined_RH_data.npy', allow_pickle=True)"
      ],
      "metadata": {
        "id": "hLhNy7pTYznh"
      },
      "execution_count": null,
      "outputs": []
    },
    {
      "cell_type": "code",
      "source": [
        "temp_data.shape"
      ],
      "metadata": {
        "id": "a2ohLGM5iFv5",
        "colab": {
          "base_uri": "https://localhost:8080/"
        },
        "outputId": "f6ca302c-96e7-41a4-d6f8-66a4efbbc2df"
      },
      "execution_count": null,
      "outputs": [
        {
          "output_type": "execute_result",
          "data": {
            "text/plain": [
              "(105216, 1)"
            ]
          },
          "metadata": {},
          "execution_count": 40
        }
      ]
    },
    {
      "cell_type": "code",
      "source": [
        "temp_data"
      ],
      "metadata": {
        "id": "cEXHaO3MY8kj",
        "colab": {
          "base_uri": "https://localhost:8080/"
        },
        "outputId": "12f8c484-f487-47bc-aee0-ac236cb3473d"
      },
      "execution_count": null,
      "outputs": [
        {
          "output_type": "execute_result",
          "data": {
            "text/plain": [
              "array([[18.16 ],\n",
              "       [18.064],\n",
              "       [17.927],\n",
              "       ...,\n",
              "       [24.   ],\n",
              "       [24.03 ],\n",
              "       [24.03 ]], dtype=float32)"
            ]
          },
          "metadata": {},
          "execution_count": 41
        }
      ]
    },
    {
      "cell_type": "markdown",
      "source": [
        "# Preprocessing"
      ],
      "metadata": {
        "id": "om7eCnBsuXlC"
      }
    },
    {
      "cell_type": "code",
      "source": [
        "temp_data = np.load('/content/drive/MyDrive/IMD-TP Load Forecast/Yearly Data/combined_temp_data_181920.npy', allow_pickle=True)"
      ],
      "metadata": {
        "id": "tBdl8yqs5lsT"
      },
      "execution_count": null,
      "outputs": []
    },
    {
      "cell_type": "code",
      "source": [
        "temp_data.shape"
      ],
      "metadata": {
        "id": "9LORjcww5pKq",
        "colab": {
          "base_uri": "https://localhost:8080/"
        },
        "outputId": "ab0bfbc4-d071-498f-a847-bc21db52439e"
      },
      "execution_count": null,
      "outputs": [
        {
          "output_type": "execute_result",
          "data": {
            "text/plain": [
              "(105216, 1)"
            ]
          },
          "metadata": {},
          "execution_count": 5
        }
      ]
    },
    {
      "cell_type": "code",
      "source": [
        "temp_data"
      ],
      "metadata": {
        "colab": {
          "base_uri": "https://localhost:8080/"
        },
        "id": "Kq7kN_rC6m0v",
        "outputId": "01ae3f85-f60a-466f-bdef-b0bf4f4604b7"
      },
      "execution_count": null,
      "outputs": [
        {
          "output_type": "execute_result",
          "data": {
            "text/plain": [
              "array([[18.16 ],\n",
              "       [18.064],\n",
              "       [17.927],\n",
              "       ...,\n",
              "       [24.   ],\n",
              "       [24.03 ],\n",
              "       [24.03 ]], dtype=float32)"
            ]
          },
          "metadata": {},
          "execution_count": 6
        }
      ]
    },
    {
      "cell_type": "code",
      "source": [
        "# Scale the data\n",
        "scaler = MinMaxScaler()\n",
        "scaled_data = scaler.fit_transform(temp_data)"
      ],
      "metadata": {
        "id": "TXTfqBOZ5ZMo"
      },
      "execution_count": null,
      "outputs": []
    },
    {
      "cell_type": "code",
      "source": [
        "scaled_data"
      ],
      "metadata": {
        "id": "HBqzJ3fv5fvF",
        "colab": {
          "base_uri": "https://localhost:8080/"
        },
        "outputId": "0aa4d5ef-dc77-4aba-b896-c966e5dadedd"
      },
      "execution_count": null,
      "outputs": [
        {
          "output_type": "execute_result",
          "data": {
            "text/plain": [
              "array([[0.47242457],\n",
              "       [0.46992713],\n",
              "       [0.46636316],\n",
              "       ...,\n",
              "       [0.62434965],\n",
              "       [0.6251301 ],\n",
              "       [0.6251301 ]], dtype=float32)"
            ]
          },
          "metadata": {},
          "execution_count": 8
        }
      ]
    },
    {
      "cell_type": "code",
      "source": [
        "scaled_data.shape"
      ],
      "metadata": {
        "colab": {
          "base_uri": "https://localhost:8080/"
        },
        "id": "E-rQTRwhcufF",
        "outputId": "1f334219-fb19-4989-892a-b4f7ff49a92c"
      },
      "execution_count": null,
      "outputs": [
        {
          "output_type": "execute_result",
          "data": {
            "text/plain": [
              "(105216, 1)"
            ]
          },
          "metadata": {},
          "execution_count": 9
        }
      ]
    },
    {
      "cell_type": "code",
      "source": [
        "# Preprocess the data\n",
        "n_steps_in = 96 * 7  # Number of steps to take as input\n",
        "n_steps_out = 96  # Number of steps to predict\n",
        "\n",
        "\n",
        "# Reshape the data into input and target sequences\n",
        "X, y = [], []\n",
        "for i in range(n_steps_in, len(scaled_data) - 192):\n",
        "    X.append(scaled_data[i - n_steps_in:i])\n",
        "    y.append(scaled_data[i:i + 192])  # Extract the first column of the target data\n",
        "\n",
        "X = np.array(X)\n",
        "y = np.array(y)\n",
        "y = y.reshape(y.shape[0],y.shape[1]*y.shape[2])"
      ],
      "metadata": {
        "id": "VJXQn_iC4yRe"
      },
      "execution_count": null,
      "outputs": []
    },
    {
      "cell_type": "code",
      "source": [
        "split_index = int(0.80 * len(X))  # 80% for training, 20% for testing\n",
        "X_train, X_test = X[:split_index], X[split_index:]\n",
        "y_train, y_test = y[:split_index], y[split_index:]"
      ],
      "metadata": {
        "id": "qivio4wx5RPi"
      },
      "execution_count": null,
      "outputs": []
    },
    {
      "cell_type": "code",
      "source": [
        "len(scaled_data)"
      ],
      "metadata": {
        "id": "4iNiLnXM45wS",
        "colab": {
          "base_uri": "https://localhost:8080/"
        },
        "outputId": "bb28954b-fed5-499d-f3d0-2227709b9b95"
      },
      "execution_count": null,
      "outputs": [
        {
          "output_type": "execute_result",
          "data": {
            "text/plain": [
              "105216"
            ]
          },
          "metadata": {},
          "execution_count": 12
        }
      ]
    },
    {
      "cell_type": "code",
      "source": [
        "print(X_train.shape)\n",
        "print(X_test.shape)\n",
        "print(y_train.shape)\n",
        "print(y_test.shape)"
      ],
      "metadata": {
        "id": "T1ABTpWc5FWp",
        "colab": {
          "base_uri": "https://localhost:8080/"
        },
        "outputId": "2d1332a0-9acc-4291-86c2-82d8c01f329d"
      },
      "execution_count": null,
      "outputs": [
        {
          "output_type": "stream",
          "name": "stdout",
          "text": [
            "(83481, 672, 1)\n",
            "(20871, 672, 1)\n",
            "(83481, 192)\n",
            "(20871, 192)\n"
          ]
        }
      ]
    },
    {
      "cell_type": "markdown",
      "source": [
        "# Denormalizing"
      ],
      "metadata": {
        "id": "ppet-5u-xDIU"
      }
    },
    {
      "cell_type": "code",
      "source": [
        "# Denormalising or Rescaling\n",
        "tempy = []\n",
        "for i in range(672 ,RH_data.shape[0] - 192):\n",
        "  tempy.append(RH_data[i:i+192])\n",
        "tempy = np.array(tempy)\n",
        "y_train_og, y_test_og = train_test_split(tempy,test_size=0.2,shuffle=False)"
      ],
      "metadata": {
        "id": "HUGcx5ue1R_Q"
      },
      "execution_count": null,
      "outputs": []
    },
    {
      "cell_type": "code",
      "source": [
        "y_train_og.shape"
      ],
      "metadata": {
        "id": "u_e6gIPf4A9W",
        "colab": {
          "base_uri": "https://localhost:8080/"
        },
        "outputId": "9587d577-fcc1-49f6-c024-2810dd947f90"
      },
      "execution_count": null,
      "outputs": [
        {
          "output_type": "execute_result",
          "data": {
            "text/plain": [
              "(83481, 192, 1)"
            ]
          },
          "metadata": {},
          "execution_count": 13
        }
      ]
    },
    {
      "cell_type": "code",
      "source": [
        "y_test_og.shape"
      ],
      "metadata": {
        "id": "ogPqI8pN4M56",
        "colab": {
          "base_uri": "https://localhost:8080/"
        },
        "outputId": "ddbae0b7-56fb-4009-9d6c-64a81fa21b00"
      },
      "execution_count": null,
      "outputs": [
        {
          "output_type": "execute_result",
          "data": {
            "text/plain": [
              "(20871, 192, 1)"
            ]
          },
          "metadata": {},
          "execution_count": 14
        }
      ]
    },
    {
      "cell_type": "code",
      "source": [
        "tempy.shape"
      ],
      "metadata": {
        "id": "gmoS4Hhh4eJP",
        "colab": {
          "base_uri": "https://localhost:8080/"
        },
        "outputId": "e54b2422-6655-45e9-a5f8-7cdd0dc154bd"
      },
      "execution_count": null,
      "outputs": [
        {
          "output_type": "execute_result",
          "data": {
            "text/plain": [
              "(104352, 192, 1)"
            ]
          },
          "metadata": {},
          "execution_count": 15
        }
      ]
    },
    {
      "cell_type": "code",
      "source": [
        "y_test_og = y_test_og.reshape(y_test_og.shape[0],y_test_og.shape[1],y_test_og.shape[2])\n",
        "y_test_og.shape"
      ],
      "metadata": {
        "id": "W1jSbKJ94RUI",
        "colab": {
          "base_uri": "https://localhost:8080/"
        },
        "outputId": "cb82d55f-f70c-49ab-f42d-f3775deed8c3"
      },
      "execution_count": null,
      "outputs": [
        {
          "output_type": "execute_result",
          "data": {
            "text/plain": [
              "(20871, 192, 1)"
            ]
          },
          "metadata": {},
          "execution_count": 16
        }
      ]
    },
    {
      "cell_type": "code",
      "source": [
        "tempy=tempy.reshape(tempy.shape[0],tempy.shape[1]*tempy.shape[2])\n",
        "tempy.shape"
      ],
      "metadata": {
        "id": "D-eb2ibB4cxp",
        "colab": {
          "base_uri": "https://localhost:8080/"
        },
        "outputId": "263899c6-5c7a-4093-9a7d-725ec5be3074"
      },
      "execution_count": null,
      "outputs": [
        {
          "output_type": "execute_result",
          "data": {
            "text/plain": [
              "(104352, 192)"
            ]
          },
          "metadata": {},
          "execution_count": 17
        }
      ]
    },
    {
      "cell_type": "code",
      "source": [
        "# y_test_og = y_test_og.reshape(y_test_og.shape[0],y_test_og.shape[1],y_test_og.shape[2])\n",
        "# tempy=tempy.reshape(tempy.shape[0],tempy.shape[1]*tempy.shape[2])\n",
        "scalery = MinMaxScaler()\n",
        "models=scalery.fit(tempy)\n",
        "sc_data=models.transform(tempy)"
      ],
      "metadata": {
        "id": "v336arY_386k"
      },
      "execution_count": null,
      "outputs": []
    },
    {
      "cell_type": "markdown",
      "source": [
        "# ANN optuna"
      ],
      "metadata": {
        "id": "hQgDxbBSMVAp"
      }
    },
    {
      "cell_type": "code",
      "source": [
        "%pip install optuna\n",
        "import optuna"
      ],
      "metadata": {
        "colab": {
          "base_uri": "https://localhost:8080/"
        },
        "id": "uqq6wDu1ySnz",
        "outputId": "665874ce-ce9d-45da-8096-01cfadaee1ed"
      },
      "execution_count": null,
      "outputs": [
        {
          "output_type": "stream",
          "name": "stdout",
          "text": [
            "Collecting optuna\n",
            "  Downloading optuna-3.2.0-py3-none-any.whl (390 kB)\n",
            "\u001b[2K     \u001b[90m━━━━━━━━━━━━━━━━━━━━━━━━━━━━━━━━━━━━━━━\u001b[0m \u001b[32m390.6/390.6 kB\u001b[0m \u001b[31m7.0 MB/s\u001b[0m eta \u001b[36m0:00:00\u001b[0m\n",
            "\u001b[?25hCollecting alembic>=1.5.0 (from optuna)\n",
            "  Downloading alembic-1.11.1-py3-none-any.whl (224 kB)\n",
            "\u001b[2K     \u001b[90m━━━━━━━━━━━━━━━━━━━━━━━━━━━━━━━━━━━━━━\u001b[0m \u001b[32m224.5/224.5 kB\u001b[0m \u001b[31m27.1 MB/s\u001b[0m eta \u001b[36m0:00:00\u001b[0m\n",
            "\u001b[?25hCollecting cmaes>=0.9.1 (from optuna)\n",
            "  Downloading cmaes-0.10.0-py3-none-any.whl (29 kB)\n",
            "Collecting colorlog (from optuna)\n",
            "  Downloading colorlog-6.7.0-py2.py3-none-any.whl (11 kB)\n",
            "Requirement already satisfied: numpy in /usr/local/lib/python3.10/dist-packages (from optuna) (1.22.4)\n",
            "Requirement already satisfied: packaging>=20.0 in /usr/local/lib/python3.10/dist-packages (from optuna) (23.1)\n",
            "Requirement already satisfied: sqlalchemy>=1.3.0 in /usr/local/lib/python3.10/dist-packages (from optuna) (2.0.18)\n",
            "Requirement already satisfied: tqdm in /usr/local/lib/python3.10/dist-packages (from optuna) (4.65.0)\n",
            "Requirement already satisfied: PyYAML in /usr/local/lib/python3.10/dist-packages (from optuna) (6.0)\n",
            "Collecting Mako (from alembic>=1.5.0->optuna)\n",
            "  Downloading Mako-1.2.4-py3-none-any.whl (78 kB)\n",
            "\u001b[2K     \u001b[90m━━━━━━━━━━━━━━━━━━━━━━━━━━━━━━━━━━━━━━━━\u001b[0m \u001b[32m78.7/78.7 kB\u001b[0m \u001b[31m8.8 MB/s\u001b[0m eta \u001b[36m0:00:00\u001b[0m\n",
            "\u001b[?25hRequirement already satisfied: typing-extensions>=4 in /usr/local/lib/python3.10/dist-packages (from alembic>=1.5.0->optuna) (4.7.1)\n",
            "Requirement already satisfied: greenlet!=0.4.17 in /usr/local/lib/python3.10/dist-packages (from sqlalchemy>=1.3.0->optuna) (2.0.2)\n",
            "Requirement already satisfied: MarkupSafe>=0.9.2 in /usr/local/lib/python3.10/dist-packages (from Mako->alembic>=1.5.0->optuna) (2.1.3)\n",
            "Installing collected packages: Mako, colorlog, cmaes, alembic, optuna\n",
            "Successfully installed Mako-1.2.4 alembic-1.11.1 cmaes-0.10.0 colorlog-6.7.0 optuna-3.2.0\n"
          ]
        }
      ]
    },
    {
      "cell_type": "code",
      "source": [
        "def create_model(trial):\n",
        "\n",
        "  # Create the ANN model\n",
        "  model = Sequential()\n",
        "  model.add(Dense(units=(trial.suggest_int('ann_1_units',y_train.shape[1], X_train.shape[1])), activation='relu', input_dim=X_train.shape[1]))\n",
        "  model.add(Dense(units=(trial.suggest_int('ann_2_units',y_train.shape[1], X_train.shape[1])),activation='relu'))\n",
        "  model.add(Dense(units=(trial.suggest_int('ann_3_units',y_train.shape[1], X_train.shape[1])),activation='relu'))\n",
        "  # ann.add(tf.keras.layers.Dense(units=(trial.suggest_int('ann_2_units',y_train.shape[1], X_train.shape[1])),activation=\"relu\"))\n",
        "  model.add(tf.keras.layers.Dense(y_train.shape[1], activation='tanh'))\n",
        "\n",
        "  # Compile the model\n",
        "  optimizer_name = trial.suggest_categorical(\"optimizer\", [\"adam\", \"SGD\", \"RMSprop\", \"Adadelta\"])\n",
        "  # optimizer = tf.keras.optimizers.Adam(learning_rate=trial.suggest_float('learning_rate', 1e-5, 1e-2, log=True))\n",
        "  # model.compile(optimizer=optimizer_name, loss='mse', metrics=['mse'])\n",
        "  model.compile(optimizer=optimizer_name, loss=\"binary_crossentropy\",metrics=['accuracy'])\n",
        "\n",
        "  return model\n",
        "\n",
        "def objective(trial):\n",
        "    model = create_model(trial)\n",
        "    epochs = trial.suggest_int(\"epochs\", 5, 50,step=5, log=False)\n",
        "    batchsize = trial.suggest_int(\"batchsize\", 5, 50,step=5, log=False)\n",
        "\n",
        "    # Train the model\n",
        "    model.fit(X_train, y_train, batch_size=batchsize, epochs=epochs)\n",
        "\n",
        "    # Evaluate the model\n",
        "    scores = model.evaluate(X_test, y_test, verbose=0)\n",
        "    return scores[1]\n",
        "\n",
        "study = optuna.create_study()\n",
        "study.optimize(objective, n_trials=10)\n",
        "\n",
        "print(study.best_params)"
      ],
      "metadata": {
        "colab": {
          "base_uri": "https://localhost:8080/"
        },
        "id": "vjA2IYruyWyI",
        "outputId": "e560fa8e-d1c8-4d24-c4da-cdaed03761e4"
      },
      "execution_count": null,
      "outputs": [
        {
          "output_type": "stream",
          "name": "stderr",
          "text": [
            "[I 2023-07-21 16:45:57,062] A new study created in memory with name: no-name-8ac04a77-04aa-4a21-8456-13dd4271b811\n"
          ]
        },
        {
          "output_type": "stream",
          "name": "stdout",
          "text": [
            "Epoch 1/45\n",
            "1670/1670 [==============================] - 9s 4ms/step - loss: 1.8187 - accuracy: 0.0139\n",
            "Epoch 2/45\n",
            "1670/1670 [==============================] - 7s 4ms/step - loss: 1.5974 - accuracy: 0.0363\n",
            "Epoch 3/45\n",
            "1670/1670 [==============================] - 7s 4ms/step - loss: 1.5967 - accuracy: 0.0428\n",
            "Epoch 4/45\n",
            "1670/1670 [==============================] - 7s 4ms/step - loss: 1.3716 - accuracy: 0.0400\n",
            "Epoch 5/45\n",
            "1670/1670 [==============================] - 7s 4ms/step - loss: 1.1271 - accuracy: 0.0470\n",
            "Epoch 6/45\n",
            "1670/1670 [==============================] - 7s 4ms/step - loss: 1.1194 - accuracy: 0.0477\n",
            "Epoch 7/45\n",
            "1670/1670 [==============================] - 6s 4ms/step - loss: 1.0747 - accuracy: 0.0509\n",
            "Epoch 8/45\n",
            "1670/1670 [==============================] - 9s 5ms/step - loss: 1.0746 - accuracy: 0.0514\n",
            "Epoch 9/45\n",
            "1670/1670 [==============================] - 7s 4ms/step - loss: 1.0746 - accuracy: 0.0524\n",
            "Epoch 10/45\n",
            "1670/1670 [==============================] - 7s 4ms/step - loss: 0.8680 - accuracy: 0.0493\n",
            "Epoch 11/45\n",
            "1670/1670 [==============================] - 6s 4ms/step - loss: 0.7094 - accuracy: 0.0557\n",
            "Epoch 12/45\n",
            "1670/1670 [==============================] - 7s 4ms/step - loss: 0.7094 - accuracy: 0.0570\n",
            "Epoch 13/45\n",
            "1670/1670 [==============================] - 6s 4ms/step - loss: 0.7094 - accuracy: 0.0576\n",
            "Epoch 14/45\n",
            "1670/1670 [==============================] - 7s 4ms/step - loss: 0.7093 - accuracy: 0.0570\n",
            "Epoch 15/45\n",
            "1670/1670 [==============================] - 6s 4ms/step - loss: 0.7093 - accuracy: 0.0565\n",
            "Epoch 16/45\n",
            "1670/1670 [==============================] - 8s 5ms/step - loss: 0.7093 - accuracy: 0.0566\n",
            "Epoch 17/45\n",
            "1670/1670 [==============================] - 6s 4ms/step - loss: 0.7092 - accuracy: 0.0562\n",
            "Epoch 18/45\n",
            "1670/1670 [==============================] - 8s 5ms/step - loss: 0.7092 - accuracy: 0.0591\n",
            "Epoch 19/45\n",
            "1670/1670 [==============================] - 6s 4ms/step - loss: 0.7092 - accuracy: 0.0571\n",
            "Epoch 20/45\n",
            "1670/1670 [==============================] - 8s 5ms/step - loss: 0.7092 - accuracy: 0.0581\n",
            "Epoch 21/45\n",
            "1670/1670 [==============================] - 6s 4ms/step - loss: 0.6884 - accuracy: 0.0574\n",
            "Epoch 22/45\n",
            "1670/1670 [==============================] - 8s 5ms/step - loss: 0.6570 - accuracy: 0.0580\n",
            "Epoch 23/45\n",
            "1670/1670 [==============================] - 6s 4ms/step - loss: 0.6569 - accuracy: 0.0586\n",
            "Epoch 24/45\n",
            "1670/1670 [==============================] - 7s 4ms/step - loss: 0.6569 - accuracy: 0.0603\n",
            "Epoch 25/45\n",
            "1670/1670 [==============================] - 6s 4ms/step - loss: 0.6569 - accuracy: 0.0595\n",
            "Epoch 26/45\n",
            "1670/1670 [==============================] - 8s 5ms/step - loss: 0.6569 - accuracy: 0.0598\n",
            "Epoch 27/45\n",
            "1670/1670 [==============================] - 6s 4ms/step - loss: 0.6569 - accuracy: 0.0588\n",
            "Epoch 28/45\n",
            "1670/1670 [==============================] - 8s 5ms/step - loss: 0.6569 - accuracy: 0.0617\n",
            "Epoch 29/45\n",
            "1670/1670 [==============================] - 6s 4ms/step - loss: 0.6569 - accuracy: 0.0590\n",
            "Epoch 30/45\n",
            "1670/1670 [==============================] - 8s 5ms/step - loss: 0.6569 - accuracy: 0.0585\n",
            "Epoch 31/45\n",
            "1670/1670 [==============================] - 6s 4ms/step - loss: 0.6568 - accuracy: 0.0602\n",
            "Epoch 32/45\n",
            "1670/1670 [==============================] - 8s 5ms/step - loss: 0.6568 - accuracy: 0.0607\n",
            "Epoch 33/45\n",
            "1670/1670 [==============================] - 6s 4ms/step - loss: 0.6568 - accuracy: 0.0594\n",
            "Epoch 34/45\n",
            "1670/1670 [==============================] - 8s 5ms/step - loss: 0.6568 - accuracy: 0.0600\n",
            "Epoch 35/45\n",
            "1670/1670 [==============================] - 6s 4ms/step - loss: 0.6568 - accuracy: 0.0614\n",
            "Epoch 36/45\n",
            "1670/1670 [==============================] - 8s 5ms/step - loss: 0.6548 - accuracy: 0.0587\n",
            "Epoch 37/45\n",
            "1670/1670 [==============================] - 6s 4ms/step - loss: 0.6049 - accuracy: 0.0575\n",
            "Epoch 38/45\n",
            "1670/1670 [==============================] - 8s 5ms/step - loss: 0.6048 - accuracy: 0.0597\n",
            "Epoch 39/45\n",
            "1670/1670 [==============================] - 6s 4ms/step - loss: 0.6047 - accuracy: 0.0614\n",
            "Epoch 40/45\n",
            "1670/1670 [==============================] - 8s 5ms/step - loss: 0.6047 - accuracy: 0.0609\n",
            "Epoch 41/45\n",
            "1670/1670 [==============================] - 6s 4ms/step - loss: 0.6047 - accuracy: 0.0613\n",
            "Epoch 42/45\n",
            "1670/1670 [==============================] - 8s 5ms/step - loss: 0.6047 - accuracy: 0.0605\n",
            "Epoch 43/45\n",
            "1670/1670 [==============================] - 7s 4ms/step - loss: 0.6047 - accuracy: 0.0611\n",
            "Epoch 44/45\n",
            "1670/1670 [==============================] - 7s 4ms/step - loss: 0.6046 - accuracy: 0.0611\n",
            "Epoch 45/45\n",
            "1670/1670 [==============================] - 6s 4ms/step - loss: 0.6047 - accuracy: 0.0620\n"
          ]
        },
        {
          "output_type": "stream",
          "name": "stderr",
          "text": [
            "[I 2023-07-21 16:51:21,707] Trial 0 finished with value: 0.028173062950372696 and parameters: {'ann_1_units': 626, 'ann_2_units': 329, 'ann_3_units': 500, 'optimizer': 'adam', 'epochs': 45, 'batchsize': 50}. Best is trial 0 with value: 0.028173062950372696.\n"
          ]
        },
        {
          "output_type": "stream",
          "name": "stdout",
          "text": [
            "Epoch 1/10\n",
            "5566/5566 [==============================] - 24s 4ms/step - loss: 1.2743 - accuracy: 0.0322\n",
            "Epoch 2/10\n",
            "5566/5566 [==============================] - 21s 4ms/step - loss: 1.0545 - accuracy: 0.0441\n",
            "Epoch 3/10\n",
            "5566/5566 [==============================] - 23s 4ms/step - loss: 0.8630 - accuracy: 0.0466\n",
            "Epoch 4/10\n",
            "5566/5566 [==============================] - 21s 4ms/step - loss: 0.7723 - accuracy: 0.0486\n",
            "Epoch 5/10\n",
            "5566/5566 [==============================] - 22s 4ms/step - loss: 0.7620 - accuracy: 0.0517\n",
            "Epoch 6/10\n",
            "5566/5566 [==============================] - 21s 4ms/step - loss: 0.7619 - accuracy: 0.0526\n",
            "Epoch 7/10\n",
            "5566/5566 [==============================] - 23s 4ms/step - loss: 0.7619 - accuracy: 0.0521\n",
            "Epoch 8/10\n",
            "5566/5566 [==============================] - 22s 4ms/step - loss: 0.7618 - accuracy: 0.0515\n",
            "Epoch 9/10\n",
            "5566/5566 [==============================] - 22s 4ms/step - loss: 0.7617 - accuracy: 0.0533\n",
            "Epoch 10/10\n",
            "5566/5566 [==============================] - 24s 4ms/step - loss: 0.7617 - accuracy: 0.0542\n"
          ]
        },
        {
          "output_type": "stream",
          "name": "stderr",
          "text": [
            "[I 2023-07-21 16:55:46,264] Trial 1 finished with value: 0.026160702109336853 and parameters: {'ann_1_units': 467, 'ann_2_units': 486, 'ann_3_units': 428, 'optimizer': 'RMSprop', 'epochs': 10, 'batchsize': 15}. Best is trial 1 with value: 0.026160702109336853.\n"
          ]
        },
        {
          "output_type": "stream",
          "name": "stdout",
          "text": [
            "Epoch 1/10\n",
            "5566/5566 [==============================] - 24s 4ms/step - loss: 1.3681 - accuracy: 0.0356\n",
            "Epoch 2/10\n",
            "5566/5566 [==============================] - 21s 4ms/step - loss: 1.0757 - accuracy: 0.0456\n",
            "Epoch 3/10\n",
            "5566/5566 [==============================] - 22s 4ms/step - loss: 0.9962 - accuracy: 0.0471\n",
            "Epoch 4/10\n",
            "5566/5566 [==============================] - 21s 4ms/step - loss: 0.9186 - accuracy: 0.0489\n",
            "Epoch 5/10\n",
            "5566/5566 [==============================] - 22s 4ms/step - loss: 0.9185 - accuracy: 0.0497\n",
            "Epoch 6/10\n",
            "5566/5566 [==============================] - 21s 4ms/step - loss: 0.9184 - accuracy: 0.0497\n",
            "Epoch 7/10\n",
            "5566/5566 [==============================] - 21s 4ms/step - loss: 0.8877 - accuracy: 0.0505\n",
            "Epoch 8/10\n",
            "5566/5566 [==============================] - 24s 4ms/step - loss: 0.8661 - accuracy: 0.0512\n",
            "Epoch 9/10\n",
            "5566/5566 [==============================] - 21s 4ms/step - loss: 0.8660 - accuracy: 0.0525\n",
            "Epoch 10/10\n",
            "5566/5566 [==============================] - 22s 4ms/step - loss: 0.8660 - accuracy: 0.0511\n"
          ]
        },
        {
          "output_type": "stream",
          "name": "stderr",
          "text": [
            "[I 2023-07-21 17:00:10,796] Trial 2 finished with value: 0.024196254089474678 and parameters: {'ann_1_units': 489, 'ann_2_units': 232, 'ann_3_units': 622, 'optimizer': 'RMSprop', 'epochs': 10, 'batchsize': 15}. Best is trial 2 with value: 0.024196254089474678.\n"
          ]
        },
        {
          "output_type": "stream",
          "name": "stdout",
          "text": [
            "Epoch 1/40\n",
            "1670/1670 [==============================] - 9s 4ms/step - loss: 2.1845 - accuracy: 0.0261\n",
            "Epoch 2/40\n",
            "1670/1670 [==============================] - 7s 4ms/step - loss: 1.5490 - accuracy: 0.0348\n",
            "Epoch 3/40\n",
            "1670/1670 [==============================] - 7s 4ms/step - loss: 1.2314 - accuracy: 0.0443\n",
            "Epoch 4/40\n",
            "1670/1670 [==============================] - 7s 4ms/step - loss: 1.2313 - accuracy: 0.0460\n",
            "Epoch 5/40\n",
            "1670/1670 [==============================] - 7s 4ms/step - loss: 1.1850 - accuracy: 0.0461\n",
            "Epoch 6/40\n",
            "1670/1670 [==============================] - 7s 4ms/step - loss: 1.1790 - accuracy: 0.0491\n",
            "Epoch 7/40\n",
            "1670/1670 [==============================] - 7s 4ms/step - loss: 1.0494 - accuracy: 0.0467\n",
            "Epoch 8/40\n",
            "1670/1670 [==============================] - 6s 4ms/step - loss: 0.9702 - accuracy: 0.0500\n",
            "Epoch 9/40\n",
            "1670/1670 [==============================] - 7s 4ms/step - loss: 0.9702 - accuracy: 0.0541\n",
            "Epoch 10/40\n",
            "1670/1670 [==============================] - 6s 4ms/step - loss: 0.9701 - accuracy: 0.0536\n",
            "Epoch 11/40\n",
            "1670/1670 [==============================] - 7s 4ms/step - loss: 0.9701 - accuracy: 0.0560\n",
            "Epoch 12/40\n",
            "1670/1670 [==============================] - 6s 4ms/step - loss: 0.9701 - accuracy: 0.0560\n",
            "Epoch 13/40\n",
            "1670/1670 [==============================] - 8s 4ms/step - loss: 0.9701 - accuracy: 0.0569\n",
            "Epoch 14/40\n",
            "1670/1670 [==============================] - 6s 4ms/step - loss: 0.8770 - accuracy: 0.0507\n",
            "Epoch 15/40\n",
            "1670/1670 [==============================] - 7s 4ms/step - loss: 0.7093 - accuracy: 0.0543\n",
            "Epoch 16/40\n",
            "1670/1670 [==============================] - 6s 4ms/step - loss: 0.7093 - accuracy: 0.0567\n",
            "Epoch 17/40\n",
            "1670/1670 [==============================] - 8s 5ms/step - loss: 0.7093 - accuracy: 0.0591\n",
            "Epoch 18/40\n",
            "1670/1670 [==============================] - 8s 5ms/step - loss: 0.7093 - accuracy: 0.0587\n",
            "Epoch 19/40\n",
            "1670/1670 [==============================] - 8s 5ms/step - loss: 0.7093 - accuracy: 0.0582\n",
            "Epoch 20/40\n",
            "1670/1670 [==============================] - 6s 4ms/step - loss: 0.7092 - accuracy: 0.0590\n",
            "Epoch 21/40\n",
            "1670/1670 [==============================] - 8s 5ms/step - loss: 0.7092 - accuracy: 0.0577\n",
            "Epoch 22/40\n",
            "1670/1670 [==============================] - 6s 4ms/step - loss: 0.7092 - accuracy: 0.0579\n",
            "Epoch 23/40\n",
            "1670/1670 [==============================] - 7s 4ms/step - loss: 0.7092 - accuracy: 0.0588\n",
            "Epoch 24/40\n",
            "1670/1670 [==============================] - 6s 4ms/step - loss: 0.7091 - accuracy: 0.0605\n",
            "Epoch 25/40\n",
            "1670/1670 [==============================] - 8s 5ms/step - loss: 0.7091 - accuracy: 0.0595\n",
            "Epoch 26/40\n",
            "1670/1670 [==============================] - 6s 4ms/step - loss: 0.7091 - accuracy: 0.0592\n",
            "Epoch 27/40\n",
            "1670/1670 [==============================] - 8s 5ms/step - loss: 0.7091 - accuracy: 0.0592\n",
            "Epoch 28/40\n",
            "1670/1670 [==============================] - 6s 4ms/step - loss: 0.7091 - accuracy: 0.0592\n",
            "Epoch 29/40\n",
            "1670/1670 [==============================] - 8s 5ms/step - loss: 0.7090 - accuracy: 0.0588\n",
            "Epoch 30/40\n",
            "1670/1670 [==============================] - 6s 4ms/step - loss: 0.7090 - accuracy: 0.0596\n",
            "Epoch 31/40\n",
            "1670/1670 [==============================] - 8s 5ms/step - loss: 0.7090 - accuracy: 0.0596\n",
            "Epoch 32/40\n",
            "1670/1670 [==============================] - 6s 4ms/step - loss: 0.7090 - accuracy: 0.0600\n",
            "Epoch 33/40\n",
            "1670/1670 [==============================] - 8s 5ms/step - loss: 0.7090 - accuracy: 0.0596\n",
            "Epoch 34/40\n",
            "1670/1670 [==============================] - 6s 4ms/step - loss: 0.7090 - accuracy: 0.0608\n",
            "Epoch 35/40\n",
            "1670/1670 [==============================] - 8s 5ms/step - loss: 0.7090 - accuracy: 0.0609\n",
            "Epoch 36/40\n",
            "1670/1670 [==============================] - 6s 4ms/step - loss: 0.7090 - accuracy: 0.0629\n",
            "Epoch 37/40\n",
            "1670/1670 [==============================] - 8s 5ms/step - loss: 0.7090 - accuracy: 0.0597\n",
            "Epoch 38/40\n",
            "1670/1670 [==============================] - 6s 4ms/step - loss: 0.7090 - accuracy: 0.0600\n",
            "Epoch 39/40\n",
            "1670/1670 [==============================] - 7s 4ms/step - loss: 0.7090 - accuracy: 0.0595\n",
            "Epoch 40/40\n",
            "1670/1670 [==============================] - 6s 4ms/step - loss: 0.7090 - accuracy: 0.0611\n"
          ]
        },
        {
          "output_type": "stream",
          "name": "stderr",
          "text": [
            "[I 2023-07-21 17:04:49,403] Trial 3 finished with value: 0.029850030317902565 and parameters: {'ann_1_units': 454, 'ann_2_units': 429, 'ann_3_units': 325, 'optimizer': 'adam', 'epochs': 40, 'batchsize': 50}. Best is trial 2 with value: 0.024196254089474678.\n"
          ]
        },
        {
          "output_type": "stream",
          "name": "stdout",
          "text": [
            "Epoch 1/10\n",
            "5566/5566 [==============================] - 23s 4ms/step - loss: 7.5313 - accuracy: 0.0075\n",
            "Epoch 2/10\n",
            "5566/5566 [==============================] - 21s 4ms/step - loss: 7.5324 - accuracy: 0.0075\n",
            "Epoch 3/10\n",
            "5566/5566 [==============================] - 23s 4ms/step - loss: 7.5324 - accuracy: 0.0075\n",
            "Epoch 4/10\n",
            "5566/5566 [==============================] - 22s 4ms/step - loss: 7.5324 - accuracy: 0.0075\n",
            "Epoch 5/10\n",
            "5566/5566 [==============================] - 22s 4ms/step - loss: 7.5324 - accuracy: 0.0075\n",
            "Epoch 6/10\n",
            "5566/5566 [==============================] - 22s 4ms/step - loss: 7.5324 - accuracy: 0.0075\n",
            "Epoch 7/10\n",
            "5566/5566 [==============================] - 21s 4ms/step - loss: 7.5324 - accuracy: 0.0075\n",
            "Epoch 8/10\n",
            "5566/5566 [==============================] - 22s 4ms/step - loss: 7.5324 - accuracy: 0.0075\n",
            "Epoch 9/10\n",
            "5566/5566 [==============================] - 21s 4ms/step - loss: 7.5324 - accuracy: 0.0075\n",
            "Epoch 10/10\n",
            "5566/5566 [==============================] - 22s 4ms/step - loss: 7.5324 - accuracy: 0.0075\n"
          ]
        },
        {
          "output_type": "stream",
          "name": "stderr",
          "text": [
            "[I 2023-07-21 17:08:30,983] Trial 4 finished with value: 0.0067078722640872 and parameters: {'ann_1_units': 355, 'ann_2_units': 584, 'ann_3_units': 244, 'optimizer': 'SGD', 'epochs': 10, 'batchsize': 15}. Best is trial 4 with value: 0.0067078722640872.\n"
          ]
        },
        {
          "output_type": "stream",
          "name": "stdout",
          "text": [
            "Epoch 1/10\n",
            "2783/2783 [==============================] - 13s 4ms/step - loss: 2.3725 - accuracy: 0.0279\n",
            "Epoch 2/10\n",
            "2783/2783 [==============================] - 11s 4ms/step - loss: 1.9618 - accuracy: 0.0391\n",
            "Epoch 3/10\n",
            "2783/2783 [==============================] - 10s 3ms/step - loss: 1.8582 - accuracy: 0.0431\n",
            "Epoch 4/10\n",
            "2783/2783 [==============================] - 13s 5ms/step - loss: 1.8579 - accuracy: 0.0458\n",
            "Epoch 5/10\n",
            "2783/2783 [==============================] - 11s 4ms/step - loss: 1.8577 - accuracy: 0.0472\n",
            "Epoch 6/10\n",
            "2783/2783 [==============================] - 11s 4ms/step - loss: 1.8269 - accuracy: 0.0474\n",
            "Epoch 7/10\n",
            "2783/2783 [==============================] - 11s 4ms/step - loss: 1.7532 - accuracy: 0.0475\n",
            "Epoch 8/10\n",
            "2783/2783 [==============================] - 10s 4ms/step - loss: 1.7531 - accuracy: 0.0482\n",
            "Epoch 9/10\n",
            "2783/2783 [==============================] - 11s 4ms/step - loss: 1.7531 - accuracy: 0.0492\n",
            "Epoch 10/10\n",
            "2783/2783 [==============================] - 11s 4ms/step - loss: 1.7530 - accuracy: 0.0500\n"
          ]
        },
        {
          "output_type": "stream",
          "name": "stderr",
          "text": [
            "[I 2023-07-21 17:10:24,963] Trial 5 finished with value: 0.023046331480145454 and parameters: {'ann_1_units': 260, 'ann_2_units': 205, 'ann_3_units': 329, 'optimizer': 'RMSprop', 'epochs': 10, 'batchsize': 30}. Best is trial 4 with value: 0.0067078722640872.\n"
          ]
        },
        {
          "output_type": "stream",
          "name": "stdout",
          "text": [
            "Epoch 1/35\n",
            "2088/2088 [==============================] - 11s 4ms/step - loss: 1.7793 - accuracy: 0.0222\n",
            "Epoch 2/35\n",
            "2088/2088 [==============================] - 8s 4ms/step - loss: 1.5446 - accuracy: 0.0451\n",
            "Epoch 3/35\n",
            "2088/2088 [==============================] - 9s 4ms/step - loss: 1.5444 - accuracy: 0.0469\n",
            "Epoch 4/35\n",
            "2088/2088 [==============================] - 9s 4ms/step - loss: 1.2284 - accuracy: 0.0456\n",
            "Epoch 5/35\n",
            "2088/2088 [==============================] - 8s 4ms/step - loss: 1.0225 - accuracy: 0.0500\n",
            "Epoch 6/35\n",
            "2088/2088 [==============================] - 9s 4ms/step - loss: 1.0224 - accuracy: 0.0535\n",
            "Epoch 7/35\n",
            "2088/2088 [==============================] - 8s 4ms/step - loss: 1.0115 - accuracy: 0.0523\n",
            "Epoch 8/35\n",
            "2088/2088 [==============================] - 9s 4ms/step - loss: 0.9181 - accuracy: 0.0534\n",
            "Epoch 9/35\n",
            "2088/2088 [==============================] - 9s 4ms/step - loss: 0.9180 - accuracy: 0.0545\n",
            "Epoch 10/35\n",
            "2088/2088 [==============================] - 8s 4ms/step - loss: 0.9180 - accuracy: 0.0541\n",
            "Epoch 11/35\n",
            "2088/2088 [==============================] - 9s 4ms/step - loss: 0.9181 - accuracy: 0.0537\n",
            "Epoch 12/35\n",
            "2088/2088 [==============================] - 9s 4ms/step - loss: 0.9180 - accuracy: 0.0565\n",
            "Epoch 13/35\n",
            "2088/2088 [==============================] - 8s 4ms/step - loss: 0.9180 - accuracy: 0.0559\n",
            "Epoch 14/35\n",
            "2088/2088 [==============================] - 9s 4ms/step - loss: 0.8818 - accuracy: 0.0566\n",
            "Epoch 15/35\n",
            "2088/2088 [==============================] - 8s 4ms/step - loss: 0.8658 - accuracy: 0.0574\n",
            "Epoch 16/35\n",
            "2088/2088 [==============================] - 10s 5ms/step - loss: 0.8658 - accuracy: 0.0579\n",
            "Epoch 17/35\n",
            "2088/2088 [==============================] - 9s 4ms/step - loss: 0.8658 - accuracy: 0.0571\n",
            "Epoch 18/35\n",
            "2088/2088 [==============================] - 8s 4ms/step - loss: 0.8658 - accuracy: 0.0598\n",
            "Epoch 19/35\n",
            "2088/2088 [==============================] - 9s 4ms/step - loss: 0.8658 - accuracy: 0.0590\n",
            "Epoch 20/35\n",
            "2088/2088 [==============================] - 8s 4ms/step - loss: 0.8657 - accuracy: 0.0590\n",
            "Epoch 21/35\n",
            "2088/2088 [==============================] - 9s 4ms/step - loss: 0.8657 - accuracy: 0.0596\n",
            "Epoch 22/35\n",
            "2088/2088 [==============================] - 9s 4ms/step - loss: 0.8657 - accuracy: 0.0596\n",
            "Epoch 23/35\n",
            "2088/2088 [==============================] - 8s 4ms/step - loss: 0.8657 - accuracy: 0.0600\n",
            "Epoch 24/35\n",
            "2088/2088 [==============================] - 9s 4ms/step - loss: 0.8657 - accuracy: 0.0590\n",
            "Epoch 25/35\n",
            "2088/2088 [==============================] - 8s 4ms/step - loss: 0.8657 - accuracy: 0.0603\n",
            "Epoch 26/35\n",
            "2088/2088 [==============================] - 9s 4ms/step - loss: 0.8657 - accuracy: 0.0594\n",
            "Epoch 27/35\n",
            "2088/2088 [==============================] - 9s 4ms/step - loss: 0.8025 - accuracy: 0.0558\n",
            "Epoch 28/35\n",
            "2088/2088 [==============================] - 8s 4ms/step - loss: 0.7613 - accuracy: 0.0575\n",
            "Epoch 29/35\n",
            "2088/2088 [==============================] - 9s 4ms/step - loss: 0.7613 - accuracy: 0.0597\n",
            "Epoch 30/35\n",
            "2088/2088 [==============================] - 8s 4ms/step - loss: 0.7613 - accuracy: 0.0580\n",
            "Epoch 31/35\n",
            "2088/2088 [==============================] - 9s 5ms/step - loss: 0.7613 - accuracy: 0.0588\n",
            "Epoch 32/35\n",
            "2088/2088 [==============================] - 9s 5ms/step - loss: 0.7613 - accuracy: 0.0604\n",
            "Epoch 33/35\n",
            "2088/2088 [==============================] - 8s 4ms/step - loss: 0.7613 - accuracy: 0.0589\n",
            "Epoch 34/35\n",
            "2088/2088 [==============================] - 10s 5ms/step - loss: 0.7613 - accuracy: 0.0595\n",
            "Epoch 35/35\n",
            "2088/2088 [==============================] - 9s 4ms/step - loss: 0.7612 - accuracy: 0.0591\n"
          ]
        },
        {
          "output_type": "stream",
          "name": "stderr",
          "text": [
            "[I 2023-07-21 17:15:33,242] Trial 6 finished with value: 0.029802117496728897 and parameters: {'ann_1_units': 299, 'ann_2_units': 438, 'ann_3_units': 340, 'optimizer': 'adam', 'epochs': 35, 'batchsize': 40}. Best is trial 4 with value: 0.0067078722640872.\n"
          ]
        },
        {
          "output_type": "stream",
          "name": "stdout",
          "text": [
            "Epoch 1/30\n",
            "2088/2088 [==============================] - 9s 4ms/step - loss: 2.0437 - accuracy: 0.0212\n",
            "Epoch 2/30\n",
            "2088/2088 [==============================] - 8s 4ms/step - loss: 1.4408 - accuracy: 0.0389\n",
            "Epoch 3/30\n",
            "2088/2088 [==============================] - 9s 4ms/step - loss: 1.3892 - accuracy: 0.0439\n",
            "Epoch 4/30\n",
            "2088/2088 [==============================] - 10s 5ms/step - loss: 1.1890 - accuracy: 0.0427\n",
            "Epoch 5/30\n",
            "2088/2088 [==============================] - 9s 4ms/step - loss: 1.1278 - accuracy: 0.0465\n",
            "Epoch 6/30\n",
            "2088/2088 [==============================] - 9s 4ms/step - loss: 1.0755 - accuracy: 0.0466\n",
            "Epoch 7/30\n",
            "2088/2088 [==============================] - 8s 4ms/step - loss: 1.0753 - accuracy: 0.0487\n",
            "Epoch 8/30\n",
            "2088/2088 [==============================] - 9s 4ms/step - loss: 1.0239 - accuracy: 0.0474\n",
            "Epoch 9/30\n",
            "2088/2088 [==============================] - 7s 4ms/step - loss: 0.9866 - accuracy: 0.0485\n",
            "Epoch 10/30\n",
            "2088/2088 [==============================] - 10s 5ms/step - loss: 0.9707 - accuracy: 0.0489\n",
            "Epoch 11/30\n",
            "2088/2088 [==============================] - 9s 4ms/step - loss: 0.9707 - accuracy: 0.0500\n",
            "Epoch 12/30\n",
            "2088/2088 [==============================] - 8s 4ms/step - loss: 0.9706 - accuracy: 0.0503\n",
            "Epoch 13/30\n",
            "2088/2088 [==============================] - 9s 4ms/step - loss: 0.9706 - accuracy: 0.0510\n",
            "Epoch 14/30\n",
            "2088/2088 [==============================] - 7s 4ms/step - loss: 0.9705 - accuracy: 0.0515\n",
            "Epoch 15/30\n",
            "2088/2088 [==============================] - 9s 4ms/step - loss: 0.9226 - accuracy: 0.0509\n",
            "Epoch 16/30\n",
            "2088/2088 [==============================] - 8s 4ms/step - loss: 0.9183 - accuracy: 0.0500\n",
            "Epoch 17/30\n",
            "2088/2088 [==============================] - 8s 4ms/step - loss: 0.9183 - accuracy: 0.0516\n",
            "Epoch 18/30\n",
            "2088/2088 [==============================] - 9s 4ms/step - loss: 0.9183 - accuracy: 0.0519\n",
            "Epoch 19/30\n",
            "2088/2088 [==============================] - 7s 4ms/step - loss: 0.9182 - accuracy: 0.0527\n",
            "Epoch 20/30\n",
            "2088/2088 [==============================] - 9s 4ms/step - loss: 0.9182 - accuracy: 0.0516\n",
            "Epoch 21/30\n",
            "2088/2088 [==============================] - 8s 4ms/step - loss: 0.9182 - accuracy: 0.0535\n",
            "Epoch 22/30\n",
            "2088/2088 [==============================] - 9s 4ms/step - loss: 0.9182 - accuracy: 0.0537\n",
            "Epoch 23/30\n",
            "2088/2088 [==============================] - 9s 4ms/step - loss: 0.9182 - accuracy: 0.0535\n",
            "Epoch 24/30\n",
            "2088/2088 [==============================] - 8s 4ms/step - loss: 0.9182 - accuracy: 0.0534\n",
            "Epoch 25/30\n",
            "2088/2088 [==============================] - 9s 4ms/step - loss: 0.9182 - accuracy: 0.0544\n",
            "Epoch 26/30\n",
            "2088/2088 [==============================] - 8s 4ms/step - loss: 0.9181 - accuracy: 0.0530\n",
            "Epoch 27/30\n",
            "2088/2088 [==============================] - 9s 4ms/step - loss: 0.9181 - accuracy: 0.0542\n",
            "Epoch 28/30\n",
            "2088/2088 [==============================] - 9s 4ms/step - loss: 0.9181 - accuracy: 0.0530\n",
            "Epoch 29/30\n",
            "2088/2088 [==============================] - 9s 4ms/step - loss: 0.9181 - accuracy: 0.0531\n",
            "Epoch 30/30\n",
            "2088/2088 [==============================] - 9s 4ms/step - loss: 0.9181 - accuracy: 0.0524\n"
          ]
        },
        {
          "output_type": "stream",
          "name": "stderr",
          "text": [
            "[I 2023-07-21 17:19:59,187] Trial 7 finished with value: 0.021321451291441917 and parameters: {'ann_1_units': 412, 'ann_2_units': 386, 'ann_3_units': 443, 'optimizer': 'RMSprop', 'epochs': 30, 'batchsize': 40}. Best is trial 4 with value: 0.0067078722640872.\n"
          ]
        },
        {
          "output_type": "stream",
          "name": "stdout",
          "text": [
            "Epoch 1/45\n",
            "2386/2386 [==============================] - 10s 4ms/step - loss: 7.8654 - accuracy: 0.0244\n",
            "Epoch 2/45\n",
            "2386/2386 [==============================] - 10s 4ms/step - loss: 7.8685 - accuracy: 0.0244\n",
            "Epoch 3/45\n",
            "2386/2386 [==============================] - 10s 4ms/step - loss: 7.8685 - accuracy: 0.0244\n",
            "Epoch 4/45\n",
            "2386/2386 [==============================] - 9s 4ms/step - loss: 7.8685 - accuracy: 0.0244\n",
            "Epoch 5/45\n",
            "2386/2386 [==============================] - 10s 4ms/step - loss: 7.8686 - accuracy: 0.0244\n",
            "Epoch 6/45\n",
            "2386/2386 [==============================] - 10s 4ms/step - loss: 7.8686 - accuracy: 0.0244\n",
            "Epoch 7/45\n",
            "2386/2386 [==============================] - 9s 4ms/step - loss: 7.8686 - accuracy: 0.0244\n",
            "Epoch 8/45\n",
            "2386/2386 [==============================] - 9s 4ms/step - loss: 7.8685 - accuracy: 0.0244\n",
            "Epoch 9/45\n",
            "2386/2386 [==============================] - 10s 4ms/step - loss: 7.8685 - accuracy: 0.0244\n",
            "Epoch 10/45\n",
            "2386/2386 [==============================] - 9s 4ms/step - loss: 7.8685 - accuracy: 0.0244\n",
            "Epoch 11/45\n",
            "2386/2386 [==============================] - 9s 4ms/step - loss: 7.8685 - accuracy: 0.0244\n",
            "Epoch 12/45\n",
            "2386/2386 [==============================] - 10s 4ms/step - loss: 7.8685 - accuracy: 0.0244\n",
            "Epoch 13/45\n",
            "2386/2386 [==============================] - 10s 4ms/step - loss: 7.8685 - accuracy: 0.0244\n",
            "Epoch 14/45\n",
            "2386/2386 [==============================] - 9s 4ms/step - loss: 7.8685 - accuracy: 0.0244\n",
            "Epoch 15/45\n",
            "2386/2386 [==============================] - 10s 4ms/step - loss: 7.8685 - accuracy: 0.0244\n",
            "Epoch 16/45\n",
            "2386/2386 [==============================] - 10s 4ms/step - loss: 7.8686 - accuracy: 0.0244\n",
            "Epoch 17/45\n",
            "2386/2386 [==============================] - 9s 4ms/step - loss: 7.8686 - accuracy: 0.0244\n",
            "Epoch 18/45\n",
            "2386/2386 [==============================] - 10s 4ms/step - loss: 7.8685 - accuracy: 0.0244\n",
            "Epoch 19/45\n",
            "2386/2386 [==============================] - 11s 5ms/step - loss: 7.8685 - accuracy: 0.0244\n",
            "Epoch 20/45\n",
            "2386/2386 [==============================] - 10s 4ms/step - loss: 7.8685 - accuracy: 0.0244\n",
            "Epoch 21/45\n",
            "2386/2386 [==============================] - 10s 4ms/step - loss: 7.8685 - accuracy: 0.0244\n",
            "Epoch 22/45\n",
            "2386/2386 [==============================] - 10s 4ms/step - loss: 7.8685 - accuracy: 0.0244\n",
            "Epoch 23/45\n",
            "2386/2386 [==============================] - 9s 4ms/step - loss: 7.8686 - accuracy: 0.0244\n",
            "Epoch 24/45\n",
            "2386/2386 [==============================] - 10s 4ms/step - loss: 7.8685 - accuracy: 0.0244\n",
            "Epoch 25/45\n",
            "2386/2386 [==============================] - 11s 4ms/step - loss: 7.8686 - accuracy: 0.0244\n",
            "Epoch 26/45\n",
            "2386/2386 [==============================] - 10s 4ms/step - loss: 7.8685 - accuracy: 0.0244\n",
            "Epoch 27/45\n",
            "2386/2386 [==============================] - 9s 4ms/step - loss: 7.8685 - accuracy: 0.0244\n",
            "Epoch 28/45\n",
            "2386/2386 [==============================] - 10s 4ms/step - loss: 7.8685 - accuracy: 0.0244\n",
            "Epoch 29/45\n",
            "2386/2386 [==============================] - 10s 4ms/step - loss: 7.8685 - accuracy: 0.0244\n",
            "Epoch 30/45\n",
            "2386/2386 [==============================] - 9s 4ms/step - loss: 7.8685 - accuracy: 0.0244\n",
            "Epoch 31/45\n",
            "2386/2386 [==============================] - 10s 4ms/step - loss: 7.8686 - accuracy: 0.0244\n",
            "Epoch 32/45\n",
            "2386/2386 [==============================] - 10s 4ms/step - loss: 7.8685 - accuracy: 0.0244\n",
            "Epoch 33/45\n",
            "2386/2386 [==============================] - 9s 4ms/step - loss: 7.8686 - accuracy: 0.0244\n",
            "Epoch 34/45\n",
            "2386/2386 [==============================] - 10s 4ms/step - loss: 7.8686 - accuracy: 0.0244\n",
            "Epoch 35/45\n",
            "2386/2386 [==============================] - 10s 4ms/step - loss: 7.8686 - accuracy: 0.0244\n",
            "Epoch 36/45\n",
            "2386/2386 [==============================] - 9s 4ms/step - loss: 7.8686 - accuracy: 0.0244\n",
            "Epoch 37/45\n",
            "2386/2386 [==============================] - 10s 4ms/step - loss: 7.8685 - accuracy: 0.0244\n",
            "Epoch 38/45\n",
            "2386/2386 [==============================] - 10s 4ms/step - loss: 7.8685 - accuracy: 0.0244\n",
            "Epoch 39/45\n",
            "2386/2386 [==============================] - 9s 4ms/step - loss: 7.8685 - accuracy: 0.0244\n",
            "Epoch 40/45\n",
            "2386/2386 [==============================] - 10s 4ms/step - loss: 7.8686 - accuracy: 0.0244\n",
            "Epoch 41/45\n",
            "2386/2386 [==============================] - 12s 5ms/step - loss: 7.8685 - accuracy: 0.0244\n",
            "Epoch 42/45\n",
            "2386/2386 [==============================] - 9s 4ms/step - loss: 7.8686 - accuracy: 0.0244\n",
            "Epoch 43/45\n",
            "2386/2386 [==============================] - 10s 4ms/step - loss: 7.8686 - accuracy: 0.0244\n",
            "Epoch 44/45\n",
            "2386/2386 [==============================] - 11s 5ms/step - loss: 7.8685 - accuracy: 0.0244\n",
            "Epoch 45/45\n",
            "2386/2386 [==============================] - 9s 4ms/step - loss: 7.8685 - accuracy: 0.0244\n"
          ]
        },
        {
          "output_type": "stream",
          "name": "stderr",
          "text": [
            "[I 2023-07-21 17:27:23,775] Trial 8 finished with value: 0.01940491609275341 and parameters: {'ann_1_units': 274, 'ann_2_units': 307, 'ann_3_units': 412, 'optimizer': 'SGD', 'epochs': 45, 'batchsize': 35}. Best is trial 4 with value: 0.0067078722640872.\n"
          ]
        },
        {
          "output_type": "stream",
          "name": "stdout",
          "text": [
            "Epoch 1/35\n",
            "1856/1856 [==============================] - 10s 4ms/step - loss: 3.0676 - accuracy: 0.0065\n",
            "Epoch 2/35\n",
            "1856/1856 [==============================] - 8s 4ms/step - loss: 2.9601 - accuracy: 0.0103\n",
            "Epoch 3/35\n",
            "1856/1856 [==============================] - 8s 4ms/step - loss: 2.9598 - accuracy: 0.0112\n",
            "Epoch 4/35\n",
            "1856/1856 [==============================] - 8s 4ms/step - loss: 2.9595 - accuracy: 0.0109\n",
            "Epoch 5/35\n",
            "1856/1856 [==============================] - 8s 4ms/step - loss: 2.9592 - accuracy: 0.0108\n",
            "Epoch 6/35\n",
            "1856/1856 [==============================] - 7s 4ms/step - loss: 2.9589 - accuracy: 0.0108\n",
            "Epoch 7/35\n",
            "1856/1856 [==============================] - 8s 4ms/step - loss: 2.9585 - accuracy: 0.0112\n",
            "Epoch 8/35\n",
            "1856/1856 [==============================] - 7s 4ms/step - loss: 2.9581 - accuracy: 0.0123\n",
            "Epoch 9/35\n",
            "1856/1856 [==============================] - 8s 4ms/step - loss: 2.9577 - accuracy: 0.0129\n",
            "Epoch 10/35\n",
            "1856/1856 [==============================] - 7s 4ms/step - loss: 2.9573 - accuracy: 0.0138\n",
            "Epoch 11/35\n",
            "1856/1856 [==============================] - 8s 4ms/step - loss: 2.9569 - accuracy: 0.0147\n",
            "Epoch 12/35\n",
            "1856/1856 [==============================] - 7s 4ms/step - loss: 2.8869 - accuracy: 0.0156\n",
            "Epoch 13/35\n",
            "1856/1856 [==============================] - 8s 4ms/step - loss: 2.8520 - accuracy: 0.0168\n",
            "Epoch 14/35\n",
            "1856/1856 [==============================] - 8s 4ms/step - loss: 2.8072 - accuracy: 0.0188\n",
            "Epoch 15/35\n",
            "1856/1856 [==============================] - 7s 4ms/step - loss: 2.6950 - accuracy: 0.0206\n",
            "Epoch 16/35\n",
            "1856/1856 [==============================] - 8s 4ms/step - loss: 2.6449 - accuracy: 0.0219\n",
            "Epoch 17/35\n",
            "1856/1856 [==============================] - 7s 4ms/step - loss: 2.6043 - accuracy: 0.0219\n",
            "Epoch 18/35\n",
            "1856/1856 [==============================] - 8s 4ms/step - loss: 2.5899 - accuracy: 0.0229\n",
            "Epoch 19/35\n",
            "1856/1856 [==============================] - 7s 4ms/step - loss: 2.5897 - accuracy: 0.0231\n",
            "Epoch 20/35\n",
            "1856/1856 [==============================] - 10s 5ms/step - loss: 2.5895 - accuracy: 0.0231\n",
            "Epoch 21/35\n",
            "1856/1856 [==============================] - 7s 4ms/step - loss: 2.5894 - accuracy: 0.0240\n",
            "Epoch 22/35\n",
            "1856/1856 [==============================] - 8s 4ms/step - loss: 2.5893 - accuracy: 0.0245\n",
            "Epoch 23/35\n",
            "1856/1856 [==============================] - 7s 4ms/step - loss: 2.5892 - accuracy: 0.0254\n",
            "Epoch 24/35\n",
            "1856/1856 [==============================] - 8s 4ms/step - loss: 2.5891 - accuracy: 0.0259\n",
            "Epoch 25/35\n",
            "1856/1856 [==============================] - 7s 4ms/step - loss: 2.5890 - accuracy: 0.0266\n",
            "Epoch 26/35\n",
            "1856/1856 [==============================] - 8s 4ms/step - loss: 2.5890 - accuracy: 0.0268\n",
            "Epoch 27/35\n",
            "1856/1856 [==============================] - 8s 4ms/step - loss: 2.5889 - accuracy: 0.0272\n",
            "Epoch 28/35\n",
            "1856/1856 [==============================] - 7s 4ms/step - loss: 2.5889 - accuracy: 0.0274\n",
            "Epoch 29/35\n",
            "1856/1856 [==============================] - 8s 4ms/step - loss: 2.5888 - accuracy: 0.0280\n",
            "Epoch 30/35\n",
            "1856/1856 [==============================] - 7s 4ms/step - loss: 2.5888 - accuracy: 0.0282\n",
            "Epoch 31/35\n",
            "1856/1856 [==============================] - 8s 4ms/step - loss: 2.5888 - accuracy: 0.0284\n",
            "Epoch 32/35\n",
            "1856/1856 [==============================] - 7s 4ms/step - loss: 2.5887 - accuracy: 0.0284\n",
            "Epoch 33/35\n",
            "1856/1856 [==============================] - 8s 4ms/step - loss: 2.5887 - accuracy: 0.0282\n",
            "Epoch 34/35\n",
            "1856/1856 [==============================] - 7s 4ms/step - loss: 2.5887 - accuracy: 0.0284\n",
            "Epoch 35/35\n",
            "1856/1856 [==============================] - 8s 4ms/step - loss: 2.5887 - accuracy: 0.0286\n"
          ]
        },
        {
          "output_type": "stream",
          "name": "stderr",
          "text": [
            "[I 2023-07-21 17:32:48,925] Trial 9 finished with value: 0.023477552458643913 and parameters: {'ann_1_units': 220, 'ann_2_units': 280, 'ann_3_units': 225, 'optimizer': 'SGD', 'epochs': 35, 'batchsize': 45}. Best is trial 4 with value: 0.0067078722640872.\n"
          ]
        },
        {
          "output_type": "stream",
          "name": "stdout",
          "text": [
            "{'ann_1_units': 355, 'ann_2_units': 584, 'ann_3_units': 244, 'optimizer': 'SGD', 'epochs': 10, 'batchsize': 15}\n"
          ]
        }
      ]
    },
    {
      "cell_type": "markdown",
      "source": [
        "# ANN model building"
      ],
      "metadata": {
        "id": "HU-eVd7OMaqF"
      }
    },
    {
      "cell_type": "code",
      "source": [
        "# Build the ANN model\n",
        "model = Sequential()\n",
        "model.add(Dense(units=355, activation='relu', input_dim=X_train.shape[1]))\n",
        "model.add(Dense(units=584, activation='relu'))\n",
        "model.add(Dense(units=244, activation='relu'))\n",
        "model.add(Dense(units=y_train.shape[1], activation='tanh'))\n",
        "\n",
        "# Compile the model\n",
        "model.compile(optimizer='SGD', loss='mean_squared_error')\n",
        "model.summary()\n",
        "\n",
        "# Train the model\n",
        "history = model.fit(X_train, y_train, epochs=10, batch_size=15, validation_split=0.2,verbose=1)"
      ],
      "metadata": {
        "colab": {
          "base_uri": "https://localhost:8080/"
        },
        "id": "mOgCikCAMP9k",
        "outputId": "2900b05d-6fc3-49bf-c59c-25866cc5a843"
      },
      "execution_count": null,
      "outputs": [
        {
          "output_type": "stream",
          "name": "stdout",
          "text": [
            "Model: \"sequential_22\"\n",
            "_________________________________________________________________\n",
            " Layer (type)                Output Shape              Param #   \n",
            "=================================================================\n",
            " dense_88 (Dense)            (None, 355)               238915    \n",
            "                                                                 \n",
            " dense_89 (Dense)            (None, 584)               207904    \n",
            "                                                                 \n",
            " dense_90 (Dense)            (None, 244)               142740    \n",
            "                                                                 \n",
            " dense_91 (Dense)            (None, 192)               47040     \n",
            "                                                                 \n",
            "=================================================================\n",
            "Total params: 636,599\n",
            "Trainable params: 636,599\n",
            "Non-trainable params: 0\n",
            "_________________________________________________________________\n",
            "Epoch 1/10\n",
            "4453/4453 [==============================] - 18s 4ms/step - loss: 0.0132 - val_loss: 0.0082\n",
            "Epoch 2/10\n",
            "4453/4453 [==============================] - 17s 4ms/step - loss: 0.0045 - val_loss: 0.0078\n",
            "Epoch 3/10\n",
            "4453/4453 [==============================] - 18s 4ms/step - loss: 0.0042 - val_loss: 0.0074\n",
            "Epoch 4/10\n",
            "4453/4453 [==============================] - 18s 4ms/step - loss: 0.0040 - val_loss: 0.0071\n",
            "Epoch 5/10\n",
            "4453/4453 [==============================] - 19s 4ms/step - loss: 0.0038 - val_loss: 0.0067\n",
            "Epoch 6/10\n",
            "4453/4453 [==============================] - 17s 4ms/step - loss: 0.0036 - val_loss: 0.0063\n",
            "Epoch 7/10\n",
            "4453/4453 [==============================] - 19s 4ms/step - loss: 0.0034 - val_loss: 0.0059\n",
            "Epoch 8/10\n",
            "4453/4453 [==============================] - 17s 4ms/step - loss: 0.0032 - val_loss: 0.0055\n",
            "Epoch 9/10\n",
            "4453/4453 [==============================] - 18s 4ms/step - loss: 0.0029 - val_loss: 0.0052\n",
            "Epoch 10/10\n",
            "4453/4453 [==============================] - 18s 4ms/step - loss: 0.0027 - val_loss: 0.0049\n"
          ]
        }
      ]
    },
    {
      "cell_type": "code",
      "source": [
        "# Evaluate the performance of the DNN model\n",
        "mse = model.evaluate(X_test, y_test)\n",
        "print(\"Mean Squared Error:\", mse)"
      ],
      "metadata": {
        "id": "-fvZsdIdsPyM",
        "colab": {
          "base_uri": "https://localhost:8080/"
        },
        "outputId": "8ae4674f-78d4-47cb-ebd1-a024a683c62b"
      },
      "execution_count": null,
      "outputs": [
        {
          "output_type": "stream",
          "name": "stdout",
          "text": [
            "653/653 [==============================] - 1s 2ms/step - loss: 0.0086\n",
            "Mean Squared Error: 0.00862911157310009\n"
          ]
        }
      ]
    },
    {
      "cell_type": "code",
      "source": [
        "plt.plot(history.history['loss'], label='Training loss')\n",
        "plt.plot(history.history['val_loss'], label='Validation loss')\n",
        "plt.legend()"
      ],
      "metadata": {
        "colab": {
          "base_uri": "https://localhost:8080/",
          "height": 447
        },
        "id": "EnwUscDVL5wW",
        "outputId": "6319b318-d37b-477e-f5e9-edca77047519"
      },
      "execution_count": null,
      "outputs": [
        {
          "output_type": "execute_result",
          "data": {
            "text/plain": [
              "<matplotlib.legend.Legend at 0x7ff24084dc60>"
            ]
          },
          "metadata": {},
          "execution_count": 82
        },
        {
          "output_type": "display_data",
          "data": {
            "text/plain": [
              "<Figure size 640x480 with 1 Axes>"
            ],
            "image/png": "[encoded data removed]"
          },
          "metadata": {}
        }
      ]
    },
    {
      "cell_type": "markdown",
      "source": [
        "# Model saving"
      ],
      "metadata": {
        "id": "1cJs81gS1kBO"
      }
    },
    {
      "cell_type": "code",
      "source": [
        "model.save('/content/drive/MyDrive/IMD-TP Load Forecast/ANN/temp_181920_192.h5')"
      ],
      "metadata": {
        "id": "ByLVY0cbz_3l"
      },
      "execution_count": null,
      "outputs": []
    },
    {
      "cell_type": "markdown",
      "source": [
        "# Predictions"
      ],
      "metadata": {
        "id": "-vnvHjgBMhem"
      }
    },
    {
      "cell_type": "code",
      "source": [
        "model = load_model('/content/drive/MyDrive/IMD-TP Load Forecast/ANN/temp_181920_192.h5')"
      ],
      "metadata": {
        "id": "Cv1oH8i_1LkQ"
      },
      "execution_count": null,
      "outputs": []
    },
    {
      "cell_type": "code",
      "source": [
        "X_test.shape"
      ],
      "metadata": {
        "colab": {
          "base_uri": "https://localhost:8080/"
        },
        "id": "r66nBUDl9keA",
        "outputId": "4ee8304d-3c2c-44b2-e763-b4b51988991a"
      },
      "execution_count": null,
      "outputs": [
        {
          "output_type": "execute_result",
          "data": {
            "text/plain": [
              "(20871, 672, 1)"
            ]
          },
          "metadata": {},
          "execution_count": 15
        }
      ]
    },
    {
      "cell_type": "code",
      "source": [
        "pred = model.predict(X_test[0:672])\n",
        "pred"
      ],
      "metadata": {
        "colab": {
          "base_uri": "https://localhost:8080/"
        },
        "id": "muZox4JMD9yR",
        "outputId": "fdafe8ea-727e-4685-e3c9-478109f566eb"
      },
      "execution_count": null,
      "outputs": [
        {
          "output_type": "stream",
          "name": "stdout",
          "text": [
            "21/21 [==============================] - 0s 3ms/step\n"
          ]
        },
        {
          "output_type": "execute_result",
          "data": {
            "text/plain": [
              "array([[0.72559404, 0.7004154 , 0.74487334, ..., 0.75030094, 0.78293574,\n",
              "        0.74245673],\n",
              "       [0.72437257, 0.697163  , 0.74238455, ..., 0.75017196, 0.7815018 ,\n",
              "        0.741519  ],\n",
              "       [0.7243328 , 0.6934707 , 0.7395956 , ..., 0.749101  , 0.77895224,\n",
              "        0.7407153 ],\n",
              "       ...,\n",
              "       [0.73226047, 0.7058009 , 0.749589  , ..., 0.7580663 , 0.7780615 ,\n",
              "        0.7371421 ],\n",
              "       [0.73212415, 0.7025322 , 0.74515104, ..., 0.7583265 , 0.7763042 ,\n",
              "        0.73644257],\n",
              "       [0.7323661 , 0.7003979 , 0.7447001 , ..., 0.75798404, 0.7758009 ,\n",
              "        0.73345894]], dtype=float32)"
            ]
          },
          "metadata": {},
          "execution_count": 21
        }
      ]
    },
    {
      "cell_type": "code",
      "source": [
        "len(pred)"
      ],
      "metadata": {
        "colab": {
          "base_uri": "https://localhost:8080/"
        },
        "id": "hN38R_j62twh",
        "outputId": "b3274297-40fc-4df2-f114-325c5f809935"
      },
      "execution_count": null,
      "outputs": [
        {
          "output_type": "execute_result",
          "data": {
            "text/plain": [
              "672"
            ]
          },
          "metadata": {},
          "execution_count": 22
        }
      ]
    },
    {
      "cell_type": "code",
      "source": [
        "pred.shape"
      ],
      "metadata": {
        "colab": {
          "base_uri": "https://localhost:8080/"
        },
        "id": "haWlAw8YJNJR",
        "outputId": "82fbc69d-7d95-4d27-ce80-9df6451d1463"
      },
      "execution_count": null,
      "outputs": [
        {
          "output_type": "execute_result",
          "data": {
            "text/plain": [
              "(672, 192)"
            ]
          },
          "metadata": {},
          "execution_count": 23
        }
      ]
    },
    {
      "cell_type": "code",
      "source": [
        "pred = pd.DataFrame(pred)\n",
        "pred"
      ],
      "metadata": {
        "colab": {
          "base_uri": "https://localhost:8080/",
          "height": 424
        },
        "id": "1xkkiUdi0JNu",
        "outputId": "b9213969-65bc-403c-b26c-99c9d710fce7"
      },
      "execution_count": null,
      "outputs": [
        {
          "output_type": "execute_result",
          "data": {
            "text/plain": [
              "          0         1         2         3         4         5         6    \\\n",
              "0    0.725594  0.700415  0.744873  0.753347  0.734485  0.748762  0.728099   \n",
              "1    0.724373  0.697163  0.742385  0.752454  0.731772  0.748416  0.726138   \n",
              "2    0.724333  0.693471  0.739596  0.752254  0.728579  0.747158  0.724462   \n",
              "3    0.723860  0.690252  0.738020  0.751263  0.726785  0.746155  0.721525   \n",
              "4    0.723962  0.687826  0.736247  0.751265  0.725026  0.745918  0.719943   \n",
              "..        ...       ...       ...       ...       ...       ...       ...   \n",
              "667  0.732858  0.715129  0.753983  0.749751  0.745152  0.743478  0.735021   \n",
              "668  0.732931  0.709839  0.750778  0.751426  0.741876  0.741792  0.733310   \n",
              "669  0.732260  0.705801  0.749589  0.751830  0.740444  0.742328  0.729557   \n",
              "670  0.732124  0.702532  0.745151  0.752219  0.737420  0.743013  0.729199   \n",
              "671  0.732366  0.700398  0.744700  0.752111  0.737751  0.741613  0.726416   \n",
              "\n",
              "          7         8         9    ...       182       183       184  \\\n",
              "0    0.727221  0.728668  0.732814  ...  0.759239  0.775252  0.788175   \n",
              "1    0.725172  0.726183  0.729608  ...  0.755863  0.773304  0.786849   \n",
              "2    0.723649  0.724046  0.726479  ...  0.752926  0.770731  0.783551   \n",
              "3    0.721282  0.722679  0.723921  ...  0.749010  0.767130  0.780838   \n",
              "4    0.719172  0.720728  0.721639  ...  0.744967  0.763956  0.776389   \n",
              "..        ...       ...       ...  ...       ...       ...       ...   \n",
              "667  0.733338  0.736766  0.740036  ...  0.768298  0.768069  0.778177   \n",
              "668  0.732179  0.733084  0.734029  ...  0.768848  0.769276  0.777248   \n",
              "669  0.725922  0.730166  0.731946  ...  0.765595  0.768053  0.777075   \n",
              "670  0.725167  0.726221  0.729143  ...  0.762953  0.769773  0.776226   \n",
              "671  0.721696  0.725555  0.726956  ...  0.757024  0.769343  0.774877   \n",
              "\n",
              "          185       186       187       188       189       190       191  \n",
              "0    0.768791  0.744434  0.749673  0.741191  0.750301  0.782936  0.742457  \n",
              "1    0.767049  0.743847  0.749227  0.737762  0.750172  0.781502  0.741519  \n",
              "2    0.765793  0.742420  0.749164  0.733824  0.749101  0.778952  0.740715  \n",
              "3    0.763421  0.741024  0.749592  0.730082  0.748975  0.776191  0.739077  \n",
              "4    0.760244  0.738907  0.749943  0.727261  0.749266  0.773779  0.738560  \n",
              "..        ...       ...       ...       ...       ...       ...       ...  \n",
              "667  0.769408  0.756566  0.744432  0.748939  0.758511  0.775975  0.738251  \n",
              "668  0.767878  0.755423  0.740434  0.743705  0.760573  0.775134  0.738899  \n",
              "669  0.765432  0.755317  0.740892  0.742529  0.758066  0.778062  0.737142  \n",
              "670  0.764154  0.752742  0.739205  0.738874  0.758326  0.776304  0.736443  \n",
              "671  0.760352  0.749854  0.741011  0.736058  0.757984  0.775801  0.733459  \n",
              "\n",
              "[672 rows x 192 columns]"
            ],
            "text/html": [
              "\n",
              "\n",
              "  <div id=\"df-a8c062c8-917d-441a-a81a-97d2212e8c8e\">\n",
              "    <div class=\"colab-df-container\">\n",
              "      <div>\n",
              "<style scoped>\n",
              "    .dataframe tbody tr th:only-of-type {\n",
              "        vertical-align: middle;\n",
              "    }\n",
              "\n",
              "    .dataframe tbody tr th {\n",
              "        vertical-align: top;\n",
              "    }\n",
              "\n",
              "    .dataframe thead th {\n",
              "        text-align: right;\n",
              "    }\n",
              "</style>\n",
              "<table border=\"1\" class=\"dataframe\">\n",
              "  <thead>\n",
              "    <tr style=\"text-align: right;\">\n",
              "      <th></th>\n",
              "      <th>0</th>\n",
              "      <th>1</th>\n",
              "      <th>2</th>\n",
              "      <th>3</th>\n",
              "      <th>4</th>\n",
              "      <th>5</th>\n",
              "      <th>6</th>\n",
              "      <th>7</th>\n",
              "      <th>8</th>\n",
              "      <th>9</th>\n",
              "      <th>...</th>\n",
              "      <th>182</th>\n",
              "      <th>183</th>\n",
              "      <th>184</th>\n",
              "      <th>185</th>\n",
              "      <th>186</th>\n",
              "      <th>187</th>\n",
              "      <th>188</th>\n",
              "      <th>189</th>\n",
              "      <th>190</th>\n",
              "      <th>191</th>\n",
              "    </tr>\n",
              "  </thead>\n",
              "  <tbody>\n",
              "    <tr>\n",
              "      <th>0</th>\n",
              "      <td>0.725594</td>\n",
              "      <td>0.700415</td>\n",
              "      <td>0.744873</td>\n",
              "      <td>0.753347</td>\n",
              "      <td>0.734485</td>\n",
              "      <td>0.748762</td>\n",
              "      <td>0.728099</td>\n",
              "      <td>0.727221</td>\n",
              "      <td>0.728668</td>\n",
              "      <td>0.732814</td>\n",
              "      <td>...</td>\n",
              "      <td>0.759239</td>\n",
              "      <td>0.775252</td>\n",
              "      <td>0.788175</td>\n",
              "      <td>0.768791</td>\n",
              "      <td>0.744434</td>\n",
              "      <td>0.749673</td>\n",
              "      <td>0.741191</td>\n",
              "      <td>0.750301</td>\n",
              "      <td>0.782936</td>\n",
              "      <td>0.742457</td>\n",
              "    </tr>\n",
              "    <tr>\n",
              "      <th>1</th>\n",
              "      <td>0.724373</td>\n",
              "      <td>0.697163</td>\n",
              "      <td>0.742385</td>\n",
              "      <td>0.752454</td>\n",
              "      <td>0.731772</td>\n",
              "      <td>0.748416</td>\n",
              "      <td>0.726138</td>\n",
              "      <td>0.725172</td>\n",
              "      <td>0.726183</td>\n",
              "      <td>0.729608</td>\n",
              "      <td>...</td>\n",
              "      <td>0.755863</td>\n",
              "      <td>0.773304</td>\n",
              "      <td>0.786849</td>\n",
              "      <td>0.767049</td>\n",
              "      <td>0.743847</td>\n",
              "      <td>0.749227</td>\n",
              "      <td>0.737762</td>\n",
              "      <td>0.750172</td>\n",
              "      <td>0.781502</td>\n",
              "      <td>0.741519</td>\n",
              "    </tr>\n",
              "    <tr>\n",
              "      <th>2</th>\n",
              "      <td>0.724333</td>\n",
              "      <td>0.693471</td>\n",
              "      <td>0.739596</td>\n",
              "      <td>0.752254</td>\n",
              "      <td>0.728579</td>\n",
              "      <td>0.747158</td>\n",
              "      <td>0.724462</td>\n",
              "      <td>0.723649</td>\n",
              "      <td>0.724046</td>\n",
              "      <td>0.726479</td>\n",
              "      <td>...</td>\n",
              "      <td>0.752926</td>\n",
              "      <td>0.770731</td>\n",
              "      <td>0.783551</td>\n",
              "      <td>0.765793</td>\n",
              "      <td>0.742420</td>\n",
              "      <td>0.749164</td>\n",
              "      <td>0.733824</td>\n",
              "      <td>0.749101</td>\n",
              "      <td>0.778952</td>\n",
              "      <td>0.740715</td>\n",
              "    </tr>\n",
              "    <tr>\n",
              "      <th>3</th>\n",
              "      <td>0.723860</td>\n",
              "      <td>0.690252</td>\n",
              "      <td>0.738020</td>\n",
              "      <td>0.751263</td>\n",
              "      <td>0.726785</td>\n",
              "      <td>0.746155</td>\n",
              "      <td>0.721525</td>\n",
              "      <td>0.721282</td>\n",
              "      <td>0.722679</td>\n",
              "      <td>0.723921</td>\n",
              "      <td>...</td>\n",
              "      <td>0.749010</td>\n",
              "      <td>0.767130</td>\n",
              "      <td>0.780838</td>\n",
              "      <td>0.763421</td>\n",
              "      <td>0.741024</td>\n",
              "      <td>0.749592</td>\n",
              "      <td>0.730082</td>\n",
              "      <td>0.748975</td>\n",
              "      <td>0.776191</td>\n",
              "      <td>0.739077</td>\n",
              "    </tr>\n",
              "    <tr>\n",
              "      <th>4</th>\n",
              "      <td>0.723962</td>\n",
              "      <td>0.687826</td>\n",
              "      <td>0.736247</td>\n",
              "      <td>0.751265</td>\n",
              "      <td>0.725026</td>\n",
              "      <td>0.745918</td>\n",
              "      <td>0.719943</td>\n",
              "      <td>0.719172</td>\n",
              "      <td>0.720728</td>\n",
              "      <td>0.721639</td>\n",
              "      <td>...</td>\n",
              "      <td>0.744967</td>\n",
              "      <td>0.763956</td>\n",
              "      <td>0.776389</td>\n",
              "      <td>0.760244</td>\n",
              "      <td>0.738907</td>\n",
              "      <td>0.749943</td>\n",
              "      <td>0.727261</td>\n",
              "      <td>0.749266</td>\n",
              "      <td>0.773779</td>\n",
              "      <td>0.738560</td>\n",
              "    </tr>\n",
              "    <tr>\n",
              "      <th>...</th>\n",
              "      <td>...</td>\n",
              "      <td>...</td>\n",
              "      <td>...</td>\n",
              "      <td>...</td>\n",
              "      <td>...</td>\n",
              "      <td>...</td>\n",
              "      <td>...</td>\n",
              "      <td>...</td>\n",
              "      <td>...</td>\n",
              "      <td>...</td>\n",
              "      <td>...</td>\n",
              "      <td>...</td>\n",
              "      <td>...</td>\n",
              "      <td>...</td>\n",
              "      <td>...</td>\n",
              "      <td>...</td>\n",
              "      <td>...</td>\n",
              "      <td>...</td>\n",
              "      <td>...</td>\n",
              "      <td>...</td>\n",
              "      <td>...</td>\n",
              "    </tr>\n",
              "    <tr>\n",
              "      <th>667</th>\n",
              "      <td>0.732858</td>\n",
              "      <td>0.715129</td>\n",
              "      <td>0.753983</td>\n",
              "      <td>0.749751</td>\n",
              "      <td>0.745152</td>\n",
              "      <td>0.743478</td>\n",
              "      <td>0.735021</td>\n",
              "      <td>0.733338</td>\n",
              "      <td>0.736766</td>\n",
              "      <td>0.740036</td>\n",
              "      <td>...</td>\n",
              "      <td>0.768298</td>\n",
              "      <td>0.768069</td>\n",
              "      <td>0.778177</td>\n",
              "      <td>0.769408</td>\n",
              "      <td>0.756566</td>\n",
              "      <td>0.744432</td>\n",
              "      <td>0.748939</td>\n",
              "      <td>0.758511</td>\n",
              "      <td>0.775975</td>\n",
              "      <td>0.738251</td>\n",
              "    </tr>\n",
              "    <tr>\n",
              "      <th>668</th>\n",
              "      <td>0.732931</td>\n",
              "      <td>0.709839</td>\n",
              "      <td>0.750778</td>\n",
              "      <td>0.751426</td>\n",
              "      <td>0.741876</td>\n",
              "      <td>0.741792</td>\n",
              "      <td>0.733310</td>\n",
              "      <td>0.732179</td>\n",
              "      <td>0.733084</td>\n",
              "      <td>0.734029</td>\n",
              "      <td>...</td>\n",
              "      <td>0.768848</td>\n",
              "      <td>0.769276</td>\n",
              "      <td>0.777248</td>\n",
              "      <td>0.767878</td>\n",
              "      <td>0.755423</td>\n",
              "      <td>0.740434</td>\n",
              "      <td>0.743705</td>\n",
              "      <td>0.760573</td>\n",
              "      <td>0.775134</td>\n",
              "      <td>0.738899</td>\n",
              "    </tr>\n",
              "    <tr>\n",
              "      <th>669</th>\n",
              "      <td>0.732260</td>\n",
              "      <td>0.705801</td>\n",
              "      <td>0.749589</td>\n",
              "      <td>0.751830</td>\n",
              "      <td>0.740444</td>\n",
              "      <td>0.742328</td>\n",
              "      <td>0.729557</td>\n",
              "      <td>0.725922</td>\n",
              "      <td>0.730166</td>\n",
              "      <td>0.731946</td>\n",
              "      <td>...</td>\n",
              "      <td>0.765595</td>\n",
              "      <td>0.768053</td>\n",
              "      <td>0.777075</td>\n",
              "      <td>0.765432</td>\n",
              "      <td>0.755317</td>\n",
              "      <td>0.740892</td>\n",
              "      <td>0.742529</td>\n",
              "      <td>0.758066</td>\n",
              "      <td>0.778062</td>\n",
              "      <td>0.737142</td>\n",
              "    </tr>\n",
              "    <tr>\n",
              "      <th>670</th>\n",
              "      <td>0.732124</td>\n",
              "      <td>0.702532</td>\n",
              "      <td>0.745151</td>\n",
              "      <td>0.752219</td>\n",
              "      <td>0.737420</td>\n",
              "      <td>0.743013</td>\n",
              "      <td>0.729199</td>\n",
              "      <td>0.725167</td>\n",
              "      <td>0.726221</td>\n",
              "      <td>0.729143</td>\n",
              "      <td>...</td>\n",
              "      <td>0.762953</td>\n",
              "      <td>0.769773</td>\n",
              "      <td>0.776226</td>\n",
              "      <td>0.764154</td>\n",
              "      <td>0.752742</td>\n",
              "      <td>0.739205</td>\n",
              "      <td>0.738874</td>\n",
              "      <td>0.758326</td>\n",
              "      <td>0.776304</td>\n",
              "      <td>0.736443</td>\n",
              "    </tr>\n",
              "    <tr>\n",
              "      <th>671</th>\n",
              "      <td>0.732366</td>\n",
              "      <td>0.700398</td>\n",
              "      <td>0.744700</td>\n",
              "      <td>0.752111</td>\n",
              "      <td>0.737751</td>\n",
              "      <td>0.741613</td>\n",
              "      <td>0.726416</td>\n",
              "      <td>0.721696</td>\n",
              "      <td>0.725555</td>\n",
              "      <td>0.726956</td>\n",
              "      <td>...</td>\n",
              "      <td>0.757024</td>\n",
              "      <td>0.769343</td>\n",
              "      <td>0.774877</td>\n",
              "      <td>0.760352</td>\n",
              "      <td>0.749854</td>\n",
              "      <td>0.741011</td>\n",
              "      <td>0.736058</td>\n",
              "      <td>0.757984</td>\n",
              "      <td>0.775801</td>\n",
              "      <td>0.733459</td>\n",
              "    </tr>\n",
              "  </tbody>\n",
              "</table>\n",
              "<p>672 rows × 192 columns</p>\n",
              "</div>\n",
              "      <button class=\"colab-df-convert\" onclick=\"convertToInteractive('df-a8c062c8-917d-441a-a81a-97d2212e8c8e')\"\n",
              "              title=\"Convert this dataframe to an interactive table.\"\n",
              "              style=\"display:none;\">\n",
              "\n",
              "  <svg xmlns=\"http://www.w3.org/2000/svg\" height=\"24px\"viewBox=\"0 0 24 24\"\n",
              "       width=\"24px\">\n",
              "    <path d=\"M0 0h24v24H0V0z\" fill=\"none\"/>\n",
              "    <path d=\"M18.56 5.44l.94 2.06.94-2.06 2.06-.94-2.06-.94-.94-2.06-.94 2.06-2.06.94zm-11 1L8.5 8.5l.94-2.06 2.06-.94-2.06-.94L8.5 2.5l-.94 2.06-2.06.94zm10 10l.94 2.06.94-2.06 2.06-.94-2.06-.94-.94-2.06-.94 2.06-2.06.94z\"/><path d=\"M17.41 7.96l-1.37-1.37c-.4-.4-.92-.59-1.43-.59-.52 0-1.04.2-1.43.59L10.3 9.45l-7.72 7.72c-.78.78-.78 2.05 0 2.83L4 21.41c.39.39.9.59 1.41.59.51 0 1.02-.2 1.41-.59l7.78-7.78 2.81-2.81c.8-.78.8-2.07 0-2.86zM5.41 20L4 18.59l7.72-7.72 1.47 1.35L5.41 20z\"/>\n",
              "  </svg>\n",
              "      </button>\n",
              "\n",
              "\n",
              "\n",
              "    <div id=\"df-73262c67-abf5-4fe1-814f-ba1f96d5e101\">\n",
              "      <button class=\"colab-df-quickchart\" onclick=\"quickchart('df-73262c67-abf5-4fe1-814f-ba1f96d5e101')\"\n",
              "              title=\"Suggest charts.\"\n",
              "              style=\"display:none;\">\n",
              "\n",
              "<svg xmlns=\"http://www.w3.org/2000/svg\" height=\"24px\"viewBox=\"0 0 24 24\"\n",
              "     width=\"24px\">\n",
              "    <g>\n",
              "        <path d=\"M19 3H5c-1.1 0-2 .9-2 2v14c0 1.1.9 2 2 2h14c1.1 0 2-.9 2-2V5c0-1.1-.9-2-2-2zM9 17H7v-7h2v7zm4 0h-2V7h2v10zm4 0h-2v-4h2v4z\"/>\n",
              "    </g>\n",
              "</svg>\n",
              "      </button>\n",
              "    </div>\n",
              "\n",
              "<style>\n",
              "  .colab-df-quickchart {\n",
              "    background-color: #E8F0FE;\n",
              "    border: none;\n",
              "    border-radius: 50%;\n",
              "    cursor: pointer;\n",
              "    display: none;\n",
              "    fill: #1967D2;\n",
              "    height: 32px;\n",
              "    padding: 0 0 0 0;\n",
              "    width: 32px;\n",
              "  }\n",
              "\n",
              "  .colab-df-quickchart:hover {\n",
              "    background-color: #E2EBFA;\n",
              "    box-shadow: 0px 1px 2px rgba(60, 64, 67, 0.3), 0px 1px 3px 1px rgba(60, 64, 67, 0.15);\n",
              "    fill: #174EA6;\n",
              "  }\n",
              "\n",
              "  [theme=dark] .colab-df-quickchart {\n",
              "    background-color: #3B4455;\n",
              "    fill: #D2E3FC;\n",
              "  }\n",
              "\n",
              "  [theme=dark] .colab-df-quickchart:hover {\n",
              "    background-color: #434B5C;\n",
              "    box-shadow: 0px 1px 3px 1px rgba(0, 0, 0, 0.15);\n",
              "    filter: drop-shadow(0px 1px 2px rgba(0, 0, 0, 0.3));\n",
              "    fill: #FFFFFF;\n",
              "  }\n",
              "</style>\n",
              "\n",
              "    <script>\n",
              "      async function quickchart(key) {\n",
              "        const containerElement = document.querySelector('#' + key);\n",
              "        const charts = await google.colab.kernel.invokeFunction(\n",
              "            'suggestCharts', [key], {});\n",
              "      }\n",
              "    </script>\n",
              "\n",
              "      <script>\n",
              "\n",
              "function displayQuickchartButton(domScope) {\n",
              "  let quickchartButtonEl =\n",
              "    domScope.querySelector('#df-73262c67-abf5-4fe1-814f-ba1f96d5e101 button.colab-df-quickchart');\n",
              "  quickchartButtonEl.style.display =\n",
              "    google.colab.kernel.accessAllowed ? 'block' : 'none';\n",
              "}\n",
              "\n",
              "        displayQuickchartButton(document);\n",
              "      </script>\n",
              "      <style>\n",
              "    .colab-df-container {\n",
              "      display:flex;\n",
              "      flex-wrap:wrap;\n",
              "      gap: 12px;\n",
              "    }\n",
              "\n",
              "    .colab-df-convert {\n",
              "      background-color: #E8F0FE;\n",
              "      border: none;\n",
              "      border-radius: 50%;\n",
              "      cursor: pointer;\n",
              "      display: none;\n",
              "      fill: #1967D2;\n",
              "      height: 32px;\n",
              "      padding: 0 0 0 0;\n",
              "      width: 32px;\n",
              "    }\n",
              "\n",
              "    .colab-df-convert:hover {\n",
              "      background-color: #E2EBFA;\n",
              "      box-shadow: 0px 1px 2px rgba(60, 64, 67, 0.3), 0px 1px 3px 1px rgba(60, 64, 67, 0.15);\n",
              "      fill: #174EA6;\n",
              "    }\n",
              "\n",
              "    [theme=dark] .colab-df-convert {\n",
              "      background-color: #3B4455;\n",
              "      fill: #D2E3FC;\n",
              "    }\n",
              "\n",
              "    [theme=dark] .colab-df-convert:hover {\n",
              "      background-color: #434B5C;\n",
              "      box-shadow: 0px 1px 3px 1px rgba(0, 0, 0, 0.15);\n",
              "      filter: drop-shadow(0px 1px 2px rgba(0, 0, 0, 0.3));\n",
              "      fill: #FFFFFF;\n",
              "    }\n",
              "  </style>\n",
              "\n",
              "      <script>\n",
              "        const buttonEl =\n",
              "          document.querySelector('#df-a8c062c8-917d-441a-a81a-97d2212e8c8e button.colab-df-convert');\n",
              "        buttonEl.style.display =\n",
              "          google.colab.kernel.accessAllowed ? 'block' : 'none';\n",
              "\n",
              "        async function convertToInteractive(key) {\n",
              "          const element = document.querySelector('#df-a8c062c8-917d-441a-a81a-97d2212e8c8e');\n",
              "          const dataTable =\n",
              "            await google.colab.kernel.invokeFunction('convertToInteractive',\n",
              "                                                     [key], {});\n",
              "          if (!dataTable) return;\n",
              "\n",
              "          const docLinkHtml = 'Like what you see? Visit the ' +\n",
              "            '<a target=\"_blank\" href=https://colab.research.google.com/notebooks/data_table.ipynb>data table notebook</a>'\n",
              "            + ' to learn more about interactive tables.';\n",
              "          element.innerHTML = '';\n",
              "          dataTable['output_type'] = 'display_data';\n",
              "          await google.colab.output.renderOutput(dataTable, element);\n",
              "          const docLink = document.createElement('div');\n",
              "          docLink.innerHTML = docLinkHtml;\n",
              "          element.appendChild(docLink);\n",
              "        }\n",
              "      </script>\n",
              "    </div>\n",
              "  </div>\n"
            ]
          },
          "metadata": {},
          "execution_count": 24
        }
      ]
    },
    {
      "cell_type": "code",
      "source": [
        "from scipy.stats import pearsonr\n",
        "kpcc = pearsonr(pred.flatten(), y_test.flatten())\n",
        "kpcc"
      ],
      "metadata": {
        "id": "UD3CoR4eARbt",
        "colab": {
          "base_uri": "https://localhost:8080/",
          "height": 321
        },
        "outputId": "1d712ee8-dd89-4e3c-8289-a8dd9c96551b"
      },
      "execution_count": null,
      "outputs": [
        {
          "output_type": "error",
          "ename": "AttributeError",
          "evalue": "ignored",
          "traceback": [
            "\u001b[0;31m---------------------------------------------------------------------------\u001b[0m",
            "\u001b[0;31mAttributeError\u001b[0m                            Traceback (most recent call last)",
            "\u001b[0;32m<ipython-input-19-f027d0bce5a2>\u001b[0m in \u001b[0;36m<cell line: 2>\u001b[0;34m()\u001b[0m\n\u001b[1;32m      1\u001b[0m \u001b[0;32mfrom\u001b[0m \u001b[0mscipy\u001b[0m\u001b[0;34m.\u001b[0m\u001b[0mstats\u001b[0m \u001b[0;32mimport\u001b[0m \u001b[0mpearsonr\u001b[0m\u001b[0;34m\u001b[0m\u001b[0;34m\u001b[0m\u001b[0m\n\u001b[0;32m----> 2\u001b[0;31m \u001b[0mkpcc\u001b[0m \u001b[0;34m=\u001b[0m \u001b[0mpearsonr\u001b[0m\u001b[0;34m(\u001b[0m\u001b[0mpred\u001b[0m\u001b[0;34m.\u001b[0m\u001b[0mflatten\u001b[0m\u001b[0;34m(\u001b[0m\u001b[0;34m)\u001b[0m\u001b[0;34m,\u001b[0m \u001b[0my_test\u001b[0m\u001b[0;34m.\u001b[0m\u001b[0mflatten\u001b[0m\u001b[0;34m(\u001b[0m\u001b[0;34m)\u001b[0m\u001b[0;34m)\u001b[0m\u001b[0;34m\u001b[0m\u001b[0;34m\u001b[0m\u001b[0m\n\u001b[0m\u001b[1;32m      3\u001b[0m \u001b[0mkpcc\u001b[0m\u001b[0;34m\u001b[0m\u001b[0;34m\u001b[0m\u001b[0m\n",
            "\u001b[0;32m/usr/local/lib/python3.10/dist-packages/pandas/core/generic.py\u001b[0m in \u001b[0;36m__getattr__\u001b[0;34m(self, name)\u001b[0m\n\u001b[1;32m   5900\u001b[0m         ):\n\u001b[1;32m   5901\u001b[0m             \u001b[0;32mreturn\u001b[0m \u001b[0mself\u001b[0m\u001b[0;34m[\u001b[0m\u001b[0mname\u001b[0m\u001b[0;34m]\u001b[0m\u001b[0;34m\u001b[0m\u001b[0;34m\u001b[0m\u001b[0m\n\u001b[0;32m-> 5902\u001b[0;31m         \u001b[0;32mreturn\u001b[0m \u001b[0mobject\u001b[0m\u001b[0;34m.\u001b[0m\u001b[0m__getattribute__\u001b[0m\u001b[0;34m(\u001b[0m\u001b[0mself\u001b[0m\u001b[0;34m,\u001b[0m \u001b[0mname\u001b[0m\u001b[0;34m)\u001b[0m\u001b[0;34m\u001b[0m\u001b[0;34m\u001b[0m\u001b[0m\n\u001b[0m\u001b[1;32m   5903\u001b[0m \u001b[0;34m\u001b[0m\u001b[0m\n\u001b[1;32m   5904\u001b[0m     \u001b[0;32mdef\u001b[0m \u001b[0m__setattr__\u001b[0m\u001b[0;34m(\u001b[0m\u001b[0mself\u001b[0m\u001b[0;34m,\u001b[0m \u001b[0mname\u001b[0m\u001b[0;34m:\u001b[0m \u001b[0mstr\u001b[0m\u001b[0;34m,\u001b[0m \u001b[0mvalue\u001b[0m\u001b[0;34m)\u001b[0m \u001b[0;34m->\u001b[0m \u001b[0;32mNone\u001b[0m\u001b[0;34m:\u001b[0m\u001b[0;34m\u001b[0m\u001b[0;34m\u001b[0m\u001b[0m\n",
            "\u001b[0;31mAttributeError\u001b[0m: 'DataFrame' object has no attribute 'flatten'"
          ]
        }
      ]
    },
    {
      "cell_type": "code",
      "source": [
        "y_test.flatten().shape"
      ],
      "metadata": {
        "id": "daH5t6vIWG6F"
      },
      "execution_count": null,
      "outputs": []
    },
    {
      "cell_type": "code",
      "source": [
        "from sklearn.metrics import mean_absolute_percentage_error\n",
        "from sklearn.metrics import mean_squared_error\n",
        "mape = mean_absolute_percentage_error(y_test, pred)\n",
        "mape"
      ],
      "metadata": {
        "id": "Ql_S_xkj1YX8"
      },
      "execution_count": null,
      "outputs": []
    },
    {
      "cell_type": "code",
      "source": [
        "rmse = mean_squared_error(y_test, pred, squared=False)\n",
        "rmse"
      ],
      "metadata": {
        "id": "-zlVClQ3xnTD"
      },
      "execution_count": null,
      "outputs": []
    },
    {
      "cell_type": "markdown",
      "source": [
        "# Denormalizing predictions"
      ],
      "metadata": {
        "id": "bImByGyFCVjV"
      }
    },
    {
      "cell_type": "code",
      "source": [
        "pred_original = scalery.inverse_transform(pred)\n",
        "pred_original\n",
        "# tempy_inverse = tempy_inverse.reshape(tempy_inverse.shape[0], 96, 1)\n",
        "# predictions = np.reshape(predictions, (predictions.shape[0], 7, input.shape[2]))\n",
        "# pred_original"
      ],
      "metadata": {
        "colab": {
          "base_uri": "https://localhost:8080/",
          "height": 234
        },
        "id": "tMFEaHxV2673",
        "outputId": "6d90a9e5-e01e-4c16-a649-ed23d5feef4b"
      },
      "execution_count": null,
      "outputs": [
        {
          "output_type": "error",
          "ename": "NameError",
          "evalue": "ignored",
          "traceback": [
            "\u001b[0;31m---------------------------------------------------------------------------\u001b[0m",
            "\u001b[0;31mNameError\u001b[0m                                 Traceback (most recent call last)",
            "\u001b[0;32m<ipython-input-33-0c35b98b3f8c>\u001b[0m in \u001b[0;36m<cell line: 1>\u001b[0;34m()\u001b[0m\n\u001b[0;32m----> 1\u001b[0;31m \u001b[0mpred_original\u001b[0m \u001b[0;34m=\u001b[0m \u001b[0mscalery\u001b[0m\u001b[0;34m.\u001b[0m\u001b[0minverse_transform\u001b[0m\u001b[0;34m(\u001b[0m\u001b[0mpred\u001b[0m\u001b[0;34m)\u001b[0m\u001b[0;34m\u001b[0m\u001b[0;34m\u001b[0m\u001b[0m\n\u001b[0m\u001b[1;32m      2\u001b[0m \u001b[0mpred_original\u001b[0m\u001b[0;34m\u001b[0m\u001b[0;34m\u001b[0m\u001b[0m\n\u001b[1;32m      3\u001b[0m \u001b[0;31m# tempy_inverse = tempy_inverse.reshape(tempy_inverse.shape[0], 96, 1)\u001b[0m\u001b[0;34m\u001b[0m\u001b[0;34m\u001b[0m\u001b[0m\n\u001b[1;32m      4\u001b[0m \u001b[0;31m# predictions = np.reshape(predictions, (predictions.shape[0], 7, input.shape[2]))\u001b[0m\u001b[0;34m\u001b[0m\u001b[0;34m\u001b[0m\u001b[0m\n\u001b[1;32m      5\u001b[0m \u001b[0;31m# pred_original\u001b[0m\u001b[0;34m\u001b[0m\u001b[0;34m\u001b[0m\u001b[0m\n",
            "\u001b[0;31mNameError\u001b[0m: name 'scalery' is not defined"
          ]
        }
      ]
    },
    {
      "cell_type": "markdown",
      "source": [
        "# LSTM"
      ],
      "metadata": {
        "id": "qjjK_sb8-AZT"
      }
    },
    {
      "cell_type": "code",
      "source": [
        "model = Sequential()\n",
        "model.add(LSTM(214, return_sequences=True, activation='tanh', input_shape=(X_train.shape[1], X_train.shape[2])))\n",
        "model.add(LSTM(142, return_sequences=True, activation='tanh'))\n",
        "model.add(LSTM(64, return_sequences=False, activation='tanh'))\n",
        "model.add(Dense(y_train.shape[1], activation='tanh'))\n",
        "model.compile(optimizer='adam',loss='mse',metrics=['mse'])\n",
        "model.summary()\n",
        "# Train the model\n",
        "history = model.fit(X_train, y_train, epochs=2, batch_size=32, validation_split=0.2,verbose=1)"
      ],
      "metadata": {
        "id": "sx2mnxm9-Cjr"
      },
      "execution_count": null,
      "outputs": []
    },
    {
      "cell_type": "code",
      "source": [
        "# Evaluate the model\n",
        "loss = model.evaluate(X_test, y_test)\n",
        "print(\"Test loss:\", loss)"
      ],
      "metadata": {
        "id": "9iA3DwUY-PKq"
      },
      "execution_count": null,
      "outputs": []
    },
    {
      "cell_type": "code",
      "source": [
        "plt.plot(history.history['loss'], label='Training loss')\n",
        "plt.plot(history.history['val_loss'], label='Validation loss')\n",
        "plt.legend()"
      ],
      "metadata": {
        "colab": {
          "base_uri": "https://localhost:8080/",
          "height": 615
        },
        "outputId": "4c04cac9-dec3-4ba3-f845-db724d4e223e",
        "id": "Y5GgeM0V-PKr"
      },
      "execution_count": null,
      "outputs": [
        {
          "output_type": "error",
          "ename": "KeyError",
          "evalue": "ignored",
          "traceback": [
            "\u001b[0;31m---------------------------------------------------------------------------\u001b[0m",
            "\u001b[0;31mKeyError\u001b[0m                                  Traceback (most recent call last)",
            "\u001b[0;32m<ipython-input-13-35d3b81b749b>\u001b[0m in \u001b[0;36m<cell line: 2>\u001b[0;34m()\u001b[0m\n\u001b[1;32m      1\u001b[0m \u001b[0mplt\u001b[0m\u001b[0;34m.\u001b[0m\u001b[0mplot\u001b[0m\u001b[0;34m(\u001b[0m\u001b[0mhistory\u001b[0m\u001b[0;34m.\u001b[0m\u001b[0mhistory\u001b[0m\u001b[0;34m[\u001b[0m\u001b[0;34m'loss'\u001b[0m\u001b[0;34m]\u001b[0m\u001b[0;34m,\u001b[0m \u001b[0mlabel\u001b[0m\u001b[0;34m=\u001b[0m\u001b[0;34m'Training loss'\u001b[0m\u001b[0;34m)\u001b[0m\u001b[0;34m\u001b[0m\u001b[0;34m\u001b[0m\u001b[0m\n\u001b[0;32m----> 2\u001b[0;31m \u001b[0mplt\u001b[0m\u001b[0;34m.\u001b[0m\u001b[0mplot\u001b[0m\u001b[0;34m(\u001b[0m\u001b[0mhistory\u001b[0m\u001b[0;34m.\u001b[0m\u001b[0mhistory\u001b[0m\u001b[0;34m[\u001b[0m\u001b[0;34m'val_loss'\u001b[0m\u001b[0;34m]\u001b[0m\u001b[0;34m,\u001b[0m \u001b[0mlabel\u001b[0m\u001b[0;34m=\u001b[0m\u001b[0;34m'Validation loss'\u001b[0m\u001b[0;34m)\u001b[0m\u001b[0;34m\u001b[0m\u001b[0;34m\u001b[0m\u001b[0m\n\u001b[0m\u001b[1;32m      3\u001b[0m \u001b[0mplt\u001b[0m\u001b[0;34m.\u001b[0m\u001b[0mlegend\u001b[0m\u001b[0;34m(\u001b[0m\u001b[0;34m)\u001b[0m\u001b[0;34m\u001b[0m\u001b[0;34m\u001b[0m\u001b[0m\n",
            "\u001b[0;31mKeyError\u001b[0m: 'val_loss'"
          ]
        },
        {
          "output_type": "display_data",
          "data": {
            "text/plain": [
              "<Figure size 640x480 with 1 Axes>"
            ],
            "image/png": "[encoded data removed]"
          },
          "metadata": {}
        }
      ]
    },
    {
      "cell_type": "markdown",
      "source": [
        "# Multi output model"
      ],
      "metadata": {
        "id": "VjKpUuS69hzv"
      }
    },
    {
      "cell_type": "code",
      "execution_count": null,
      "metadata": {
        "colab": {
          "base_uri": "https://localhost:8080/"
        },
        "outputId": "89a4a485-b553-4c77-8b59-9eb9923bf204",
        "id": "3qxX7cgd9qcF"
      },
      "outputs": [
        {
          "output_type": "stream",
          "name": "stdout",
          "text": [
            "Epoch 1/5\n",
            "3153/3153 [==============================] - 13s 4ms/step - loss: 0.0653 - output1_loss: 0.0221 - output2_loss: 0.0210 - output3_loss: 0.0223 - val_loss: 0.0583 - val_output1_loss: 0.0195 - val_output2_loss: 0.0195 - val_output3_loss: 0.0194\n",
            "Epoch 2/5\n",
            "3153/3153 [==============================] - 13s 4ms/step - loss: 0.0571 - output1_loss: 0.0191 - output2_loss: 0.0190 - output3_loss: 0.0191 - val_loss: 0.0576 - val_output1_loss: 0.0192 - val_output2_loss: 0.0192 - val_output3_loss: 0.0192\n",
            "Epoch 3/5\n",
            "3153/3153 [==============================] - 9s 3ms/step - loss: 0.0570 - output1_loss: 0.0190 - output2_loss: 0.0190 - output3_loss: 0.0190 - val_loss: 0.0567 - val_output1_loss: 0.0189 - val_output2_loss: 0.0189 - val_output3_loss: 0.0189\n",
            "Epoch 4/5\n",
            "3153/3153 [==============================] - 12s 4ms/step - loss: 0.0566 - output1_loss: 0.0189 - output2_loss: 0.0189 - output3_loss: 0.0189 - val_loss: 0.0560 - val_output1_loss: 0.0186 - val_output2_loss: 0.0186 - val_output3_loss: 0.0187\n",
            "Epoch 5/5\n",
            "3153/3153 [==============================] - 12s 4ms/step - loss: 0.0563 - output1_loss: 0.0187 - output2_loss: 0.0188 - output3_loss: 0.0188 - val_loss: 0.0560 - val_output1_loss: 0.0187 - val_output2_loss: 0.0188 - val_output3_loss: 0.0186\n"
          ]
        }
      ],
      "source": [
        "# Build the multi-output model\n",
        "input_layer = Input(shape=(2,))\n",
        "hidden_layer = Dense(64, activation='relu')(input_layer)\n",
        "output1 = Dense(1, name='output1')(hidden_layer)  # Temperature prediction\n",
        "output2 = Dense(1, name='output2')(hidden_layer)  # Humidity prediction\n",
        "output3 = Dense(1, name='output3')(hidden_layer)  # Load prediction\n",
        "\n",
        "model = Model(inputs=input_layer, outputs=[output1, output2, output3])\n",
        "\n",
        "# Compile the model\n",
        "model.compile(optimizer='adam', loss='mean_squared_error')\n",
        "\n",
        "# Train the model\n",
        "history = model.fit(X_train_scaled, [y_train_scaled, y_train_scaled, y_train_scaled],\n",
        "          validation_data=(X_test_scaled, [y_test_scaled, y_test_scaled, y_test_scaled]),\n",
        "          epochs=5, batch_size=32)\n",
        "\n",
        "# # Predict on test data\n",
        "# predictions = model.predict(X_test_scaled)\n",
        "\n",
        "# # Rescale the predictions back to the original scale\n",
        "# predictions_rescaled = [scaler.inverse_transform(pred.reshape(-1, 1)).flatten() for pred in predictions]\n",
        "\n",
        "# # Print the predicted values\n",
        "# for i, pred in enumerate(predictions_rescaled):\n",
        "#     print(f\"Prediction for sample {i+1}: Temperature={pred[0]}, Humidity={pred[1]}, Load={pred[2]}\")\n"
      ]
    },
    {
      "cell_type": "code",
      "source": [
        "# Evaluate the performance of the DNN model\n",
        "mse = model.evaluate(X_test_scaled, y_test_scaled)\n",
        "print(\"Mean Squared Error:\", mse)"
      ],
      "metadata": {
        "colab": {
          "base_uri": "https://localhost:8080/"
        },
        "outputId": "0598f0d6-a3c8-41b6-c3c6-7ec8eeac9f44",
        "id": "8ghpPC4k9qcf"
      },
      "execution_count": null,
      "outputs": [
        {
          "output_type": "stream",
          "name": "stdout",
          "text": [
            "1051/1051 [==============================] - 2s 2ms/step - loss: 0.0560 - output1_loss: 0.0187 - output2_loss: 0.0188 - output3_loss: 0.0186\n",
            "Mean Squared Error: [0.05604485794901848, 0.018656382337212563, 0.01875092089176178, 0.018637558445334435]\n"
          ]
        }
      ]
    },
    {
      "cell_type": "code",
      "source": [
        "plt.plot(history.history['loss'], label='Training loss')\n",
        "plt.plot(history.history['val_loss'], label='Validation loss')\n",
        "plt.legend()"
      ],
      "metadata": {
        "colab": {
          "base_uri": "https://localhost:8080/",
          "height": 447
        },
        "outputId": "2c9297c9-7d3b-48b5-eb94-d3be3bf83fd1",
        "id": "GTmXAl5M9qcg"
      },
      "execution_count": null,
      "outputs": [
        {
          "output_type": "execute_result",
          "data": {
            "text/plain": [
              "<matplotlib.legend.Legend at 0x7fc7d0399150>"
            ]
          },
          "metadata": {},
          "execution_count": 27
        },
        {
          "output_type": "display_data",
          "data": {
            "text/plain": [
              "<Figure size 640x480 with 1 Axes>"
            ],
            "image/png": "[encoded data removed]"
          },
          "metadata": {}
        }
      ]
    },
    {
      "cell_type": "code",
      "source": [
        "X_train_scaled.shape"
      ],
      "metadata": {
        "colab": {
          "base_uri": "https://localhost:8080/"
        },
        "outputId": "15f54d17-7088-40f7-f118-b47da16c69ee",
        "id": "JNuKcx849qcg"
      },
      "execution_count": null,
      "outputs": [
        {
          "output_type": "execute_result",
          "data": {
            "text/plain": [
              "(23424, 2)"
            ]
          },
          "metadata": {},
          "execution_count": 19
        }
      ]
    }
  ]
}